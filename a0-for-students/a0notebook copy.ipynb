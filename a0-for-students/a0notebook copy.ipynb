{
 "cells": [
  {
   "cell_type": "markdown",
   "id": "c871cbcf-dd59-44f9-b1fd-88a586675d53",
   "metadata": {
    "deletable": false,
    "editable": false,
    "nbgrader": {
     "cell_type": "markdown",
     "checksum": "f219312c8cf9a541653514644019e0ec",
     "grade": false,
     "grade_id": "cell-62a0553f38489491",
     "locked": true,
     "schema_version": 3,
     "solution": false,
     "task": false
    },
    "tags": []
   },
   "source": [
    "# Assignment 0: Getting (to know) the Kardashians\n",
    "## © Cristian Danescu-Niculescu-Mizil 2023\n",
    "## CS/INFO 4300 Language and Information\n",
    "\n",
    "## Due by midnight on Friday January 27th\n",
    "\n",
    "You must completely this assignment **individually**.\n",
    "\n",
    "In this assignment we will be working with transcripts from the reality TV show \"Keeping Up With The Kardashians\" and cleaning the raw transcript data so that we may apply various layers of analysis in later assignments.\n",
    "\n",
    "This assignment **is not intended to be a test of your programming skills**, but to get you familiar with the virtual environment and the structure of the data you will be analyzing. In fact, most of the code is provided and you only need to run through it and address two questions at the end of the notebook.\n",
    "\n",
    "**Learning Objectives**\n",
    "\n",
    "This project aims to help you to get comfortable working with the following tools / technologies / concepts:\n",
    "\n",
    "* The Jupyter Notebook environment\n",
    "* Recap of Python syntax and basic data structures\n",
    "* `virtualenv` or `venv` environment for package dependencies\n",
    "\n",
    "**Academic Integrity and Collaboration**\n",
    "\n",
    "Note that these projects should be completed individually. As a result, all University-standard academic integrity guidelines must be followed.\n",
    "\n",
    "**Guidelines**\n",
    "\n",
    "All cells that contain the blocks that read `# YOUR CODE HERE` are editable and are to be completed to ensure you pass the test-cases. Make sure to write your code where indicated.\n",
    "\n",
    "All cells that read `YOUR ANSWER HERE` are free-response cells that are editable and are to be completed. \n",
    "\n",
    "You may use any number of notebook cells to explore the data and test out your functions, although you will only be graded on the solution itself.\n",
    "\n",
    "You are unable to modify the read-only cells.\n",
    "\n",
    "You should also use Markdown cells to explain your code and discuss your results when necessary.\n",
    "Instructions can be found [here](http://jupyter-notebook.readthedocs.io/en/latest/examples/Notebook/Working%20With%20Markdown%20Cells.html).\n",
    "\n",
    "All floating point values should be printed with **2 decimal places** precision. You can do so using the built-in `round` function.\n",
    "\n",
    "**Grading**\n",
    "\n",
    "For code-completion questions you will be graded on passing the public test cases we have included, as well as any hidden test cases that we have supplemented to ensure that your logic is correct.\n",
    "\n",
    "For free-response questions you will be manually graded on the quality of your answer.\n",
    "\n",
    "**Submission**\n",
    "\n",
    "You are expected to submit this .ipynb as your submission for Assignment 0. \n",
    "\n",
    "In addition please submit an html copy of the notebook (You can create this by clicking `File` > `Download as` > `HTML (.html)`).\n",
    "\n",
    "Make sure you double-check that you submitted what you actually intended by re-downloading the files from CMS after you submitted it. You won't be allowed to update the files after the deadline as stated in the syllabus.\n",
    "\n",
    "**Additional Notes**\n",
    "\n",
    "To setup your environment review the writeup attached to this Assignment. \n",
    "\n",
    "Make sure to fill out the startup quiz on CMS."
   ]
  },
  {
   "cell_type": "code",
   "execution_count": 1,
   "id": "6ccb9e41-89f2-4596-afb1-a3ac78e1e215",
   "metadata": {
    "deletable": false,
    "editable": false,
    "nbgrader": {
     "cell_type": "code",
     "checksum": "f26c63873fce56f3b85c8291152eadb6",
     "grade": false,
     "grade_id": "cell-40cf99b0f2d8d929",
     "locked": true,
     "schema_version": 3,
     "solution": false,
     "task": false
    },
    "tags": []
   },
   "outputs": [],
   "source": [
    "import sys\n",
    "import re\n",
    "from glob import glob\n",
    "import os\n",
    "from itertools import groupby\n",
    "import pickle\n",
    "import bs4\n",
    "import matplotlib.pyplot as plt\n",
    "%matplotlib inline"
   ]
  },
  {
   "cell_type": "code",
   "execution_count": 2,
   "id": "256c9456-59db-488f-8a64-e3caab97fe26",
   "metadata": {
    "deletable": false,
    "editable": false,
    "nbgrader": {
     "cell_type": "code",
     "checksum": "84a07d8be00abff97d78ea0fc4aae8ea",
     "grade": false,
     "grade_id": "cell-18da087b4d436d0e",
     "locked": true,
     "schema_version": 3,
     "solution": false,
     "task": false
    },
    "tags": []
   },
   "outputs": [],
   "source": [
    "# Ensure that your kernel is using Python3\n",
    "assert sys.version_info.major == 3\n",
    "assert sys.version_info.minor == 7"
   ]
  },
  {
   "cell_type": "markdown",
   "id": "3d5f1c07-78ad-42df-9c21-3c97c968f0bc",
   "metadata": {
    "deletable": false,
    "editable": false,
    "nbgrader": {
     "cell_type": "markdown",
     "checksum": "fed240beda2cd115433c8177233d4a9b",
     "grade": false,
     "grade_id": "cell-c456b7484cb6a2ec",
     "locked": true,
     "schema_version": 3,
     "solution": false,
     "task": false
    },
    "tags": []
   },
   "source": [
    "# Processing the transcripts of \"Keeping up with the Kardashians\"\n",
    "\n",
    "Transcripts of this TV show are available online and have been downloaded and provided to you in HTML format. However, they show very weak structure and a lot of noise. There is a lot of work to be done to render them usable for analysis.\n",
    "\n",
    "We will use the *BeautifulSoup* library, which makes working with messy HTML much easier."
   ]
  },
  {
   "cell_type": "code",
   "execution_count": 3,
   "id": "ac0977bc-6203-4989-b055-f5359c30f06d",
   "metadata": {
    "deletable": false,
    "editable": false,
    "nbgrader": {
     "cell_type": "code",
     "checksum": "8414e792cd193166119bc84454bdf84f",
     "grade": false,
     "grade_id": "cell-4557b89c47455ddf",
     "locked": true,
     "schema_version": 3,
     "solution": false,
     "task": false
    },
    "tags": []
   },
   "outputs": [],
   "source": [
    "transcript_filename = \"kardashians_data/livedash_kardashians/273926.html\"\n",
    "with open(transcript_filename) as f:\n",
    "    bsoup = bs4.BeautifulSoup(f, \"html5lib\")"
   ]
  },
  {
   "cell_type": "markdown",
   "id": "4d1f7661-7e75-46c3-8979-56c219219c07",
   "metadata": {
    "deletable": false,
    "editable": false,
    "nbgrader": {
     "cell_type": "markdown",
     "checksum": "dd6e47a56f6b195ab2f55ef88c93a93e",
     "grade": false,
     "grade_id": "cell-20ebae2cc6147528",
     "locked": true,
     "schema_version": 3,
     "solution": false,
     "task": false
    },
    "tags": []
   },
   "source": [
    "The title of the episode transcribed in the current file can be found in the element with the `title` id:"
   ]
  },
  {
   "cell_type": "code",
   "execution_count": 4,
   "id": "5fa1a521-74dc-4d20-b207-b6467e3c08d8",
   "metadata": {
    "deletable": false,
    "editable": false,
    "nbgrader": {
     "cell_type": "code",
     "checksum": "f7e77be6788d84b1dff15d85464ea832",
     "grade": false,
     "grade_id": "cell-d69503a4b41be486",
     "locked": true,
     "schema_version": 3,
     "solution": false,
     "task": false
    },
    "tags": []
   },
   "outputs": [
    {
     "data": {
      "text/plain": [
       "'Keeping Up With the Kardashians - Shape Up or Ship Out'"
      ]
     },
     "execution_count": 4,
     "metadata": {},
     "output_type": "execute_result"
    }
   ],
   "source": [
    "bsoup.find(attrs={'id': 'title'}).get_text()"
   ]
  },
  {
   "cell_type": "markdown",
   "id": "2c5c97fd-2b1a-41df-9ed5-7680509866ab",
   "metadata": {
    "deletable": false,
    "editable": false,
    "nbgrader": {
     "cell_type": "markdown",
     "checksum": "92569f156d162a878d9f552cda2cfbf9",
     "grade": false,
     "grade_id": "cell-3130f603b209349a",
     "locked": true,
     "schema_version": 3,
     "solution": false,
     "task": false
    },
    "tags": []
   },
   "source": [
    "Each line of conversation is a table row with two table cells, one containing the timestamp, the other the text:"
   ]
  },
  {
   "cell_type": "code",
   "execution_count": 5,
   "id": "9acb7230-f685-4118-9f18-c233d627fda7",
   "metadata": {
    "deletable": false,
    "editable": false,
    "nbgrader": {
     "cell_type": "code",
     "checksum": "73925153d1b397ae233af850ef654f01",
     "grade": false,
     "grade_id": "cell-0f955cd1a6ca4e8c",
     "locked": true,
     "schema_version": 3,
     "solution": false,
     "task": false
    },
    "tags": []
   },
   "outputs": [
    {
     "data": {
      "text/plain": [
       "[<tr><td><a name=\"943920369\"></a>00:06:09</td><td>&gt;&gt; KOURTNEY: This one.\n",
       " </td></tr>,\n",
       " <tr><td><a name=\"943920370\"></a>00:06:10</td><td>&gt;&gt; KHLOE: Here, you want this\n",
       " one?\n",
       " </td></tr>,\n",
       " <tr><td><a name=\"943920371\"></a>00:06:11</td><td>&gt;&gt; KOURTNEY: Yes, thank you.\n",
       " </td></tr>,\n",
       " <tr><td><a name=\"943920374\"></a>00:06:14</td><td>&gt;&gt; KOURTNEY: Okay.\n",
       " </td></tr>,\n",
       " <tr><td><a name=\"943920375\"></a>00:06:15</td><td>I like that one better.\n",
       " </td></tr>]"
      ]
     },
     "execution_count": 5,
     "metadata": {},
     "output_type": "execute_result"
    }
   ],
   "source": [
    "bsoup.findAll(\"tr\")[100:105]"
   ]
  },
  {
   "cell_type": "markdown",
   "id": "181316fb-cc6d-4ba0-9bb5-8cd7a7fd3093",
   "metadata": {
    "deletable": false,
    "editable": false,
    "nbgrader": {
     "cell_type": "markdown",
     "checksum": "e1d228111193c205b21616e47d179aea",
     "grade": false,
     "grade_id": "cell-6fe236643785ffb6",
     "locked": true,
     "schema_version": 3,
     "solution": false,
     "task": false
    },
    "tags": []
   },
   "source": [
    "The formatting used by the transcripts is not completely normalized, but follows some patterns.\n",
    "\n",
    "For instance, there are two types of lines:\n",
    "\n",
    " * When a character starts to speak after someone else, this is marked as such:\n",
    " \n",
    "     `>> KOURTNEY: Okay.`\n",
    "\n",
    "\n",
    " * When a character has already been speaking and continues, the line is simply:\n",
    " \n",
    "     `I like that one better.`\n",
    "     \n",
    "     The text in the second kind of line can be considered to be part of the same speech\n",
    "     act as the previous one.\n",
    "\n",
    "However, there are some irregularities in the transcripts that we exemplify and work around.\n",
    "\n",
    "## Extracting valid dialogue"
   ]
  },
  {
   "cell_type": "code",
   "execution_count": 6,
   "id": "cdd2981a-1d56-4878-9734-bba80f374ea8",
   "metadata": {
    "deletable": false,
    "editable": false,
    "nbgrader": {
     "cell_type": "code",
     "checksum": "50543672f9d210a17b3bc6ccb811b724",
     "grade": false,
     "grade_id": "cell-94f554e08e78db4b",
     "locked": true,
     "schema_version": 3,
     "solution": false,
     "task": false
    },
    "tags": []
   },
   "outputs": [],
   "source": [
    "def strip_actions(line):\n",
    "    \"\"\"Some of the texts contain indications about the actions\n",
    "    that the characters do. For example:\n",
    "        \n",
    "        (Kourtney and Khloe laughing) >> BRUCE: Sometimes,\n",
    "        I can get so disappointed with these girls.\n",
    "    \n",
    "    This function should remove everything between parantheses\n",
    "    in the line passed as argument.  You may assume no nesting.\n",
    "    \n",
    "    >>> strip_actions(\"a(bc)d(efg)\")\n",
    "    \"ad\"\n",
    "\n",
    "    \"\"\"\n",
    "    return \"\".join(re.split(\"\\([^\\(\\)]*\\)\", line, flags=re.DOTALL))\n",
    "\n",
    "def break_up_line(line):\n",
    "    \"\"\"When characters take turn in quick succession, we may have two\n",
    "    characters speaking in the same line. Example:\n",
    "\n",
    "        >> SCOTT: Three? >> KOURTNEY: Yeah.\n",
    "    \n",
    "    We should split this line into two appropriate lines.\n",
    "    \n",
    "    >>> break_up_line(\">> SCOTT: Three? >> KOURTNEY: Yeah.\")\n",
    "    ['>> SCOTT: Three?', '>> KOURTNEY: Yeah.']\n",
    "    \n",
    "    For consistency, we should always return a list:\n",
    "    >>> break_up_line(\">> SCOTT: Three?\")\n",
    "    ['>> SCOTT: Three?']\n",
    "    \n",
    "    When there are no indications of who is speaking, simply return\n",
    "    a list containing a single string that contains the text.\n",
    "    \n",
    "    >>> break_up_line(\"I am.\")\n",
    "    ['I am.']\n",
    "    \n",
    "    \"\"\"\n",
    "    lines = line.split(\">>\")\n",
    "    if lines[0].strip() == \"\":\n",
    "        return list(map(lambda s: \">>\" + s.rstrip(), lines[1:]))\n",
    "    else:\n",
    "        return [lines[0].strip()]\n",
    "\n",
    "\n",
    "def is_valid_speaker(speaker_string):\n",
    "    return speaker_string.strip().isupper()\n",
    "\n",
    "def is_valid_transcript_char(char):\n",
    "    return char.isalpha() or char.isdigit() or char in \".?!$\\\"'\""
   ]
  },
  {
   "cell_type": "markdown",
   "id": "a175a89a-d344-484d-b8e5-77953544a7c3",
   "metadata": {
    "deletable": false,
    "editable": false,
    "nbgrader": {
     "cell_type": "markdown",
     "checksum": "859ff2714c78bc71e07326c342ca3072",
     "grade": false,
     "grade_id": "cell-c349e708d6ef47cd",
     "locked": true,
     "schema_version": 3,
     "solution": false,
     "task": false
    },
    "tags": []
   },
   "source": [
    "The bulk of the function that turns a transcript into a usable representation is given below."
   ]
  },
  {
   "cell_type": "code",
   "execution_count": 7,
   "id": "fc4f9e7e-8ff5-434c-81cb-fdbf415c333c",
   "metadata": {
    "deletable": false,
    "editable": false,
    "nbgrader": {
     "cell_type": "code",
     "checksum": "666fe6bd80279315f7b34549f65e0034",
     "grade": false,
     "grade_id": "cell-47a5ca955833d69e",
     "locked": true,
     "schema_version": 3,
     "solution": false,
     "task": false
    },
    "tags": []
   },
   "outputs": [],
   "source": [
    "def parse_kardashians_transcript(raw_html):\n",
    "    bsoup = bs4.BeautifulSoup(raw_html, \"html5lib\")\n",
    "\n",
    "    # Get the title of the TV show\n",
    "    title = bsoup.find(attrs={'id': 'title'})\n",
    "    title = title.get_text() if title else None\n",
    "\n",
    "    transcript = []\n",
    "    speaker = None\n",
    "    \n",
    "    # We maintain an error state. If we reach an invalid line, the captioning\n",
    "    # turned bad (perhaps an advertisement was being captioned instead of the TV show),\n",
    "    # but sometimes it gets fixed.\n",
    "    captioning_broken = False \n",
    "\n",
    "    for row in bsoup.findAll(\"tr\"):\n",
    "        \n",
    "        #  We are looking for table rows that have exactly two cells, and\n",
    "        # the first cell has a timestamp with a link. Skip other table rows.\n",
    "        cells = row.findAll(\"td\")\n",
    "        if len(cells) != 2:\n",
    "            continue\n",
    "        time_cell, text_cell = cells\n",
    "        if len(time_cell.contents) != 2:\n",
    "            continue\n",
    "        anchor, timestamp = time_cell.contents\n",
    "        if anchor.name != 'a':\n",
    "            continue\n",
    "\n",
    "        text = \" \".join(text_cell.get_text().splitlines())\n",
    "        text = strip_actions(text)\n",
    "\n",
    "        for subline in break_up_line(text):\n",
    "            # At this point, subline is a single speech act, which should contain either\n",
    "            # one speaker name and a text, or just the text (if the speaker stays the same).\n",
    "            # e.g. the variable text might be \">> SCOTT: Three?\" right now.\n",
    "            \n",
    "            # Use a regular expression to see if the line has the speaker marked with \">>\".\n",
    "            # The regex should ONLY match if the speaker name is present. If it is, it should\n",
    "            # should return two matching groups, one for the speaker and one for the text.\n",
    "            # e.g. your regex should not match \"I am.\" but it should match \">> SCOTT: Three?\".\n",
    "            # In the later case, the first regex group should match \"SCOTT\" and the second\n",
    "            # regex group should match \"Three?\"\n",
    "            \n",
    "            speaker_re = r'>> (.*): (.+)'\n",
    "            speaker_match = re.match(speaker_re, subline)\n",
    "            orig_subline = subline\n",
    "            if speaker_match:\n",
    "                speaker_string, subline = speaker_match.groups()\n",
    "                if not is_valid_speaker(speaker_string):\n",
    "                    # The speaker is not a valid all-uppercase string, so something is broken.\n",
    "                    captioning_broken = True\n",
    "                else:\n",
    "                    # We have a well-formed line. We can recover and exit the error state.\n",
    "                    captioning_broken = False  \n",
    "                speaker = speaker_string\n",
    "            elif subline.startswith(\">>\"):\n",
    "                # The line starts with \">>\" but doesn't match the speaker regular expression.\n",
    "                captioning_broken = True\n",
    "            if not is_valid_transcript_char(subline[0]):\n",
    "                # The line starts with an invalid character\n",
    "                captioning_broken = True\n",
    "            if speaker is None:\n",
    "                # No speaker has been marked yet, but the lines are plain, as if\n",
    "                # continuing from a known speaker. We cannot tell who is speaking.\n",
    "                captioning_broken = True\n",
    "\n",
    "            if not captioning_broken:\n",
    "                transcript.append(dict(timestamp=timestamp,\n",
    "                                       speaker=speaker,\n",
    "                                       text=subline))\n",
    "    \n",
    "    return title, transcript"
   ]
  },
  {
   "cell_type": "markdown",
   "id": "0b97ccd0-9d83-439b-9938-de0c3622d16e",
   "metadata": {
    "deletable": false,
    "editable": false,
    "nbgrader": {
     "cell_type": "markdown",
     "checksum": "343cb4e1398e1d48084d7c4d93e41c06",
     "grade": false,
     "grade_id": "cell-ef53d8e7b0f981f0",
     "locked": true,
     "schema_version": 3,
     "solution": false,
     "task": false
    },
    "tags": []
   },
   "source": [
    "## Preparing the data for processing.\n",
    "\n",
    "Go through all the provided files and build two dictionaries:\n",
    "\n",
    "* `titles[transcript_id] = ` *title of the episode in the transcript*\n",
    "* `transcripts[transcript_id] = ` *the parsed transcript*\n",
    "\n",
    "as returned by `parse_kardashians_transcript`. A convenient transcript ID is defined by the `_nice_key` function below."
   ]
  },
  {
   "cell_type": "code",
   "execution_count": 8,
   "id": "44a7a8c8-a7dc-415e-9ceb-7f3281c857f1",
   "metadata": {
    "deletable": false,
    "editable": false,
    "nbgrader": {
     "cell_type": "code",
     "checksum": "f2706350a94341f6feea23bb4c3cc17d",
     "grade": false,
     "grade_id": "cell-19fc10e6ed9afac8",
     "locked": true,
     "schema_version": 3,
     "solution": false,
     "task": false
    },
    "tags": []
   },
   "outputs": [
    {
     "data": {
      "text/plain": [
       "'kourtney_and_kim/273926'"
      ]
     },
     "execution_count": 8,
     "metadata": {},
     "output_type": "execute_result"
    }
   ],
   "source": [
    "def _nice_key(file_path):\n",
    "    \"\"\"Convenience function to get a unique transcript ID that is shorter than the filename\"\"\"\n",
    "    return file_path.split(\"_\", 2)[2].rsplit(\".\")[0]\n",
    "\n",
    "_nice_key('kardashians_data/livedash_kourtney_and_kim/273926.html')"
   ]
  },
  {
   "cell_type": "code",
   "execution_count": 9,
   "id": "a7e7ba78-a34f-4820-beba-f1182b9733c4",
   "metadata": {
    "deletable": false,
    "editable": false,
    "nbgrader": {
     "cell_type": "code",
     "checksum": "90b31a989f58317592bb80cf2873e1bf",
     "grade": false,
     "grade_id": "cell-41b922b059e492d9",
     "locked": true,
     "schema_version": 3,
     "solution": false,
     "task": false
    },
    "tags": []
   },
   "outputs": [],
   "source": [
    "import os\n",
    "titles = {}\n",
    "transcripts = {}\n",
    "\n",
    "for subdir in os.listdir(\"kardashians_data\"):\n",
    "    if os.path.isdir(\"kardashians_data/\" + subdir):\n",
    "        for filename in os.listdir(\"kardashians_data/\" + subdir):\n",
    "            path = \"kardashians_data/\" + subdir + \"/\" + filename\n",
    "            if os.path.splitext(path)[1].lower() == \".html\":\n",
    "                transcript_id = _nice_key(path)\n",
    "                with open(path) as f:\n",
    "                    title, transcript = parse_kardashians_transcript(f)\n",
    "                    titles[transcript_id] = title\n",
    "                    transcripts[transcript_id] = transcript "
   ]
  },
  {
   "cell_type": "code",
   "execution_count": 19,
   "id": "203ad833",
   "metadata": {},
   "outputs": [
    {
     "data": {
      "text/plain": [
       "{'kourtney_and_kim/563774': 'Kourtney and Kim Take New York - Down and Out in New York City',\n",
       " 'kourtney_and_kim/567429': 'Kourtney and Kim Take New York - Diva Las Vegas',\n",
       " 'kourtney_and_kim/563299': 'Kourtney and Kim Take New York - Life in the Big City',\n",
       " 'kourtney_and_kim/568145': 'Kourtney and Kim Take New York - Down and Out in New York City',\n",
       " 'kourtney_and_kim/568762': 'Kourtney and Kim Take New York - Sexy in  the City',\n",
       " 'kourtney_and_kim/568960': 'Kourtney and Kim Take New York - Down and Out in New York City',\n",
       " 'kourtney_and_kim/568501': 'Kourtney and Kim Take New York - Diva Las Vegas',\n",
       " 'kourtney_and_kim/563265': 'Kourtney and Kim Take New York - Start Spreading the News',\n",
       " 'kourtney_and_kim/567456': 'Kourtney and Kim Take New York - Life in the Big City',\n",
       " 'kardashians/237773': 'Keeping Up With the Kardashians - Shape Up or Ship Out',\n",
       " 'kardashians/246148': 'Keeping Up With the Kardashians - Shape Up or Ship Out',\n",
       " 'kardashians/333054': 'Keeping Up With the Kardashians - Shape Up or Ship Out',\n",
       " 'kardashians/162141': 'Keeping Up With the Kardashians - Shape Up or Ship Out',\n",
       " 'kardashians/157673': 'Keeping Up With the Kardashians - Shape Up or Ship Out',\n",
       " 'kardashians/180742': 'Keeping Up With the Kardashians - Shape Up or Ship Out',\n",
       " 'kardashians/174689': 'Keeping Up With the Kardashians - Shape Up or Ship Out',\n",
       " 'kardashians/160263': 'Keeping Up With the Kardashians - Shape Up or Ship Out',\n",
       " 'kardashians/157813': 'Keeping Up With the Kardashians - Shape Up or Ship Out',\n",
       " 'kardashians/170815': 'Keeping Up With the Kardashians - Shape Up or Ship Out',\n",
       " 'kardashians/163844': 'Keeping Up With the Kardashians - Shape Up or Ship Out',\n",
       " 'kardashians/207785': 'Keeping Up With the Kardashians - Shape Up or Ship Out',\n",
       " 'kardashians/194927': 'Keeping Up With the Kardashians - Shape Up or Ship Out',\n",
       " 'kardashians/172259': 'Keeping Up With the Kardashians - Shape Up or Ship Out',\n",
       " 'kardashians/159125': 'Keeping Up With the Kardashians - Shape Up or Ship Out',\n",
       " 'kardashians/481245': 'Keeping Up With the Kardashians - Shape Up or Ship Out',\n",
       " 'kardashians/239818': 'Keeping Up With the Kardashians - Shape Up or Ship Out',\n",
       " 'kardashians/324076': 'Keeping Up With the Kardashians - Shape Up or Ship Out',\n",
       " 'kardashians/228602': 'Keeping Up With the Kardashians - Shape Up or Ship Out',\n",
       " 'kardashians/173982': None,\n",
       " 'kardashians/161086': 'Keeping Up With the Kardashians - Shape Up or Ship Out',\n",
       " 'kardashians/192717': 'Keeping Up With the Kardashians - Shape Up or Ship Out',\n",
       " 'kardashians/175615': 'Keeping Up With the Kardashians - Shape Up or Ship Out',\n",
       " 'kardashians/164454': 'Keeping Up With the Kardashians - Shape Up or Ship Out',\n",
       " 'kardashians/162959': 'Keeping Up With the Kardashians - Shape Up or Ship Out',\n",
       " 'kardashians/202730': 'Keeping Up With the Kardashians - Shape Up or Ship Out',\n",
       " 'kardashians/171476': 'Keeping Up With the Kardashians - Shape Up or Ship Out',\n",
       " 'kardashians/349944': 'Keeping Up With the Kardashians - Shape Up or Ship Out',\n",
       " 'kardashians/322698': 'Keeping Up With the Kardashians - Shape Up or Ship Out',\n",
       " 'kardashians/153950': 'Keeping Up With the Kardashians - Shape Up or Ship Out',\n",
       " 'kardashians/481247': 'Keeping Up With the Kardashians - Shape Up or Ship Out',\n",
       " 'kardashians/291293': 'Keeping Up With the Kardashians - Shape Up or Ship Out',\n",
       " 'kardashians/153890': 'Keeping Up With the Kardashians - Shape Up or Ship Out',\n",
       " 'kardashians/256669': 'Keeping Up With the Kardashians - Shape Up or Ship Out',\n",
       " 'kardashians/462383': 'Keeping Up With the Kardashians - Shape Up or Ship Out',\n",
       " 'kardashians/169057': 'Keeping Up With the Kardashians - Shape Up or Ship Out',\n",
       " 'kardashians/201726': 'Keeping Up With the Kardashians - Shape Up or Ship Out',\n",
       " 'kardashians/181367': 'Keeping Up With the Kardashians - Shape Up or Ship Out',\n",
       " 'kardashians/418228': 'Keeping Up With the Kardashians - Shape Up or Ship Out',\n",
       " 'kardashians/185811': 'Keeping Up With the Kardashians - Shape Up or Ship Out',\n",
       " 'kardashians/172682': 'Keeping Up With the Kardashians - Shape Up or Ship Out',\n",
       " 'kardashians/184451': 'Keeping Up With the Kardashians - Shape Up or Ship Out',\n",
       " 'kardashians/235690': 'Keeping Up With the Kardashians - Shape Up or Ship Out',\n",
       " 'kardashians/188805': 'Keeping Up With the Kardashians - Shape Up or Ship Out',\n",
       " 'kardashians/198385': 'Keeping Up With the Kardashians - Shape Up or Ship Out',\n",
       " 'kardashians/273926': 'Keeping Up With the Kardashians - Shape Up or Ship Out',\n",
       " 'kardashians2/507032': \"Keeping Up With the Kardashians - Kourt's First Cover\",\n",
       " 'kardashians2/327759': 'Keeping Up With the Kardashians - All for One and One for Kim',\n",
       " 'kardashians2/202352': 'Keeping Up With the Kardashians - Distance Makes the Heart Grow Fonder',\n",
       " 'kardashians2/304449': 'Keeping Up With the Kardashians - Leaving the Nest',\n",
       " 'kardashians2/88198': \"Keeping Up With the Kardashians - Khloe's Blind Dates\",\n",
       " 'kardashians2/597739': 'Keeping Up With the Kardashians - Family vs. Money',\n",
       " 'kardashians2/332078': \"Keeping Up With the Kardashians - Kim's Calendar for Reggie\",\n",
       " 'kardashians2/333054': 'Keeping Up With the Kardashians - Shape Up or Ship Out',\n",
       " 'kardashians2/272378': 'Keeping Up With the Kardashians - Birthday Suit',\n",
       " 'kardashians2/157673': 'Keeping Up With the Kardashians - Shape Up or Ship Out',\n",
       " 'kardashians2/522275': 'Keeping Up With the Kardashians - Blind Date',\n",
       " 'kardashians2/272362': 'Keeping Up With the Kardashians - Brody in the House',\n",
       " 'kardashians2/236786': 'Keeping Up With the Kardashians - Birthday Suit',\n",
       " 'kardashians2/174689': 'Keeping Up With the Kardashians - Shape Up or Ship Out',\n",
       " 'kardashians2/208292': 'Keeping Up With the Kardashians - Delivering Baby Mason',\n",
       " 'kardashians2/332117': \"Keeping Up With the Kardashians - I'd Rather Go Naked... Or Shopping\",\n",
       " 'kardashians2/59950': 'Keeping Up With the Kardashians - Distance Makes the Heart Grow Fonder',\n",
       " 'kardashians2/164513': 'Keeping Up With the Kardashians - Must Love Dogs',\n",
       " 'kardashians2/231988': 'Keeping Up With the Kardashians - Leaving the Nest',\n",
       " 'kardashians2/207785': 'Keeping Up With the Kardashians - Shape Up or Ship Out',\n",
       " 'kardashians2/166369': 'Keeping Up With the Kardashians - Must Love Dogs',\n",
       " 'kardashians2/328166': 'Keeping Up With the Kardashians - Kris the Cheerleader',\n",
       " 'kardashians2/524715': 'Keeping Up With the Kardashians - Kourt Goes A.W.O.L.',\n",
       " 'kardashians2/194927': 'Keeping Up With the Kardashians - Shape Up or Ship Out',\n",
       " 'kardashians2/172259': 'Keeping Up With the Kardashians - Shape Up or Ship Out',\n",
       " 'kardashians2/418575': 'Keeping Up With the Kardashians - Leaving the Nest',\n",
       " 'kardashians2/476669': 'Keeping Up With the Kardashians - Match Made in Hell',\n",
       " 'kardashians2/520783': 'Keeping Up With the Kardashians - The Wedding',\n",
       " 'kardashians2/198197': 'Keeping Up With the Kardashians - Baby Blues',\n",
       " 'kardashians2/310046': 'Keeping Up With the Kardashians - Blame It on the Alcohol',\n",
       " 'kardashians2/159125': 'Keeping Up With the Kardashians - Shape Up or Ship Out',\n",
       " 'kardashians2/487955': 'Keeping Up With the Kardashians - The Kardashians Take NYC',\n",
       " 'kardashians2/421463': 'Keeping Up With the Kardashians - Weekend From Hell',\n",
       " 'kardashians2/60149': 'Keeping Up With the Kardashians - Double Trouble',\n",
       " 'kardashians2/597437': \"Keeping Up With the Kardashians - Kris ``The Cougar'' Jenner\",\n",
       " 'kardashians2/120908': 'Keeping Up With the Kardashians - Kardashian Family Vacation',\n",
       " 'kardashians2/228602': 'Keeping Up With the Kardashians - Shape Up or Ship Out',\n",
       " 'kardashians2/515706': 'Keeping Up With the Kardashians - The Kardashians Take NYC',\n",
       " 'kardashians2/161086': 'Keeping Up With the Kardashians - Shape Up or Ship Out',\n",
       " 'kardashians2/481320': 'Keeping Up With the Kardashians - Must Love Dogs',\n",
       " 'kardashians2/514592': 'Keeping Up With the Kardashians - A New Perspective in New Orleans',\n",
       " 'kardashians2/59929': \"Keeping Up With the Kardashians - Rob's New Girlfriend\",\n",
       " 'kardashians2/192717': 'Keeping Up With the Kardashians - Shape Up or Ship Out',\n",
       " 'kardashians2/254473': \"Keeping Up With the Kardashians - Kourt's First Cover\",\n",
       " 'kardashians2/293313': 'Keeping Up With the Kardashians - All for One and One for Kim',\n",
       " 'kardashians2/175615': 'Keeping Up With the Kardashians - Shape Up or Ship Out',\n",
       " 'kardashians2/164454': 'Keeping Up With the Kardashians - Shape Up or Ship Out',\n",
       " 'kardashians2/60131': \"Keeping Up With the Kardashians - Kim's Calendar for Reggie\",\n",
       " 'kardashians2/62730': 'Keeping Up With the Kardashians - Junk in the Trunk',\n",
       " 'kardashians2/162959': 'Keeping Up With the Kardashians - Shape Up or Ship Out',\n",
       " 'kardashians2/462716': 'Keeping Up With the Kardashians - Match Made in Hell',\n",
       " 'kardashians2/202730': 'Keeping Up With the Kardashians - Shape Up or Ship Out',\n",
       " 'kardashians2/516959': 'Keeping Up With the Kardashians - The Missing Ring',\n",
       " 'kardashians2/184499': 'Keeping Up With the Kardashians - Must Love Dogs',\n",
       " 'kardashians2/53369': 'Keeping Up With the Kardashians - Distance Makes the Heart Grow Fonder',\n",
       " 'kardashians2/171476': 'Keeping Up With the Kardashians - Shape Up or Ship Out',\n",
       " 'kardashians2/487096': \"Keeping Up With the Kardashians - Kris ``The Cougar'' Jenner\",\n",
       " 'kardashians2/322698': 'Keeping Up With the Kardashians - Shape Up or Ship Out',\n",
       " 'kardashians2/153950': 'Keeping Up With the Kardashians - Shape Up or Ship Out',\n",
       " 'kardashians2/209686': 'Keeping Up With the Kardashians - Delivering Baby Mason',\n",
       " 'kardashians2/481247': 'Keeping Up With the Kardashians - Shape Up or Ship Out',\n",
       " 'kardashians2/465115': 'Keeping Up With the Kardashians - Match Made in Hell',\n",
       " 'kardashians2/481494': \"Keeping Up With the Kardashians - Kris ``The Cougar'' Jenner\",\n",
       " 'kardashians2/291293': 'Keeping Up With the Kardashians - Shape Up or Ship Out',\n",
       " 'kardashians2/59945': 'Keeping Up With the Kardashians - Free Khloe',\n",
       " 'kardashians2/213003_001': 'Keeping Up With the Kardashians - Blame It on the Alcohol',\n",
       " 'kardashians2/238522': 'Keeping Up With the Kardashians - Delivering Baby Mason',\n",
       " 'kardashians2/153890': 'Keeping Up With the Kardashians - Shape Up or Ship Out',\n",
       " 'kardashians2/59935': 'Keeping Up With the Kardashians - Khloe Wants to Act',\n",
       " 'kardashians2/524814': 'Keeping Up With the Kardashians - The Kardashians Take NYC',\n",
       " 'kardashians2/417450': 'Keeping Up With the Kardashians - Pussycat Vision',\n",
       " 'kardashians2/463984': 'Keeping Up With the Kardashians - Match Made in Hell',\n",
       " 'kardashians2/198384': 'Keeping Up With the Kardashians - Must Love Dogs',\n",
       " 'kardashians2/169057': 'Keeping Up With the Kardashians - Shape Up or Ship Out',\n",
       " 'kardashians2/195735': 'Keeping Up With the Kardashians - Weekend From Hell',\n",
       " 'kardashians2/201726': 'Keeping Up With the Kardashians - Shape Up or Ship Out',\n",
       " 'kardashians2/514446': 'Keeping Up With the Kardashians - Kardashian Civil War',\n",
       " 'kardashians2/59939': 'Keeping Up With the Kardashians - Kris the Cheerleader',\n",
       " 'kardashians2/213003': 'Keeping Up With the Kardashians - Blame It on the Alcohol',\n",
       " 'kardashians2/59978': 'Keeping Up With the Kardashians - Kardashian Civil War',\n",
       " 'kardashians2/238492': 'Keeping Up With the Kardashians - I Want Your Sex',\n",
       " 'kardashians2/523922': 'Keeping Up With the Kardashians - Baby Blues',\n",
       " 'kardashians2/440790': 'Keeping Up With the Kardashians - The Missing Ring',\n",
       " 'kardashians2/446081': 'Keeping Up With the Kardashians - Botox and Cigarettes',\n",
       " 'kardashians2/202385': 'Keeping Up With the Kardashians - Meet the Kardashians',\n",
       " 'kardashians2/60792': \"Keeping Up With the Kardashians - Khloe's Blind Dates\",\n",
       " 'kardashians2/395264': \"Keeping Up With the Kardashians - Kim's Calendar for Reggie\",\n",
       " 'kardashians2/523923': 'Keeping Up With the Kardashians - Hot Cup of Love',\n",
       " 'kardashians2/285038': 'Keeping Up With the Kardashians - Body Blows',\n",
       " 'kardashians2/597452': 'Keeping Up With the Kardashians - Family vs. Money',\n",
       " 'kardashians2/172682': 'Keeping Up With the Kardashians - Shape Up or Ship Out',\n",
       " 'kardashians2/427287': \"Keeping Up With the Kardashians - What's Yours Is Mine\",\n",
       " 'kardashians2/409843': 'Keeping Up With the Kardashians - Delivering Baby Mason',\n",
       " 'kardashians2/184451': 'Keeping Up With the Kardashians - Shape Up or Ship Out',\n",
       " 'kardashians2/198385': 'Keeping Up With the Kardashians - Shape Up or Ship Out',\n",
       " 'kardashians2/254395': 'Keeping Up With the Kardashians - Kim Becomes a Diva',\n",
       " 'kardashians2/166360': 'Keeping Up With the Kardashians - Baby Blues',\n",
       " 'kardashians3/148122': 'Keeping Up With the Kardashians - Hot Cup of Love',\n",
       " 'kardashians3/47047': 'Keeping Up With the Kardashians - Free Khloe',\n",
       " 'kardashians3/327759': 'Keeping Up With the Kardashians - All for One and One for Kim',\n",
       " 'kardashians3/297342': \"Keeping Up With the Kardashians - Rob's New Girlfriend\",\n",
       " 'kardashians3/304449': 'Keeping Up With the Kardashians - Leaving the Nest',\n",
       " 'kardashians3/88198': \"Keeping Up With the Kardashians - Khloe's Blind Dates\",\n",
       " 'kardashians3/597739': 'Keeping Up With the Kardashians - Family vs. Money',\n",
       " 'kardashians3/332078': \"Keeping Up With the Kardashians - Kim's Calendar for Reggie\",\n",
       " 'kardashians3/103691': 'Keeping Up With the Kardashians - Free Khloe',\n",
       " 'kardashians3/237773': 'Keeping Up With the Kardashians - Shape Up or Ship Out',\n",
       " 'kardashians3/404818': \"Keeping Up With the Kardashians - I'm Watching You\",\n",
       " 'kardashians3/333054': 'Keeping Up With the Kardashians - Shape Up or Ship Out',\n",
       " 'kardashians3/272378': 'Keeping Up With the Kardashians - Birthday Suit',\n",
       " 'kardashians3/162141': 'Keeping Up With the Kardashians - Shape Up or Ship Out',\n",
       " 'kardashians3/157673': 'Keeping Up With the Kardashians - Shape Up or Ship Out',\n",
       " 'kardashians3/297314': 'Keeping Up With the Kardashians - Kim Becomes a Diva',\n",
       " 'kardashians3/180742': 'Keeping Up With the Kardashians - Shape Up or Ship Out',\n",
       " 'kardashians3/522275': 'Keeping Up With the Kardashians - Blind Date',\n",
       " 'kardashians3/183908': 'Keeping Up With the Kardashians - Must Love Dogs',\n",
       " 'kardashians3/272362': 'Keeping Up With the Kardashians - Brody in the House',\n",
       " 'kardashians3/415157': 'Keeping Up With the Kardashians - Kris the Cheerleader',\n",
       " 'kardashians3/174689': 'Keeping Up With the Kardashians - Shape Up or Ship Out',\n",
       " 'kardashians3/170815': 'Keeping Up With the Kardashians - Shape Up or Ship Out',\n",
       " 'kardashians3/332117': \"Keeping Up With the Kardashians - I'd Rather Go Naked... Or Shopping\",\n",
       " 'kardashians3/122627': 'The Wedding: Keeping Up With the Kardashians',\n",
       " 'kardashians3/59950': 'Keeping Up With the Kardashians - Distance Makes the Heart Grow Fonder',\n",
       " 'kardashians3/164513': 'Keeping Up With the Kardashians - Must Love Dogs',\n",
       " 'kardashians3/207785': 'Keeping Up With the Kardashians - Shape Up or Ship Out',\n",
       " 'kardashians3/166369': 'Keeping Up With the Kardashians - Must Love Dogs',\n",
       " 'kardashians3/409796': 'Keeping Up With the Kardashians - Blame It on the Alcohol',\n",
       " 'kardashians3/524715': 'Keeping Up With the Kardashians - Kourt Goes A.W.O.L.',\n",
       " 'kardashians3/194927': 'Keeping Up With the Kardashians - Shape Up or Ship Out',\n",
       " 'kardashians3/172259': 'Keeping Up With the Kardashians - Shape Up or Ship Out',\n",
       " 'kardashians3/415111': \"Keeping Up With the Kardashians - Rob's New Girlfriend\",\n",
       " 'kardashians3/415202': 'Keeping Up With the Kardashians - Learning Self Defense',\n",
       " 'kardashians3/520783': 'Keeping Up With the Kardashians - The Wedding',\n",
       " 'kardashians3/198197': 'Keeping Up With the Kardashians - Baby Blues',\n",
       " 'kardashians3/152397': 'The Wedding: Keeping Up With the Kardashians',\n",
       " 'kardashians3/327636': 'Keeping Up With the Kardashians - Free Khloe',\n",
       " 'kardashians3/310046': 'Keeping Up With the Kardashians - Blame It on the Alcohol',\n",
       " 'kardashians3/159125': 'Keeping Up With the Kardashians - Shape Up or Ship Out',\n",
       " 'kardashians3/487955': 'Keeping Up With the Kardashians - The Kardashians Take NYC',\n",
       " 'kardashians3/481245': 'Keeping Up With the Kardashians - Shape Up or Ship Out',\n",
       " 'kardashians3/239818': 'Keeping Up With the Kardashians - Shape Up or Ship Out',\n",
       " 'kardashians3/151017': 'Keeping Up With the Kardashians - Hot Cup of Love',\n",
       " 'kardashians3/183963': 'Keeping Up With the Kardashians - Weekend From Hell',\n",
       " 'kardashians3/421232': 'Keeping Up With the Kardashians - Delivering Baby Mason',\n",
       " 'kardashians3/50855': 'Keeping Up With the Kardashians - All for One and One for Kim',\n",
       " 'kardashians3/597437': \"Keeping Up With the Kardashians - Kris ``The Cougar'' Jenner\",\n",
       " 'kardashians3/120908': 'Keeping Up With the Kardashians - Kardashian Family Vacation',\n",
       " 'kardashians3/118432': 'The Wedding: Keeping Up With the Kardashians',\n",
       " 'kardashians3/503943': \"Keeping Up With the Kardashians - Kris ``The Cougar'' Jenner\",\n",
       " 'kardashians3/228602': 'Keeping Up With the Kardashians - Shape Up or Ship Out',\n",
       " 'kardashians3/515706': 'Keeping Up With the Kardashians - The Kardashians Take NYC',\n",
       " 'kardashians3/161086': 'Keeping Up With the Kardashians - Shape Up or Ship Out',\n",
       " 'kardashians3/63440': 'Keeping Up With the Kardashians - The Price of Fame',\n",
       " 'kardashians3/514592': 'Keeping Up With the Kardashians - A New Perspective in New Orleans',\n",
       " 'kardashians3/31408': 'Keeping Up With the Kardashians - All for One and One for Kim',\n",
       " 'kardashians3/363835': 'Keeping Up With the Kardashians - You Are So Pregnant Dude',\n",
       " 'kardashians3/59929': \"Keeping Up With the Kardashians - Rob's New Girlfriend\",\n",
       " 'kardashians3/106481': 'The Wedding: Keeping Up With the Kardashians',\n",
       " 'kardashians3/192717': 'Keeping Up With the Kardashians - Shape Up or Ship Out',\n",
       " 'kardashians3/254473': \"Keeping Up With the Kardashians - Kourt's First Cover\",\n",
       " 'kardashians3/293313': 'Keeping Up With the Kardashians - All for One and One for Kim',\n",
       " 'kardashians3/175615': 'Keeping Up With the Kardashians - Shape Up or Ship Out',\n",
       " 'kardashians3/164454': 'Keeping Up With the Kardashians - Shape Up or Ship Out',\n",
       " 'kardashians3/63463': 'Keeping Up With the Kardashians - Khloe Wants to Act',\n",
       " 'kardashians3/60131': \"Keeping Up With the Kardashians - Kim's Calendar for Reggie\",\n",
       " 'kardashians3/62730': 'Keeping Up With the Kardashians - Junk in the Trunk',\n",
       " 'kardashians3/162959': 'Keeping Up With the Kardashians - Shape Up or Ship Out',\n",
       " 'kardashians3/245110': 'Keeping Up With the Kardashians - Blame It on the Alcohol',\n",
       " 'kardashians3/300212': \"Keeping Up With the Kardashians - Khloe's Blind Dates\",\n",
       " 'kardashians3/198382': 'Keeping Up With the Kardashians - Body Blows',\n",
       " 'kardashians3/70275': 'Keeping Up With the Kardashians - Birthday Suit',\n",
       " 'kardashians3/146991': 'Keeping Up With the Kardashians - Hot Cup of Love',\n",
       " 'kardashians3/202730': 'Keeping Up With the Kardashians - Shape Up or Ship Out',\n",
       " 'kardashians3/75124': 'Keeping Up With the Kardashians - Double Trouble',\n",
       " 'kardashians3/184499': 'Keeping Up With the Kardashians - Must Love Dogs',\n",
       " 'kardashians3/41991': 'Keeping Up With the Kardashians - Distance Makes the Heart Grow Fonder',\n",
       " 'kardashians3/53369': 'Keeping Up With the Kardashians - Distance Makes the Heart Grow Fonder',\n",
       " 'kardashians3/171476': 'Keeping Up With the Kardashians - Shape Up or Ship Out',\n",
       " 'kardashians3/487096': \"Keeping Up With the Kardashians - Kris ``The Cougar'' Jenner\",\n",
       " 'kardashians3/349944': 'Keeping Up With the Kardashians - Shape Up or Ship Out',\n",
       " 'kardashians3/395239': \"Keeping Up With the Kardashians - Khloe's Blind Dates\",\n",
       " 'kardashians3/322698': 'Keeping Up With the Kardashians - Shape Up or Ship Out',\n",
       " 'kardashians3/153950': 'Keeping Up With the Kardashians - Shape Up or Ship Out',\n",
       " 'kardashians3/209686': 'Keeping Up With the Kardashians - Delivering Baby Mason',\n",
       " 'kardashians3/481247': 'Keeping Up With the Kardashians - Shape Up or Ship Out',\n",
       " 'kardashians3/291293': 'Keeping Up With the Kardashians - Shape Up or Ship Out',\n",
       " 'kardashians3/215847': 'The Wedding: Keeping Up With the Kardashians',\n",
       " 'kardashians3/210690': 'Keeping Up With the Kardashians - Delivering Baby Mason',\n",
       " 'kardashians3/50861': \"Keeping Up With the Kardashians - I'd Rather Go Naked... Or Shopping\",\n",
       " 'kardashians3/238522': 'Keeping Up With the Kardashians - Delivering Baby Mason',\n",
       " 'kardashians3/254438': 'Keeping Up With the Kardashians - Kardashian Family Vacation',\n",
       " 'kardashians3/349884': 'Keeping Up With the Kardashians - Hot Cup of Love',\n",
       " 'kardashians3/256669': 'Keeping Up With the Kardashians - Shape Up or Ship Out',\n",
       " 'kardashians3/59935': 'Keeping Up With the Kardashians - Khloe Wants to Act',\n",
       " 'kardashians3/524814': 'Keeping Up With the Kardashians - The Kardashians Take NYC',\n",
       " 'kardashians3/462383': 'Keeping Up With the Kardashians - Shape Up or Ship Out',\n",
       " 'kardashians3/463984': 'Keeping Up With the Kardashians - Match Made in Hell',\n",
       " 'kardashians3/213865': 'Keeping Up With the Kardashians - Delivering Baby Mason',\n",
       " 'kardashians3/324874': 'Keeping Up With the Kardashians - Khloe Wants to Act',\n",
       " 'kardashians3/198384': 'Keeping Up With the Kardashians - Must Love Dogs',\n",
       " 'kardashians3/382001': 'Keeping Up With the Kardashians - Khloe Wants to Act',\n",
       " 'kardashians3/169057': 'Keeping Up With the Kardashians - Shape Up or Ship Out',\n",
       " 'kardashians3/195735': 'Keeping Up With the Kardashians - Weekend From Hell',\n",
       " 'kardashians3/201726': 'Keeping Up With the Kardashians - Shape Up or Ship Out',\n",
       " 'kardashians3/181367': 'Keeping Up With the Kardashians - Shape Up or Ship Out',\n",
       " 'kardashians3/463951': 'Keeping Up With the Kardashians - Kourt Goes A.W.O.L.',\n",
       " 'kardashians3/514446': 'Keeping Up With the Kardashians - Kardashian Civil War',\n",
       " 'kardashians3/213003': 'Keeping Up With the Kardashians - Blame It on the Alcohol',\n",
       " 'kardashians3/59978': 'Keeping Up With the Kardashians - Kardashian Civil War',\n",
       " 'kardashians3/238492': 'Keeping Up With the Kardashians - I Want Your Sex',\n",
       " 'kardashians3/465489': 'Keeping Up With the Kardashians - My Bodyguard',\n",
       " 'kardashians3/80569': \"Keeping Up With the Kardashians - I'd Rather Go Naked... Or Shopping\",\n",
       " 'kardashians3/200316': 'Keeping Up With the Kardashians - Blame It on the Alcohol',\n",
       " 'kardashians3/418228': 'Keeping Up With the Kardashians - Shape Up or Ship Out',\n",
       " 'kardashians3/363798': 'Keeping Up With the Kardashians - Remembering Dad',\n",
       " 'kardashians3/521661': 'Keeping Up With the Kardashians - Blame It on the Alcohol',\n",
       " 'kardashians3/446081': 'Keeping Up With the Kardashians - Botox and Cigarettes',\n",
       " 'kardashians3/202385': 'Keeping Up With the Kardashians - Meet the Kardashians',\n",
       " 'kardashians3/49369': 'Keeping Up With the Kardashians - The Two Year Itch',\n",
       " 'kardashians3/446868': 'Keeping Up With the Kardashians - Delivering Baby Mason',\n",
       " 'kardashians3/395264': \"Keeping Up With the Kardashians - Kim's Calendar for Reggie\",\n",
       " 'kardashians3/465488': 'Keeping Up With the Kardashians - Kourt Goes A.W.O.L.',\n",
       " 'kardashians3/523923': 'Keeping Up With the Kardashians - Hot Cup of Love',\n",
       " 'kardashians3/285038': 'Keeping Up With the Kardashians - Body Blows',\n",
       " 'kardashians3/597452': 'Keeping Up With the Kardashians - Family vs. Money',\n",
       " 'kardashians3/436615': 'Keeping Up With the Kardashians - Managing Mom',\n",
       " 'kardashians3/90397': \"Keeping Up With the Kardashians - Kourt's First Cover\",\n",
       " 'kardashians3/427287': \"Keeping Up With the Kardashians - What's Yours Is Mine\",\n",
       " 'kardashians3/106185': 'The Wedding: Keeping Up With the Kardashians',\n",
       " 'kardashians3/184451': 'Keeping Up With the Kardashians - Shape Up or Ship Out',\n",
       " 'kardashians3/363865': 'Keeping Up With the Kardashians - Helping Hand',\n",
       " 'kardashians3/60751': 'Keeping Up With the Kardashians - Kim Becomes a Diva',\n",
       " 'kardashians3/235690': 'Keeping Up With the Kardashians - Shape Up or Ship Out',\n",
       " 'kardashians3/198385': 'Keeping Up With the Kardashians - Shape Up or Ship Out',\n",
       " 'kardashians3/254395': 'Keeping Up With the Kardashians - Kim Becomes a Diva',\n",
       " 'kardashians3/53379': 'Keeping Up With the Kardashians - Leaving the Nest',\n",
       " 'kardashians3/75119': \"Keeping Up With the Kardashians - What's Yours Is Mine\",\n",
       " 'kardashians3/166360': 'Keeping Up With the Kardashians - Baby Blues',\n",
       " 'kardashians3/273926': 'Keeping Up With the Kardashians - Shape Up or Ship Out'}"
      ]
     },
     "execution_count": 19,
     "metadata": {},
     "output_type": "execute_result"
    }
   ],
   "source": []
  },
  {
   "cell_type": "markdown",
   "id": "a1935975-7b27-4796-9b49-f0d563065801",
   "metadata": {
    "deletable": false,
    "editable": false,
    "nbgrader": {
     "cell_type": "markdown",
     "checksum": "8759e85e6b0a8e196b29456f0bc8be92",
     "grade": false,
     "grade_id": "cell-ffc5dc7cdfd85445",
     "locked": true,
     "schema_version": 3,
     "solution": false,
     "task": false
    },
    "tags": []
   },
   "source": [
    "We can now count the number of messages that are stored in the transcripts:"
   ]
  },
  {
   "cell_type": "code",
   "execution_count": 14,
   "id": "06aee939-6afc-422e-a776-6de2694a8d37",
   "metadata": {
    "deletable": false,
    "editable": false,
    "nbgrader": {
     "cell_type": "code",
     "checksum": "5472ea6b5ae0437b4e3bdd3e78af1b5d",
     "grade": false,
     "grade_id": "cell-2d37bce7a82acdc5",
     "locked": true,
     "schema_version": 3,
     "solution": false,
     "task": false
    },
    "tags": []
   },
   "outputs": [
    {
     "data": {
      "text/plain": [
       "202230"
      ]
     },
     "execution_count": 14,
     "metadata": {},
     "output_type": "execute_result"
    }
   ],
   "source": [
    "sum(map(lambda t: len(t), transcripts.values()))"
   ]
  },
  {
   "cell_type": "code",
   "execution_count": 15,
   "id": "03945f60-b56e-4ba6-9811-b5ac78883fc2",
   "metadata": {
    "deletable": false,
    "editable": false,
    "nbgrader": {
     "cell_type": "code",
     "checksum": "a2a3faed6dc84eb3e54b008b9e600632",
     "grade": false,
     "grade_id": "cell-3bccb40bcb4ab406",
     "locked": true,
     "schema_version": 3,
     "solution": false,
     "task": false
    },
    "tags": []
   },
   "outputs": [
    {
     "data": {
      "text/plain": [
       "1"
      ]
     },
     "execution_count": 15,
     "metadata": {},
     "output_type": "execute_result"
    }
   ],
   "source": [
    "len(set({'kardashians/273926': 'Keeping Up With the Kardashians - Shape Up or Ship Out',\n",
    " 'kardashians/273926': 'Keeping Up With the Kardashians - Shape Up or Ship Out'}.values()))"
   ]
  },
  {
   "cell_type": "markdown",
   "id": "301a57ab-dd5e-419b-9d54-61b51b837e57",
   "metadata": {
    "deletable": false,
    "editable": false,
    "nbgrader": {
     "cell_type": "markdown",
     "checksum": "623ad4a5ceea3027bcf8b6c57e1ffd06",
     "grade": false,
     "grade_id": "cell-a9dd27b82b593022",
     "locked": true,
     "schema_version": 3,
     "solution": false,
     "task": false
    },
    "tags": []
   },
   "source": [
    "## Question 1 (Code Completion): Analysis of Episode Titles\n",
    "Multiple HTML files could contain the transcripts from the same episode, which is indicated by the title, resulting in duplicates in our data.\n",
    "\n",
    "*In the cell below complete the function to determine how many distinct episodes are present in the files?*"
   ]
  },
  {
   "cell_type": "code",
   "execution_count": 24,
   "id": "b7baec59-846f-47f2-acb6-0bdf72c659b6",
   "metadata": {
    "deletable": false,
    "nbgrader": {
     "cell_type": "code",
     "checksum": "a0f4591a48d515f34dc552067149a78e",
     "grade": false,
     "grade_id": "cell-86c44bc26dedfee9",
     "locked": false,
     "schema_version": 3,
     "solution": true,
     "task": false
    },
    "tags": []
   },
   "outputs": [
    {
     "data": {
      "text/plain": [
       "56"
      ]
     },
     "execution_count": 24,
     "metadata": {},
     "output_type": "execute_result"
    }
   ],
   "source": [
    "def num_episodes(input_titles):\n",
    "    \"\"\" Method takes in the titles and returns the number of distinct episodes\n",
    "    \n",
    "        Note: What kind of data structure should be used here? \n",
    "        Note: We generally recommend using the local variables (in this case, 'input_titles') \n",
    "        when filling out these functions.\n",
    "    \"\"\"\n",
    "\n",
    "    distinct_value = {value for value in input_titles.values()}\n",
    "    return len(distinct_value)\n",
    "\n",
    "\n",
    "\n",
    "        \n",
    "num_episodes(titles)"
   ]
  },
  {
   "cell_type": "code",
   "execution_count": 25,
   "id": "15808493-7ec3-4e15-8fb3-97ad883abc41",
   "metadata": {
    "deletable": false,
    "editable": false,
    "nbgrader": {
     "cell_type": "code",
     "checksum": "56270d0091761db88d62210b189b349f",
     "grade": true,
     "grade_id": "cell-f017d0daf965aab2",
     "locked": true,
     "points": 5,
     "schema_version": 3,
     "solution": false,
     "task": false
    },
    "tags": []
   },
   "outputs": [],
   "source": [
    "\"\"\"Check that num_episodes returns the correct output\"\"\"    \n",
    "assert num_episodes(titles) == 56, f\"{num_episodes(titles)} titles\""
   ]
  },
  {
   "cell_type": "markdown",
   "id": "4d11538c-abf2-45e1-bb62-8aba201c86f2",
   "metadata": {
    "deletable": false,
    "editable": false,
    "nbgrader": {
     "cell_type": "markdown",
     "checksum": "3b85e578bbbaf1cc754efbde7d6d7b9b",
     "grade": false,
     "grade_id": "cell-a11d723be5191cfc",
     "locked": true,
     "schema_version": 3,
     "solution": false,
     "task": false
    },
    "tags": []
   },
   "source": [
    "In later assignments we will be analyzing the language used by central characters in the show. It turns out that one of the characters is referred to by two different names, Rob and Robert. The function below can be used to replace a specified name with a new one."
   ]
  },
  {
   "cell_type": "code",
   "execution_count": 26,
   "id": "210d6b9b-20d0-4a0e-8966-e07d9eb359a0",
   "metadata": {
    "deletable": false,
    "editable": false,
    "nbgrader": {
     "cell_type": "code",
     "checksum": "7eadbd915b82737b19843a35fc9b11a6",
     "grade": false,
     "grade_id": "cell-1a2cfedd0db757b3",
     "locked": true,
     "schema_version": 3,
     "solution": false,
     "task": false
    },
    "tags": []
   },
   "outputs": [],
   "source": [
    "def replace_name(transcripts, original_name, replacement_name):\n",
    "    for k in transcripts.keys():\n",
    "        for i in range(0,len(transcripts[k])):\n",
    "            if transcripts[k][i]['speaker'] == original_name:\n",
    "                transcripts[k][i]['speaker'] = replacement_name\n",
    "    return transcripts\n",
    "transcripts = replace_name(transcripts, \"ROB\", \"ROBERT\")"
   ]
  },
  {
   "cell_type": "markdown",
   "id": "82b805b6-c97b-4226-92bc-b2d1f214f09f",
   "metadata": {
    "deletable": false,
    "editable": false,
    "nbgrader": {
     "cell_type": "markdown",
     "checksum": "4508a464988ac0118a1c83d7d1ab3aa1",
     "grade": false,
     "grade_id": "cell-193ad472698d1ffc",
     "locked": true,
     "schema_version": 3,
     "solution": false,
     "task": false
    },
    "tags": []
   },
   "source": [
    "## Question 2 (Code Completion): Speaker utterances\n",
    "\n",
    "In the cell below complete the function to determine: *How many times does the speaker ROBERT appear in the processed transcripts?*"
   ]
  },
  {
   "cell_type": "code",
   "execution_count": null,
   "id": "30a51ed1",
   "metadata": {},
   "outputs": [],
   "source": [
    "transcripts"
   ]
  },
  {
   "cell_type": "code",
   "execution_count": 31,
   "id": "4a71d56e-3543-4e3e-bf08-aabd14ac0a8c",
   "metadata": {
    "deletable": false,
    "nbgrader": {
     "cell_type": "code",
     "checksum": "188e90d175c4313f253643b815dcd1ab",
     "grade": false,
     "grade_id": "cell-b6d3d7bfde0289ea",
     "locked": false,
     "schema_version": 3,
     "solution": true,
     "task": false
    },
    "tags": []
   },
   "outputs": [
    {
     "data": {
      "text/plain": [
       "18275"
      ]
     },
     "execution_count": 31,
     "metadata": {},
     "output_type": "execute_result"
    }
   ],
   "source": [
    "def num_robert_utterances(input_transcripts):\n",
    "    \"\"\" Method takes in the transcripts and returns the number of utterances by 'ROBERT'\n",
    "    \"\"\"\n",
    "    count = 0\n",
    "    for k in input_transcripts.keys():\n",
    "        for i in range(0,len(input_transcripts[k])):\n",
    "            if input_transcripts[k][i]['speaker'] == 'ROBERT':\n",
    "                count += 1\n",
    "    return count\n",
    "num_robert_utterances(transcripts)"
   ]
  },
  {
   "cell_type": "code",
   "execution_count": 30,
   "id": "0920d4d0-b210-4215-a7b3-5560e1dcab62",
   "metadata": {
    "deletable": false,
    "editable": false,
    "nbgrader": {
     "cell_type": "code",
     "checksum": "6df5d599bbece504292680960de60710",
     "grade": true,
     "grade_id": "cell-55df0e90cc4c6820",
     "locked": true,
     "points": 5,
     "schema_version": 3,
     "solution": false,
     "task": false
    },
    "tags": []
   },
   "outputs": [],
   "source": [
    "\"\"\"Check that num_robert_utterances returns an output in the following range.\"\"\"\n",
    "assert num_robert_utterances(transcripts) >= 18117, f\"{num_robert_utterances(transcripts)} utterances\"\n",
    "assert num_robert_utterances(transcripts) <= 18591"
   ]
  },
  {
   "cell_type": "markdown",
   "id": "f5266c3f-3ca2-4ff7-affd-b6fbe0987299",
   "metadata": {
    "deletable": false,
    "editable": false,
    "nbgrader": {
     "cell_type": "markdown",
     "checksum": "bcb8e82c181a74f197cf43fc65ca7fb7",
     "grade": false,
     "grade_id": "cell-a50a824607df9eaf",
     "locked": true,
     "schema_version": 3,
     "solution": false,
     "task": false
    },
    "tags": []
   },
   "source": [
    "## End of Assignment 0"
   ]
  }
 ],
 "metadata": {
  "kernelspec": {
   "display_name": "LangInfo",
   "language": "python",
   "name": "python3"
  },
  "language_info": {
   "codemirror_mode": {
    "name": "ipython",
    "version": 3
   },
   "file_extension": ".py",
   "mimetype": "text/x-python",
   "name": "python",
   "nbconvert_exporter": "python",
   "pygments_lexer": "ipython3",
   "version": "3.7.6"
  },
  "vscode": {
   "interpreter": {
    "hash": "98ca369906f7b70fe64afc73e530e378539d08b0e41e494e07f1eb5e7a313c26"
   }
  }
 },
 "nbformat": 4,
 "nbformat_minor": 5
}

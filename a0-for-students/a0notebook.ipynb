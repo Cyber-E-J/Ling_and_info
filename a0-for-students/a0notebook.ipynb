{
 "cells": [
  {
   "cell_type": "markdown",
   "id": "c871cbcf-dd59-44f9-b1fd-88a586675d53",
   "metadata": {
    "deletable": false,
    "editable": false,
    "nbgrader": {
     "cell_type": "markdown",
     "checksum": "f219312c8cf9a541653514644019e0ec",
     "grade": false,
     "grade_id": "cell-62a0553f38489491",
     "locked": true,
     "schema_version": 3,
     "solution": false,
     "task": false
    },
    "tags": []
   },
   "source": [
    "# Assignment 0: Getting (to know) the Kardashians\n",
    "## © Cristian Danescu-Niculescu-Mizil 2023\n",
    "## CS/INFO 4300 Language and Information\n",
    "\n",
    "## Due by midnight on Friday January 27th\n",
    "\n",
    "You must completely this assignment **individually**.\n",
    "\n",
    "In this assignment we will be working with transcripts from the reality TV show \"Keeping Up With The Kardashians\" and cleaning the raw transcript data so that we may apply various layers of analysis in later assignments.\n",
    "\n",
    "This assignment **is not intended to be a test of your programming skills**, but to get you familiar with the virtual environment and the structure of the data you will be analyzing. In fact, most of the code is provided and you only need to run through it and address two questions at the end of the notebook.\n",
    "\n",
    "**Learning Objectives**\n",
    "\n",
    "This project aims to help you to get comfortable working with the following tools / technologies / concepts:\n",
    "\n",
    "* The Jupyter Notebook environment\n",
    "* Recap of Python syntax and basic data structures\n",
    "* `virtualenv` or `venv` environment for package dependencies\n",
    "\n",
    "**Academic Integrity and Collaboration**\n",
    "\n",
    "Note that these projects should be completed individually. As a result, all University-standard academic integrity guidelines must be followed.\n",
    "\n",
    "**Guidelines**\n",
    "\n",
    "All cells that contain the blocks that read `# YOUR CODE HERE` are editable and are to be completed to ensure you pass the test-cases. Make sure to write your code where indicated.\n",
    "\n",
    "All cells that read `YOUR ANSWER HERE` are free-response cells that are editable and are to be completed. \n",
    "\n",
    "You may use any number of notebook cells to explore the data and test out your functions, although you will only be graded on the solution itself.\n",
    "\n",
    "You are unable to modify the read-only cells.\n",
    "\n",
    "You should also use Markdown cells to explain your code and discuss your results when necessary.\n",
    "Instructions can be found [here](http://jupyter-notebook.readthedocs.io/en/latest/examples/Notebook/Working%20With%20Markdown%20Cells.html).\n",
    "\n",
    "All floating point values should be printed with **2 decimal places** precision. You can do so using the built-in `round` function.\n",
    "\n",
    "**Grading**\n",
    "\n",
    "For code-completion questions you will be graded on passing the public test cases we have included, as well as any hidden test cases that we have supplemented to ensure that your logic is correct.\n",
    "\n",
    "For free-response questions you will be manually graded on the quality of your answer.\n",
    "\n",
    "**Submission**\n",
    "\n",
    "You are expected to submit this .ipynb as your submission for Assignment 0. \n",
    "\n",
    "In addition please submit an html copy of the notebook (You can create this by clicking `File` > `Download as` > `HTML (.html)`).\n",
    "\n",
    "Make sure you double-check that you submitted what you actually intended by re-downloading the files from CMS after you submitted it. You won't be allowed to update the files after the deadline as stated in the syllabus.\n",
    "\n",
    "**Additional Notes**\n",
    "\n",
    "To setup your environment review the writeup attached to this Assignment. \n",
    "\n",
    "Make sure to fill out the startup quiz on CMS."
   ]
  },
  {
   "cell_type": "code",
   "execution_count": 1,
   "id": "6ccb9e41-89f2-4596-afb1-a3ac78e1e215",
   "metadata": {
    "deletable": false,
    "editable": false,
    "nbgrader": {
     "cell_type": "code",
     "checksum": "f26c63873fce56f3b85c8291152eadb6",
     "grade": false,
     "grade_id": "cell-40cf99b0f2d8d929",
     "locked": true,
     "schema_version": 3,
     "solution": false,
     "task": false
    },
    "tags": []
   },
   "outputs": [],
   "source": [
    "import sys\n",
    "import re\n",
    "from glob import glob\n",
    "import os\n",
    "from itertools import groupby\n",
    "import pickle\n",
    "import bs4\n",
    "import matplotlib.pyplot as plt\n",
    "%matplotlib inline"
   ]
  },
  {
   "cell_type": "code",
   "execution_count": 2,
   "id": "256c9456-59db-488f-8a64-e3caab97fe26",
   "metadata": {
    "deletable": false,
    "editable": false,
    "nbgrader": {
     "cell_type": "code",
     "checksum": "84a07d8be00abff97d78ea0fc4aae8ea",
     "grade": false,
     "grade_id": "cell-18da087b4d436d0e",
     "locked": true,
     "schema_version": 3,
     "solution": false,
     "task": false
    },
    "tags": []
   },
   "outputs": [],
   "source": [
    "# Ensure that your kernel is using Python3\n",
    "assert sys.version_info.major == 3\n",
    "assert sys.version_info.minor == 7"
   ]
  },
  {
   "cell_type": "markdown",
   "id": "3d5f1c07-78ad-42df-9c21-3c97c968f0bc",
   "metadata": {
    "deletable": false,
    "editable": false,
    "nbgrader": {
     "cell_type": "markdown",
     "checksum": "fed240beda2cd115433c8177233d4a9b",
     "grade": false,
     "grade_id": "cell-c456b7484cb6a2ec",
     "locked": true,
     "schema_version": 3,
     "solution": false,
     "task": false
    },
    "tags": []
   },
   "source": [
    "# Processing the transcripts of \"Keeping up with the Kardashians\"\n",
    "\n",
    "Transcripts of this TV show are available online and have been downloaded and provided to you in HTML format. However, they show very weak structure and a lot of noise. There is a lot of work to be done to render them usable for analysis.\n",
    "\n",
    "We will use the *BeautifulSoup* library, which makes working with messy HTML much easier."
   ]
  },
  {
   "cell_type": "code",
   "execution_count": 3,
   "id": "ac0977bc-6203-4989-b055-f5359c30f06d",
   "metadata": {
    "deletable": false,
    "editable": false,
    "nbgrader": {
     "cell_type": "code",
     "checksum": "8414e792cd193166119bc84454bdf84f",
     "grade": false,
     "grade_id": "cell-4557b89c47455ddf",
     "locked": true,
     "schema_version": 3,
     "solution": false,
     "task": false
    },
    "tags": []
   },
   "outputs": [],
   "source": [
    "transcript_filename = \"kardashians_data/livedash_kardashians/273926.html\"\n",
    "with open(transcript_filename) as f:\n",
    "    bsoup = bs4.BeautifulSoup(f, \"html5lib\")"
   ]
  },
  {
   "cell_type": "markdown",
   "id": "4d1f7661-7e75-46c3-8979-56c219219c07",
   "metadata": {
    "deletable": false,
    "editable": false,
    "nbgrader": {
     "cell_type": "markdown",
     "checksum": "dd6e47a56f6b195ab2f55ef88c93a93e",
     "grade": false,
     "grade_id": "cell-20ebae2cc6147528",
     "locked": true,
     "schema_version": 3,
     "solution": false,
     "task": false
    },
    "tags": []
   },
   "source": [
    "The title of the episode transcribed in the current file can be found in the element with the `title` id:"
   ]
  },
  {
   "cell_type": "code",
   "execution_count": 4,
   "id": "5fa1a521-74dc-4d20-b207-b6467e3c08d8",
   "metadata": {
    "deletable": false,
    "editable": false,
    "nbgrader": {
     "cell_type": "code",
     "checksum": "f7e77be6788d84b1dff15d85464ea832",
     "grade": false,
     "grade_id": "cell-d69503a4b41be486",
     "locked": true,
     "schema_version": 3,
     "solution": false,
     "task": false
    },
    "tags": []
   },
   "outputs": [
    {
     "data": {
      "text/plain": [
       "'Keeping Up With the Kardashians - Shape Up or Ship Out'"
      ]
     },
     "execution_count": 4,
     "metadata": {},
     "output_type": "execute_result"
    }
   ],
   "source": [
    "bsoup.find(attrs={'id': 'title'}).get_text()"
   ]
  },
  {
   "cell_type": "markdown",
   "id": "2c5c97fd-2b1a-41df-9ed5-7680509866ab",
   "metadata": {
    "deletable": false,
    "editable": false,
    "nbgrader": {
     "cell_type": "markdown",
     "checksum": "92569f156d162a878d9f552cda2cfbf9",
     "grade": false,
     "grade_id": "cell-3130f603b209349a",
     "locked": true,
     "schema_version": 3,
     "solution": false,
     "task": false
    },
    "tags": []
   },
   "source": [
    "Each line of conversation is a table row with two table cells, one containing the timestamp, the other the text:"
   ]
  },
  {
   "cell_type": "code",
   "execution_count": 5,
   "id": "9acb7230-f685-4118-9f18-c233d627fda7",
   "metadata": {
    "deletable": false,
    "editable": false,
    "nbgrader": {
     "cell_type": "code",
     "checksum": "73925153d1b397ae233af850ef654f01",
     "grade": false,
     "grade_id": "cell-0f955cd1a6ca4e8c",
     "locked": true,
     "schema_version": 3,
     "solution": false,
     "task": false
    },
    "tags": []
   },
   "outputs": [
    {
     "data": {
      "text/plain": [
       "[<tr><td><a name=\"943920369\"></a>00:06:09</td><td>&gt;&gt; KOURTNEY: This one.\n",
       " </td></tr>,\n",
       " <tr><td><a name=\"943920370\"></a>00:06:10</td><td>&gt;&gt; KHLOE: Here, you want this\n",
       " one?\n",
       " </td></tr>,\n",
       " <tr><td><a name=\"943920371\"></a>00:06:11</td><td>&gt;&gt; KOURTNEY: Yes, thank you.\n",
       " </td></tr>,\n",
       " <tr><td><a name=\"943920374\"></a>00:06:14</td><td>&gt;&gt; KOURTNEY: Okay.\n",
       " </td></tr>,\n",
       " <tr><td><a name=\"943920375\"></a>00:06:15</td><td>I like that one better.\n",
       " </td></tr>]"
      ]
     },
     "execution_count": 5,
     "metadata": {},
     "output_type": "execute_result"
    }
   ],
   "source": [
    "bsoup.findAll(\"tr\")[100:105]"
   ]
  },
  {
   "cell_type": "markdown",
   "id": "181316fb-cc6d-4ba0-9bb5-8cd7a7fd3093",
   "metadata": {
    "deletable": false,
    "editable": false,
    "nbgrader": {
     "cell_type": "markdown",
     "checksum": "e1d228111193c205b21616e47d179aea",
     "grade": false,
     "grade_id": "cell-6fe236643785ffb6",
     "locked": true,
     "schema_version": 3,
     "solution": false,
     "task": false
    },
    "tags": []
   },
   "source": [
    "The formatting used by the transcripts is not completely normalized, but follows some patterns.\n",
    "\n",
    "For instance, there are two types of lines:\n",
    "\n",
    " * When a character starts to speak after someone else, this is marked as such:\n",
    " \n",
    "     `>> KOURTNEY: Okay.`\n",
    "\n",
    "\n",
    " * When a character has already been speaking and continues, the line is simply:\n",
    " \n",
    "     `I like that one better.`\n",
    "     \n",
    "     The text in the second kind of line can be considered to be part of the same speech\n",
    "     act as the previous one.\n",
    "\n",
    "However, there are some irregularities in the transcripts that we exemplify and work around.\n",
    "\n",
    "## Extracting valid dialogue"
   ]
  },
  {
   "cell_type": "code",
   "execution_count": 6,
   "id": "cdd2981a-1d56-4878-9734-bba80f374ea8",
   "metadata": {
    "deletable": false,
    "editable": false,
    "nbgrader": {
     "cell_type": "code",
     "checksum": "50543672f9d210a17b3bc6ccb811b724",
     "grade": false,
     "grade_id": "cell-94f554e08e78db4b",
     "locked": true,
     "schema_version": 3,
     "solution": false,
     "task": false
    },
    "tags": []
   },
   "outputs": [],
   "source": [
    "def strip_actions(line):\n",
    "    \"\"\"Some of the texts contain indications about the actions\n",
    "    that the characters do. For example:\n",
    "        \n",
    "        (Kourtney and Khloe laughing) >> BRUCE: Sometimes,\n",
    "        I can get so disappointed with these girls.\n",
    "    \n",
    "    This function should remove everything between parantheses\n",
    "    in the line passed as argument.  You may assume no nesting.\n",
    "    \n",
    "    >>> strip_actions(\"a(bc)d(efg)\")\n",
    "    \"ad\"\n",
    "\n",
    "    \"\"\"\n",
    "    return \"\".join(re.split(\"\\([^\\(\\)]*\\)\", line, flags=re.DOTALL))\n",
    "\n",
    "def break_up_line(line):\n",
    "    \"\"\"When characters take turn in quick succession, we may have two\n",
    "    characters speaking in the same line. Example:\n",
    "\n",
    "        >> SCOTT: Three? >> KOURTNEY: Yeah.\n",
    "    \n",
    "    We should split this line into two appropriate lines.\n",
    "    \n",
    "    >>> break_up_line(\">> SCOTT: Three? >> KOURTNEY: Yeah.\")\n",
    "    ['>> SCOTT: Three?', '>> KOURTNEY: Yeah.']\n",
    "    \n",
    "    For consistency, we should always return a list:\n",
    "    >>> break_up_line(\">> SCOTT: Three?\")\n",
    "    ['>> SCOTT: Three?']\n",
    "    \n",
    "    When there are no indications of who is speaking, simply return\n",
    "    a list containing a single string that contains the text.\n",
    "    \n",
    "    >>> break_up_line(\"I am.\")\n",
    "    ['I am.']\n",
    "    \n",
    "    \"\"\"\n",
    "    lines = line.split(\">>\")\n",
    "    if lines[0].strip() == \"\":\n",
    "        return list(map(lambda s: \">>\" + s.rstrip(), lines[1:]))\n",
    "    else:\n",
    "        return [lines[0].strip()]\n",
    "\n",
    "\n",
    "def is_valid_speaker(speaker_string):\n",
    "    return speaker_string.strip().isupper()\n",
    "\n",
    "def is_valid_transcript_char(char):\n",
    "    return char.isalpha() or char.isdigit() or char in \".?!$\\\"'\""
   ]
  },
  {
   "cell_type": "markdown",
   "id": "a175a89a-d344-484d-b8e5-77953544a7c3",
   "metadata": {
    "deletable": false,
    "editable": false,
    "nbgrader": {
     "cell_type": "markdown",
     "checksum": "859ff2714c78bc71e07326c342ca3072",
     "grade": false,
     "grade_id": "cell-c349e708d6ef47cd",
     "locked": true,
     "schema_version": 3,
     "solution": false,
     "task": false
    },
    "tags": []
   },
   "source": [
    "The bulk of the function that turns a transcript into a usable representation is given below."
   ]
  },
  {
   "cell_type": "code",
   "execution_count": 7,
   "id": "fc4f9e7e-8ff5-434c-81cb-fdbf415c333c",
   "metadata": {
    "deletable": false,
    "editable": false,
    "nbgrader": {
     "cell_type": "code",
     "checksum": "666fe6bd80279315f7b34549f65e0034",
     "grade": false,
     "grade_id": "cell-47a5ca955833d69e",
     "locked": true,
     "schema_version": 3,
     "solution": false,
     "task": false
    },
    "tags": []
   },
   "outputs": [],
   "source": [
    "def parse_kardashians_transcript(raw_html):\n",
    "    bsoup = bs4.BeautifulSoup(raw_html, \"html5lib\")\n",
    "\n",
    "    # Get the title of the TV show\n",
    "    title = bsoup.find(attrs={'id': 'title'})\n",
    "    title = title.get_text() if title else None\n",
    "\n",
    "    transcript = []\n",
    "    speaker = None\n",
    "    \n",
    "    # We maintain an error state. If we reach an invalid line, the captioning\n",
    "    # turned bad (perhaps an advertisement was being captioned instead of the TV show),\n",
    "    # but sometimes it gets fixed.\n",
    "    captioning_broken = False \n",
    "\n",
    "    for row in bsoup.findAll(\"tr\"):\n",
    "        \n",
    "        #  We are looking for table rows that have exactly two cells, and\n",
    "        # the first cell has a timestamp with a link. Skip other table rows.\n",
    "        cells = row.findAll(\"td\")\n",
    "        if len(cells) != 2:\n",
    "            continue\n",
    "        time_cell, text_cell = cells\n",
    "        if len(time_cell.contents) != 2:\n",
    "            continue\n",
    "        anchor, timestamp = time_cell.contents\n",
    "        if anchor.name != 'a':\n",
    "            continue\n",
    "\n",
    "        text = \" \".join(text_cell.get_text().splitlines())\n",
    "        text = strip_actions(text)\n",
    "\n",
    "        for subline in break_up_line(text):\n",
    "            # At this point, subline is a single speech act, which should contain either\n",
    "            # one speaker name and a text, or just the text (if the speaker stays the same).\n",
    "            # e.g. the variable text might be \">> SCOTT: Three?\" right now.\n",
    "            \n",
    "            # Use a regular expression to see if the line has the speaker marked with \">>\".\n",
    "            # The regex should ONLY match if the speaker name is present. If it is, it should\n",
    "            # should return two matching groups, one for the speaker and one for the text.\n",
    "            # e.g. your regex should not match \"I am.\" but it should match \">> SCOTT: Three?\".\n",
    "            # In the later case, the first regex group should match \"SCOTT\" and the second\n",
    "            # regex group should match \"Three?\"\n",
    "            \n",
    "            speaker_re = r'>> (.*): (.+)'\n",
    "            speaker_match = re.match(speaker_re, subline)\n",
    "            orig_subline = subline\n",
    "            if speaker_match:\n",
    "                speaker_string, subline = speaker_match.groups()\n",
    "                if not is_valid_speaker(speaker_string):\n",
    "                    # The speaker is not a valid all-uppercase string, so something is broken.\n",
    "                    captioning_broken = True\n",
    "                else:\n",
    "                    # We have a well-formed line. We can recover and exit the error state.\n",
    "                    captioning_broken = False  \n",
    "                speaker = speaker_string\n",
    "            elif subline.startswith(\">>\"):\n",
    "                # The line starts with \">>\" but doesn't match the speaker regular expression.\n",
    "                captioning_broken = True\n",
    "            if not is_valid_transcript_char(subline[0]):\n",
    "                # The line starts with an invalid character\n",
    "                captioning_broken = True\n",
    "            if speaker is None:\n",
    "                # No speaker has been marked yet, but the lines are plain, as if\n",
    "                # continuing from a known speaker. We cannot tell who is speaking.\n",
    "                captioning_broken = True\n",
    "\n",
    "            if not captioning_broken:\n",
    "                transcript.append(dict(timestamp=timestamp,\n",
    "                                       speaker=speaker,\n",
    "                                       text=subline))\n",
    "    \n",
    "    return title, transcript"
   ]
  },
  {
   "cell_type": "markdown",
   "id": "0b97ccd0-9d83-439b-9938-de0c3622d16e",
   "metadata": {
    "deletable": false,
    "editable": false,
    "nbgrader": {
     "cell_type": "markdown",
     "checksum": "343cb4e1398e1d48084d7c4d93e41c06",
     "grade": false,
     "grade_id": "cell-ef53d8e7b0f981f0",
     "locked": true,
     "schema_version": 3,
     "solution": false,
     "task": false
    },
    "tags": []
   },
   "source": [
    "## Preparing the data for processing.\n",
    "\n",
    "Go through all the provided files and build two dictionaries:\n",
    "\n",
    "* `titles[transcript_id] = ` *title of the episode in the transcript*\n",
    "* `transcripts[transcript_id] = ` *the parsed transcript*\n",
    "\n",
    "as returned by `parse_kardashians_transcript`. A convenient transcript ID is defined by the `_nice_key` function below."
   ]
  },
  {
   "cell_type": "code",
   "execution_count": 8,
   "id": "44a7a8c8-a7dc-415e-9ceb-7f3281c857f1",
   "metadata": {
    "deletable": false,
    "editable": false,
    "nbgrader": {
     "cell_type": "code",
     "checksum": "f2706350a94341f6feea23bb4c3cc17d",
     "grade": false,
     "grade_id": "cell-19fc10e6ed9afac8",
     "locked": true,
     "schema_version": 3,
     "solution": false,
     "task": false
    },
    "tags": []
   },
   "outputs": [
    {
     "data": {
      "text/plain": [
       "'kourtney_and_kim/273926'"
      ]
     },
     "execution_count": 8,
     "metadata": {},
     "output_type": "execute_result"
    }
   ],
   "source": [
    "def _nice_key(file_path):\n",
    "    \"\"\"Convenience function to get a unique transcript ID that is shorter than the filename\"\"\"\n",
    "    return file_path.split(\"_\", 2)[2].rsplit(\".\")[0]\n",
    "\n",
    "_nice_key('kardashians_data/livedash_kourtney_and_kim/273926.html')"
   ]
  },
  {
   "cell_type": "code",
   "execution_count": 9,
   "id": "a7e7ba78-a34f-4820-beba-f1182b9733c4",
   "metadata": {
    "deletable": false,
    "editable": false,
    "nbgrader": {
     "cell_type": "code",
     "checksum": "90b31a989f58317592bb80cf2873e1bf",
     "grade": false,
     "grade_id": "cell-41b922b059e492d9",
     "locked": true,
     "schema_version": 3,
     "solution": false,
     "task": false
    },
    "tags": []
   },
   "outputs": [],
   "source": [
    "import os\n",
    "titles = {}\n",
    "transcripts = {}\n",
    "\n",
    "for subdir in os.listdir(\"kardashians_data\"):\n",
    "    if os.path.isdir(\"kardashians_data/\" + subdir):\n",
    "        for filename in os.listdir(\"kardashians_data/\" + subdir):\n",
    "            path = \"kardashians_data/\" + subdir + \"/\" + filename\n",
    "            if os.path.splitext(path)[1].lower() == \".html\":\n",
    "                transcript_id = _nice_key(path)\n",
    "                with open(path) as f:\n",
    "                    title, transcript = parse_kardashians_transcript(f)\n",
    "                    titles[transcript_id] = title\n",
    "                    transcripts[transcript_id] = transcript "
   ]
  },
  {
   "cell_type": "markdown",
   "id": "a1935975-7b27-4796-9b49-f0d563065801",
   "metadata": {
    "deletable": false,
    "editable": false,
    "nbgrader": {
     "cell_type": "markdown",
     "checksum": "8759e85e6b0a8e196b29456f0bc8be92",
     "grade": false,
     "grade_id": "cell-ffc5dc7cdfd85445",
     "locked": true,
     "schema_version": 3,
     "solution": false,
     "task": false
    },
    "tags": []
   },
   "source": [
    "We can now count the number of messages that are stored in the transcripts:"
   ]
  },
  {
   "cell_type": "code",
   "execution_count": 10,
   "id": "06aee939-6afc-422e-a776-6de2694a8d37",
   "metadata": {
    "deletable": false,
    "editable": false,
    "nbgrader": {
     "cell_type": "code",
     "checksum": "5472ea6b5ae0437b4e3bdd3e78af1b5d",
     "grade": false,
     "grade_id": "cell-2d37bce7a82acdc5",
     "locked": true,
     "schema_version": 3,
     "solution": false,
     "task": false
    },
    "tags": []
   },
   "outputs": [
    {
     "data": {
      "text/plain": [
       "202230"
      ]
     },
     "execution_count": 10,
     "metadata": {},
     "output_type": "execute_result"
    }
   ],
   "source": [
    "sum(map(lambda t: len(t), transcripts.values()))"
   ]
  },
  {
   "cell_type": "code",
   "execution_count": 11,
   "id": "03945f60-b56e-4ba6-9811-b5ac78883fc2",
   "metadata": {
    "deletable": false,
    "editable": false,
    "nbgrader": {
     "cell_type": "code",
     "checksum": "a2a3faed6dc84eb3e54b008b9e600632",
     "grade": false,
     "grade_id": "cell-3bccb40bcb4ab406",
     "locked": true,
     "schema_version": 3,
     "solution": false,
     "task": false
    },
    "tags": []
   },
   "outputs": [
    {
     "data": {
      "text/plain": [
       "1"
      ]
     },
     "execution_count": 11,
     "metadata": {},
     "output_type": "execute_result"
    }
   ],
   "source": [
    "len(set({'kardashians/273926': 'Keeping Up With the Kardashians - Shape Up or Ship Out',\n",
    " 'kardashians/273926': 'Keeping Up With the Kardashians - Shape Up or Ship Out'}.values()))"
   ]
  },
  {
   "cell_type": "markdown",
   "id": "301a57ab-dd5e-419b-9d54-61b51b837e57",
   "metadata": {
    "deletable": false,
    "editable": false,
    "nbgrader": {
     "cell_type": "markdown",
     "checksum": "623ad4a5ceea3027bcf8b6c57e1ffd06",
     "grade": false,
     "grade_id": "cell-a9dd27b82b593022",
     "locked": true,
     "schema_version": 3,
     "solution": false,
     "task": false
    },
    "tags": []
   },
   "source": [
    "## Question 1 (Code Completion): Analysis of Episode Titles\n",
    "Multiple HTML files could contain the transcripts from the same episode, which is indicated by the title, resulting in duplicates in our data.\n",
    "\n",
    "*In the cell below complete the function to determine how many distinct episodes are present in the files?*"
   ]
  },
  {
   "cell_type": "code",
   "execution_count": 12,
   "id": "b7baec59-846f-47f2-acb6-0bdf72c659b6",
   "metadata": {
    "deletable": false,
    "nbgrader": {
     "cell_type": "code",
     "checksum": "a0f4591a48d515f34dc552067149a78e",
     "grade": false,
     "grade_id": "cell-86c44bc26dedfee9",
     "locked": false,
     "schema_version": 3,
     "solution": true,
     "task": false
    },
    "tags": []
   },
   "outputs": [],
   "source": [
    "def num_episodes(input_titles):\n",
    "    \"\"\" Method takes in the titles and returns the number of distinct episodes\n",
    "    \n",
    "        Note: What kind of data structure should be used here? \n",
    "        Note: We generally recommend using the local variables (in this case, 'input_titles') \n",
    "        when filling out these functions.\n",
    "    \"\"\"\n",
    "\n",
    "    # use a set to store the distinct values\n",
    "\n",
    "    distinct_values = {value for value in input_titles.values()}\n",
    "    return len(distinct_values)"
   ]
  },
  {
   "cell_type": "code",
   "execution_count": 13,
   "id": "15808493-7ec3-4e15-8fb3-97ad883abc41",
   "metadata": {
    "deletable": false,
    "editable": false,
    "nbgrader": {
     "cell_type": "code",
     "checksum": "56270d0091761db88d62210b189b349f",
     "grade": true,
     "grade_id": "cell-f017d0daf965aab2",
     "locked": true,
     "points": 5,
     "schema_version": 3,
     "solution": false,
     "task": false
    },
    "tags": []
   },
   "outputs": [],
   "source": [
    "\"\"\"Check that num_episodes returns the correct output\"\"\"    \n",
    "assert num_episodes(titles) == 56, f\"{num_episodes(titles)} titles\""
   ]
  },
  {
   "cell_type": "markdown",
   "id": "4d11538c-abf2-45e1-bb62-8aba201c86f2",
   "metadata": {
    "deletable": false,
    "editable": false,
    "nbgrader": {
     "cell_type": "markdown",
     "checksum": "3b85e578bbbaf1cc754efbde7d6d7b9b",
     "grade": false,
     "grade_id": "cell-a11d723be5191cfc",
     "locked": true,
     "schema_version": 3,
     "solution": false,
     "task": false
    },
    "tags": []
   },
   "source": [
    "In later assignments we will be analyzing the language used by central characters in the show. It turns out that one of the characters is referred to by two different names, Rob and Robert. The function below can be used to replace a specified name with a new one."
   ]
  },
  {
   "cell_type": "code",
   "execution_count": 14,
   "id": "210d6b9b-20d0-4a0e-8966-e07d9eb359a0",
   "metadata": {
    "deletable": false,
    "editable": false,
    "nbgrader": {
     "cell_type": "code",
     "checksum": "7eadbd915b82737b19843a35fc9b11a6",
     "grade": false,
     "grade_id": "cell-1a2cfedd0db757b3",
     "locked": true,
     "schema_version": 3,
     "solution": false,
     "task": false
    },
    "tags": []
   },
   "outputs": [],
   "source": [
    "def replace_name(transcripts, original_name, replacement_name):\n",
    "    for k in transcripts.keys():\n",
    "        for i in range(0,len(transcripts[k])):\n",
    "            if transcripts[k][i]['speaker'] == original_name:\n",
    "                transcripts[k][i]['speaker'] = replacement_name\n",
    "    return transcripts\n",
    "transcripts = replace_name(transcripts, \"ROB\", \"ROBERT\")"
   ]
  },
  {
   "cell_type": "markdown",
   "id": "82b805b6-c97b-4226-92bc-b2d1f214f09f",
   "metadata": {
    "deletable": false,
    "editable": false,
    "nbgrader": {
     "cell_type": "markdown",
     "checksum": "4508a464988ac0118a1c83d7d1ab3aa1",
     "grade": false,
     "grade_id": "cell-193ad472698d1ffc",
     "locked": true,
     "schema_version": 3,
     "solution": false,
     "task": false
    },
    "tags": []
   },
   "source": [
    "## Question 2 (Code Completion): Speaker utterances\n",
    "\n",
    "In the cell below complete the function to determine: *How many times does the speaker ROBERT appear in the processed transcripts?*"
   ]
  },
  {
   "cell_type": "code",
   "execution_count": null,
   "id": "4a71d56e-3543-4e3e-bf08-aabd14ac0a8c",
   "metadata": {
    "deletable": false,
    "nbgrader": {
     "cell_type": "code",
     "checksum": "188e90d175c4313f253643b815dcd1ab",
     "grade": false,
     "grade_id": "cell-b6d3d7bfde0289ea",
     "locked": false,
     "schema_version": 3,
     "solution": true,
     "task": false
    },
    "tags": []
   },
   "outputs": [],
   "source": [
    "def num_robert_utterances(input_transcripts):\n",
    "    \"\"\" Method takes in the transcripts and returns the number of utterances by 'ROBERT'\n",
    "    \"\"\"\n",
    "    count = 0\n",
    "    for k in input_transcripts.keys():\n",
    "        for i in range(0,len(input_transcripts[k])):\n",
    "            if input_transcripts[k][i]['speaker'] == 'ROBERT':\n",
    "                count += 1\n",
    "    return count"
   ]
  },
  {
   "cell_type": "code",
   "execution_count": null,
   "id": "0920d4d0-b210-4215-a7b3-5560e1dcab62",
   "metadata": {
    "deletable": false,
    "editable": false,
    "nbgrader": {
     "cell_type": "code",
     "checksum": "6df5d599bbece504292680960de60710",
     "grade": true,
     "grade_id": "cell-55df0e90cc4c6820",
     "locked": true,
     "points": 5,
     "schema_version": 3,
     "solution": false,
     "task": false
    },
    "tags": []
   },
   "outputs": [],
   "source": [
    "\"\"\"Check that num_robert_utterances returns an output in the following range.\"\"\"\n",
    "assert num_robert_utterances(transcripts) >= 18117, f\"{num_robert_utterances(transcripts)} utterances\"\n",
    "assert num_robert_utterances(transcripts) <= 18591"
   ]
  },
  {
   "cell_type": "markdown",
   "id": "f5266c3f-3ca2-4ff7-affd-b6fbe0987299",
   "metadata": {
    "deletable": false,
    "editable": false,
    "nbgrader": {
     "cell_type": "markdown",
     "checksum": "bcb8e82c181a74f197cf43fc65ca7fb7",
     "grade": false,
     "grade_id": "cell-a50a824607df9eaf",
     "locked": true,
     "schema_version": 3,
     "solution": false,
     "task": false
    },
    "tags": []
   },
   "source": [
    "## End of Assignment 0"
   ]
  }
 ],
 "metadata": {
  "kernelspec": {
   "display_name": "LangInfo",
   "language": "python",
   "name": "python3"
  },
  "language_info": {
   "codemirror_mode": {
    "name": "ipython",
    "version": 3
   },
   "file_extension": ".py",
   "mimetype": "text/x-python",
   "name": "python",
   "nbconvert_exporter": "python",
   "pygments_lexer": "ipython3",
   "version": "3.7.6"
  },
  "vscode": {
   "interpreter": {
    "hash": "98ca369906f7b70fe64afc73e530e378539d08b0e41e494e07f1eb5e7a313c26"
   }
  }
 },
 "nbformat": 4,
 "nbformat_minor": 5
}

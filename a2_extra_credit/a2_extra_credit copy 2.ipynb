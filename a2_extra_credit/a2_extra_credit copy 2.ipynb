{
 "cells": [
  {
   "cell_type": "markdown",
   "metadata": {
    "deletable": false,
    "editable": false
   },
   "source": [
    "# Assignment 2 (extra-credit): The game of conversations\n",
    "\n",
    "© Cristian Danescu-Niculescu-Mizil, 2023"
   ]
  },
  {
   "cell_type": "markdown",
   "metadata": {
    "deletable": false,
    "editable": false
   },
   "source": [
    "<p style=\"text-align:center\">\n",
    "    <img src=\"https://drive.google.com/uc?export=view&id=19Xz_xj_ppHybHNVgDJlgbEY3TH_6gj2F\" alt=\"A funny conversation between several characters in Game of Thrones.\" width=\"300\"/><br/>(<a href=\"https://cheezburger.com/2930181/game-of-thrones-season-7-reimagined-as-text-messages\">image source</a>)\n",
    "</p>\n",
    "\n",
    "- - -\n",
    "\n",
    "## INFO/CS 4300: Language and Information <a class=\"anchor\" id=\"guidelines\"></a>\n",
    "\n",
    "> <font color='red'><b>DUE</b>: February 15, 2023 (Wednesday), 11:59pm</font>\n",
    "\n",
    "This assignment is an **individual** component.\n",
    "\n",
    "By now, you've had some exposure to techniques for uncovering social dynamics in textual data through your assignments working with the \"[*Keeping Up With The Kardashians*](https://en.wikipedia.org/wiki/Keeping_Up_with_the_Kardashians)\" dataset. In this assignment we will be giving you the freedom to conduct analysis **of your choosing** on transcripts from the television series \"[*Game of Thrones*](https://en.wikipedia.org/wiki/Game_of_Thrones)\" (GoT).\n",
    "\n",
    "<u>Contributors</u>: In addition to the course staff for INFO/CS 4300 from the past runs, Tushaar Gangavarapu and Jae Kim worked on updating this assignment, while Saif Mahmud and Kai Horstmann were involved in testing the assignment.\n",
    "\n",
    "- - -\n",
    "\n",
    "#### Extra-credit policy\n",
    "\n",
    "The policy for this extra credit is that you should complete as much as you can.\n",
    "\n",
    "- - -\n",
    "\n",
    "#### Learning objectives\n",
    "\n",
    "This project aims to help you get comfortable working with the following tools, technologies, and/or concepts:\n",
    "\n",
    "* Applying learned tools to conduct novel analysis\n",
    "\n",
    "- - -\n",
    "\n",
    "#### Academic integrity and collaboration\n",
    "\n",
    "As mentioned, this project should be completed **individually**. As a result, all University-standard academic integrity guidelines must be followed.\n",
    "\n",
    "- - -\n",
    "\n",
    "#### Grading\n",
    "\n",
    "This extra-credit assignment is open-ended, and will ask you to do a free-form analysis. The number of extra points will be decided based on how interesting, creative, and unique your analysis is. This will, in part, be a subjective judgement on the part of the course staff.\n",
    "\n",
    "- - -\n",
    "\n",
    "**Submission**\n",
    "\n",
    "* You are expected to submit this .ipynb as your submission for Assignment 2 (extra-credit). \n",
    "* In addition please submit an html copy of the notebook (you can create this by clicking File → Download as → HTML (.html))."
   ]
  },
  {
   "cell_type": "markdown",
   "metadata": {
    "deletable": false,
    "editable": false
   },
   "source": [
    "- - -\n",
    "### Contents  <a class=\"anchor\" id=\"contents\"></a>\n",
    "\n",
    "* [Instructions and guidelines](#guidelines)\n",
    "* [Contents](#contents)\n",
    "* [Imports](#0)\n",
    "* [Free-form analysis: Data and preprocessing](#1)\n",
    "* [Extra-credit task](#2)\n",
    "  * [[1](#2a)] Option-1: Gender and social interactions\n",
    "  * [[2](#2b)] Option-2: Open-ended analysis\n"
   ]
  },
  {
   "cell_type": "markdown",
   "metadata": {
    "deletable": false,
    "editable": false
   },
   "source": [
    "- - -\n",
    "<p style='text-align:right; font-size:11px'>[[contents](#contents)]</p>\n",
    "\n",
    "### Imports <a class=\"anchor\" id=\"0\"></a>"
   ]
  },
  {
   "cell_type": "code",
   "execution_count": 62,
   "metadata": {
    "deletable": false,
    "editable": false
   },
   "outputs": [],
   "source": [
    "import re\n",
    "import pickle"
   ]
  },
  {
   "cell_type": "code",
   "execution_count": 63,
   "metadata": {
    "deletable": false,
    "editable": false
   },
   "outputs": [],
   "source": [
    "import sys\n",
    "# Ensure that your kernel is using Python3\n",
    "assert sys.version_info.major == 3"
   ]
  },
  {
   "cell_type": "markdown",
   "metadata": {
    "deletable": false,
    "editable": false
   },
   "source": [
    "- - -\n",
    "<p style='text-align:right; font-size:11px'>[[contents](#contents)]</p>\n",
    "\n",
    "### Free-form analysis: Data and preprocessing <a class=\"anchor\" id=\"1\"></a>\n",
    "\n",
    "We have provided you with some pre-cleansed data that contains a subset of the \"Game of Thrones\" transcripts. This is by no means a comprehensive dataset (many episodes are not represented), but it should be enough data for you to make some meaningful observations.\n",
    "\n",
    "The data is represented as a dictionary that maps an episode title to a transcript (represented as a list of speaker-line tuples):\n",
    "```json\n",
    "{'A Golden Crown': [\n",
    "      ('EDDARD', '  Your pardon, your Grace.'),\n",
    "      ('CERSEI', ' Do you know what your wife has done?'),\n",
    "      ...\n",
    "  ],\n",
    "  ...\n",
    "}\n",
    "```\n",
    "\n",
    "**However, the data is messy so you might want to do some additional steps to clean it.** For instance, character names may not be consistent throughout the transcripts. There might be spelling errors in the names, and characters may be referenced by their firstname only, or by their full name."
   ]
  },
  {
   "cell_type": "code",
   "execution_count": 64,
   "metadata": {
    "deletable": false,
    "editable": false
   },
   "outputs": [],
   "source": [
    "with open(\"got_transcripts.pickle\", \"rb\") as file:\n",
    "    got_data = pickle.load(file)"
   ]
  },
  {
   "attachments": {},
   "cell_type": "markdown",
   "metadata": {},
   "source": [
    "Give a total collection of the speech regardless of the episode"
   ]
  },
  {
   "cell_type": "code",
   "execution_count": 65,
   "metadata": {
    "deletable": false
   },
   "outputs": [],
   "source": [
    "GOT_corpus = []\n",
    "for episode in list(got_data.values()):\n",
    "    for speech in episode:\n",
    "        GOT_corpus.append(speech)"
   ]
  },
  {
   "cell_type": "code",
   "execution_count": 66,
   "metadata": {},
   "outputs": [
    {
     "name": "stdout",
     "output_type": "stream",
     "text": [
      "<class 'list'>\n",
      "5979\n"
     ]
    }
   ],
   "source": [
    "print(type(GOT_corpus))\n",
    "print(len(GOT_corpus))"
   ]
  },
  {
   "cell_type": "markdown",
   "metadata": {
    "deletable": false,
    "editable": false
   },
   "source": [
    "- - -\n",
    "<p style='text-align:right; font-size:11px'>[[contents](#contents)]</p>\n",
    "\n",
    "### Extra-credit task <a class=\"anchor\" id=\"2\"></a>\n",
    "\n",
    "For extra credit, we would like you to attempt the **ONE** of the following tasks:\n",
    "\n",
    "#### <font color='blue'> Option 1: Gender and social interactions </font> <a class=\"anchor\" id=\"2a\"></a>\n",
    "\n",
    "* Explore the role of gender in social interactions. For example, do people of one gender talk differently to those of the opposite gender? You should base this analysis on the age-based social interaction analysis in Assignment 2. You might also consider comparing GoT results with Kardashians results.\n",
    "* Provide at least one plot illustrating your results.\n",
    "\n",
    "Note: Being that there are many characters in GoT, you may have to select a subset of the characters to work with, and look up their genders. If you are looking only at a subset of the characters, please provide an explanation as for *how* and *why* you arrived at the subset that you did.\n",
    "\n",
    "#### <font color='blue'> Option 2: Open-ended analysis </font> <a class=\"anchor\" id=\"2b\"></a>\n",
    "\n",
    "> *you could've asked Jon Snow for hints on what is to be done, but <u>he knows nothing</u>!*\n",
    "\n",
    "* Propose an interesting question that you would like to explore in regard to the GoT dataset.\n",
    "* Answer your question by conducting and documenting your analysis on the dataset. To extract the conversational features and analyze social phenomena in conversations, you can explore our in-house conversational analysis toolkit, [ConvoKit](https://convokit.cornell.edu/)!\n",
    "* Provide at least one plot illustrating your results.\n",
    "\n",
    "Note: You will be rewarded points based on novelty of question, and on the thoughtfulness of the exploration."
   ]
  },
  {
   "cell_type": "markdown",
   "metadata": {
    "deletable": false,
    "editable": false
   },
   "source": [
    "In either options, make sure you clearly express the questions you are asking, and document the code. Try to use the level of detail we used in our problems from Assignment 2. Also, interpret the results (highlighting what you found particularly interesting/unexpected). You may choose to import additional libraries as you see fit so long as they are standard python libraries (https://docs.python.org/3/library/). \n",
    "\n",
    "We have provided you with the `tokenize()` helper functions to aid you in your analysis."
   ]
  },
  {
   "cell_type": "code",
   "execution_count": 67,
   "metadata": {
    "deletable": false
   },
   "outputs": [],
   "source": [
    "import numpy as np"
   ]
  },
  {
   "cell_type": "code",
   "execution_count": 68,
   "metadata": {
    "deletable": false
   },
   "outputs": [],
   "source": [
    "def tokenize(text):\n",
    "    \"\"\"Returns a list of words that make up the text.    \n",
    "    \n",
    "    Parameters\n",
    "    ----------\n",
    "    text : str\n",
    "        The input text string\n",
    "    \n",
    "    Returns\n",
    "    -------\n",
    "    list\n",
    "        A list of tokens corresponding to the input string.\n",
    "    \"\"\"\n",
    "    return [x for x in re.findall(r\"[a-z]+\", text.lower()) if x != \"\"]"
   ]
  },
  {
   "attachments": {},
   "cell_type": "markdown",
   "metadata": {},
   "source": [
    "we need good_words\n"
   ]
  },
  {
   "cell_type": "code",
   "execution_count": 69,
   "metadata": {},
   "outputs": [
    {
     "name": "stdout",
     "output_type": "stream",
     "text": [
      "total words : 5562\n"
     ]
    }
   ],
   "source": [
    "# get the vocabulary\n",
    "vocabulary = set()\n",
    "for speech in GOT_corpus:\n",
    "    vocabulary.update(tokenize(speech[1]))\n",
    "vocabulary = list(vocabulary)\n",
    "print(\"total words :\",len(vocabulary))\n",
    "vocabulary_reverse_index = {word: index for index, word in enumerate(vocabulary)}"
   ]
  },
  {
   "cell_type": "code",
   "execution_count": 70,
   "metadata": {
    "deletable": false
   },
   "outputs": [
    {
     "name": "stdout",
     "output_type": "stream",
     "text": [
      "296\n"
     ]
    }
   ],
   "source": [
    "# get each distinct characters in the corpus\n",
    "characters = set()\n",
    "for speech in GOT_corpus:\n",
    "    characters.add(speech[0])\n",
    "characters = sorted(list(characters))\n",
    "print(len(characters))"
   ]
  },
  {
   "cell_type": "code",
   "execution_count": 71,
   "metadata": {},
   "outputs": [
    {
     "name": "stdout",
     "output_type": "stream",
     "text": [
      "296\n"
     ]
    }
   ],
   "source": [
    "# count the occurrences of each character in the corpus\n",
    "characters_count = {}\n",
    "for speech in GOT_corpus:\n",
    "    if speech[0] in characters_count:\n",
    "        characters_count[speech[0]] += 1\n",
    "    else:\n",
    "        characters_count[speech[0]] = 1\n",
    "print(len(characters_count))"
   ]
  },
  {
   "cell_type": "code",
   "execution_count": 72,
   "metadata": {},
   "outputs": [],
   "source": [
    "# reverse index of characters\n",
    "characters_reverse_index = {t: i for i, t in enumerate(characters)}\n",
    "# print(characters_reverse_index)"
   ]
  },
  {
   "cell_type": "code",
   "execution_count": 73,
   "metadata": {},
   "outputs": [
    {
     "name": "stdout",
     "output_type": "stream",
     "text": [
      "('TYRION', 365)\n",
      "('JON', 276)\n",
      "('EDDARD', 253)\n",
      "('CERSEI', 252)\n",
      "('DAENERYS', 207)\n",
      "('JAIME', 179)\n",
      "('ARYA', 174)\n",
      "('LITTLEFINGER', 171)\n",
      "('CATELYN', 170)\n",
      "('SANSA', 168)\n"
     ]
    }
   ],
   "source": [
    "# get the top 10 characters\n",
    "sorted_characters_by_occurrence = sorted(characters_count.items(), key=lambda x:x[1], reverse=True)\n",
    "for i in range(10):\n",
    "    print(sorted_characters_by_occurrence[i])"
   ]
  },
  {
   "attachments": {},
   "cell_type": "markdown",
   "metadata": {},
   "source": [
    "I know this show just perfectly well, I literally grew up watching this show, so the gender is like this:"
   ]
  },
  {
   "cell_type": "code",
   "execution_count": 74,
   "metadata": {},
   "outputs": [],
   "source": [
    "F_characters = [\n",
    "    u'CERSEI', u'DAENERYS', u'ARYA', u'CATELYN', u'SANSA'\n",
    "]\n",
    "M_characters = [\n",
    "    u'TYRION', u'JON', u'EDDARD', u'JAIME', u'LITTLEFINGER'\n",
    "]\n",
    "Good_characters = [\n",
    "    u'CERSEI', u'DAENERYS', u'ARYA', u'CATELYN', u'SANSA',u'TYRION', u'JON', u'EDDARD', u'JAIME', u'LITTLEFINGER'\n",
    "]\n",
    "Good_characters_reverse_index = {t: i for i, t in enumerate(Good_characters)}"
   ]
  },
  {
   "attachments": {},
   "cell_type": "markdown",
   "metadata": {},
   "source": [
    "wait, no. some of these guys just live in totally different places and perhaps never talked to each other. Let's see the reply matrix"
   ]
  },
  {
   "cell_type": "code",
   "execution_count": 75,
   "metadata": {},
   "outputs": [
    {
     "name": "stdout",
     "output_type": "stream",
     "text": [
      "[[10.  0.  3.  5. 13. 21.  0. 19. 27. 21.]\n",
      " [ 0. 32.  0.  1.  0. 25.  0.  0.  0.  0.]\n",
      " [ 3.  0. 19.  1. 12.  0.  7. 28.  2.  1.]\n",
      " [ 5.  0.  0.  8.  4.  9.  2.  7. 10.  8.]\n",
      " [12.  2. 14.  4.  7.  1.  0.  8.  2. 15.]\n",
      " [18. 22.  0. 10.  1. 25. 20.  0. 14.  0.]\n",
      " [ 0.  1.  8.  2.  0. 20. 16.  4.  5.  0.]\n",
      " [12.  0. 30.  9.  8.  0.  4. 27.  9. 33.]\n",
      " [31.  1.  0.  9.  1. 16.  4.  7.  6.  2.]\n",
      " [19.  2.  0.  8. 18.  1.  1. 27.  1.  8.]]\n"
     ]
    }
   ],
   "source": [
    "# get the reply matrix of each character\n",
    "# \n",
    "# reply_matrix[i][j] = the number of times character i replies to character j\n",
    "# \n",
    "\n",
    "# initialize the reply matrix\n",
    "reply_matrix = np.zeros((len(Good_characters), len(Good_characters)))\n",
    "\n",
    "for speech_index in range(1, len(GOT_corpus)):\n",
    "    previous_speech = GOT_corpus[speech_index - 1]\n",
    "    speech = GOT_corpus[speech_index]\n",
    "    if speech[0] in Good_characters and previous_speech[0] in Good_characters:\n",
    "        reply_matrix[Good_characters_reverse_index[speech[0]], Good_characters_reverse_index[previous_speech[0]]] += 1\n",
    "\n",
    "print(reply_matrix)"
   ]
  },
  {
   "attachments": {},
   "cell_type": "markdown",
   "metadata": {},
   "source": [
    "okay, it's not that bad, i guess it's some of them didn't met each other but this'll do."
   ]
  },
  {
   "attachments": {},
   "cell_type": "markdown",
   "metadata": {},
   "source": [
    "Now it's time for pair interaction! F-F, F-M, M-F, M-M"
   ]
  },
  {
   "cell_type": "code",
   "execution_count": 76,
   "metadata": {},
   "outputs": [],
   "source": [
    "gender_group_index = {'F': 0, 'M': 1}\n",
    "gender_group_mat_index = {('F', 'F'): 0, ('F', 'M'): 1, ('M', 'F'): 2, ('M', 'M'): 3}\n",
    "gender_group_reverse_index = {0: 'F', 1: 'M'}"
   ]
  },
  {
   "cell_type": "code",
   "execution_count": 77,
   "metadata": {},
   "outputs": [
    {
     "name": "stdout",
     "output_type": "stream",
     "text": [
      "[[0. 0. 1. ... 1. 0. 0.]\n",
      " [0. 0. 0. ... 0. 0. 0.]\n",
      " [0. 0. 0. ... 2. 0. 1.]\n",
      " [1. 0. 0. ... 1. 0. 0.]]\n",
      "(4, 5562)\n"
     ]
    }
   ],
   "source": [
    "# create gender_words_mat\n",
    "\n",
    "gender_words_mat = np.zeros((4, len(vocabulary)))\n",
    "\n",
    "for speech_index in range(1, len(GOT_corpus)):\n",
    "    previous_speech = GOT_corpus[speech_index - 1]\n",
    "    speech = GOT_corpus[speech_index]\n",
    "\n",
    "    # previous_speech_tokens = tokenize(previous_speech[1])\n",
    "    speech_tokens = tokenize(speech[1])\n",
    "\n",
    "    if previous_speech[0] in Good_characters and speech[0] in Good_characters:\n",
    "        gender_group = (gender_group_reverse_index[previous_speech[0] in F_characters], gender_group_reverse_index[speech[0] in F_characters])  \n",
    "        for token in speech_tokens:\n",
    "            gender_words_mat[gender_group_mat_index[gender_group]][vocabulary_reverse_index[token]] += 1\n",
    "        \n",
    "print(gender_words_mat)\n",
    "print(gender_words_mat.shape)"
   ]
  },
  {
   "attachments": {},
   "cell_type": "markdown",
   "metadata": {},
   "source": [
    "just like in a2b, we conduct additive smoothing analysis"
   ]
  },
  {
   "cell_type": "code",
   "execution_count": 78,
   "metadata": {},
   "outputs": [
    {
     "name": "stdout",
     "output_type": "stream",
     "text": [
      "[[0.2   0.25  0.4   ... 0.25  0.25  0.2  ]\n",
      " [0.2   0.25  0.2   ... 0.125 0.25  0.2  ]\n",
      " [0.2   0.25  0.2   ... 0.375 0.25  0.4  ]\n",
      " [0.4   0.25  0.2   ... 0.25  0.25  0.2  ]]\n"
     ]
    }
   ],
   "source": [
    "gender_weighted_words = np.zeros(gender_words_mat.shape)\n",
    "    \n",
    "laplace_smoothing = 1\n",
    "laplace_gender_words_mat = gender_words_mat + laplace_smoothing\n",
    "\n",
    "laplace_gender_words_mat_sum = np.sum(laplace_gender_words_mat, axis=0)\n",
    "gender_weighted_words = laplace_gender_words_mat / laplace_gender_words_mat_sum\n",
    "\n",
    "print(gender_weighted_words)"
   ]
  },
  {
   "attachments": {},
   "cell_type": "markdown",
   "metadata": {},
   "source": [
    "now let's go for analysis"
   ]
  },
  {
   "cell_type": "code",
   "execution_count": 79,
   "metadata": {},
   "outputs": [
    {
     "name": "stdout",
     "output_type": "stream",
     "text": [
      "F F\n",
      "0.75 vous\n",
      "0.73 b\n",
      "0.71 le\n",
      "0.70 de\n",
      "0.67 les\n",
      "0.67 tard\n",
      "0.62 casterly\n",
      "0.62 taken\n",
      "0.62 rock\n",
      "0.62 master\n",
      "F M\n",
      "0.56 husband\n",
      "0.55 says\n",
      "0.54 should\n",
      "0.50 punished\n",
      "0.50 beast\n",
      "0.50 comes\n",
      "0.50 gloves\n",
      "0.50 dirt\n",
      "0.50 animal\n",
      "0.50 properly\n",
      "M F\n",
      "0.62 enemies\n",
      "0.62 place\n",
      "0.62 baratheon\n",
      "0.60 once\n",
      "0.58 north\n",
      "0.57 bien\n",
      "0.57 dangerous\n",
      "0.57 heart\n",
      "0.57 otherwise\n",
      "0.57 job\n",
      "M M\n",
      "0.57 majest\n",
      "0.57 beauty\n",
      "0.57 meryn\n",
      "0.57 shh\n",
      "0.57 trant\n",
      "0.57 beat\n",
      "0.50 vas\n",
      "0.50 idiot\n",
      "0.50 frey\n",
      "0.50 leave\n"
     ]
    }
   ],
   "source": [
    "for i, j in gender_group_mat_index.keys():\n",
    "    print(i, j)\n",
    "    words = gender_weighted_words[gender_group_mat_index[(i, j)]]\n",
    "    ranked = sorted(enumerate(words), key=lambda x: x[1], reverse=True)\n",
    "    for index, score in ranked[:10]:\n",
    "        print('{:.2f} {}'.format(score, vocabulary[index]))"
   ]
  },
  {
   "attachments": {},
   "cell_type": "markdown",
   "metadata": {},
   "source": [
    "Ohhh yes, now we can see clearly that this is a significantly different corpus form the kardashians. Of course people are saying words like majest, idiot and enemies. Oh yes, M talks to M about beauty, and insults each other as idiot. Talks to woman about dangerous and enemies. Women refers to their husband a lot when talking to man. And are women trying to speak French with each other ???"
   ]
  },
  {
   "attachments": {},
   "cell_type": "markdown",
   "metadata": {},
   "source": [
    "But still we have to have a plot, so how about we just find how many times each character call someone stupid?"
   ]
  },
  {
   "cell_type": "code",
   "execution_count": 80,
   "metadata": {},
   "outputs": [
    {
     "name": "stdout",
     "output_type": "stream",
     "text": [
      "True True True True\n"
     ]
    }
   ],
   "source": [
    "print('idiot' in vocabulary,'fool' in vocabulary,'dumb' in vocabulary,'stupid' in vocabulary)"
   ]
  },
  {
   "cell_type": "code",
   "execution_count": 81,
   "metadata": {},
   "outputs": [
    {
     "name": "stdout",
     "output_type": "stream",
     "text": [
      "CERSEI 1.0\n",
      "DAENERYS 2.0\n",
      "ARYA 3.0\n",
      "CATELYN 0.0\n",
      "SANSA 4.0\n",
      "TYRION 2.0\n",
      "JON 0.0\n",
      "EDDARD 0.0\n",
      "JAIME 0.0\n",
      "LITTLEFINGER 3.0\n"
     ]
    }
   ],
   "source": [
    "insult_words = ['stupid', 'idiot', 'fool', 'dumb']\n",
    "character_insult_matrix = np.zeros((len(Good_characters)))\n",
    "\n",
    "for speech in GOT_corpus:\n",
    "    character = speech[0]\n",
    "    if character in Good_characters:\n",
    "        tokens = tokenize(speech[1])\n",
    "        for token in tokens:\n",
    "            if(token in insult_words):\n",
    "                character_insult_matrix[Good_characters_reverse_index.get(character)] += 1\n",
    "\n",
    "for name in Good_characters:\n",
    "    print(name,character_insult_matrix[Good_characters_reverse_index.get(name)])"
   ]
  },
  {
   "attachments": {},
   "cell_type": "markdown",
   "metadata": {},
   "source": [
    "**Ok, but maybe this was too gentle.. The data just wasn't enough.**\n",
    "\n",
    "**There's perhaps not so many chance we can see a character say such words on TV. But what about other words? i looked up in the vocabulary and found the worst words i can imagine. Some of them are really irrespectful.**"
   ]
  },
  {
   "cell_type": "code",
   "execution_count": 82,
   "metadata": {},
   "outputs": [
    {
     "name": "stdout",
     "output_type": "stream",
     "text": [
      "CERSEI 5.0\n",
      "DAENERYS 2.0\n",
      "ARYA 5.0\n",
      "CATELYN 0.0\n",
      "SANSA 6.0\n",
      "TYRION 25.0\n",
      "JON 8.0\n",
      "EDDARD 1.0\n",
      "JAIME 2.0\n",
      "LITTLEFINGER 5.0\n"
     ]
    }
   ],
   "source": [
    "really_bad_insult_words = ['stupid', 'idiot', 'fool', 'dumb','vile','jackass','imbecile','fuck','fucker', 'shit', 'fucking' ,'cunt'\n",
    ",'bastard','bitch', 'curse', 'whore', 'slut', 'piss','cock' ]\n",
    "character_insult_matrix = np.zeros((len(Good_characters)))\n",
    "\n",
    "for speech in GOT_corpus:\n",
    "    character = speech[0]\n",
    "    if character in Good_characters:\n",
    "        tokens = tokenize(speech[1])\n",
    "        for token in tokens:\n",
    "            if(token in really_bad_insult_words):\n",
    "                character_insult_matrix[Good_characters_reverse_index.get(character)] += 1\n",
    "\n",
    "for name in Good_characters:\n",
    "    print(name,character_insult_matrix[Good_characters_reverse_index.get(name)])"
   ]
  },
  {
   "cell_type": "code",
   "execution_count": 83,
   "metadata": {},
   "outputs": [
    {
     "data": {
      "image/png": "[encoded data removed]",
      "text/plain": [
       "<Figure size 1080x288 with 1 Axes>"
      ]
     },
     "metadata": {},
     "output_type": "display_data"
    }
   ],
   "source": [
    "import matplotlib.pyplot as plt\n",
    "plt.figure().set_figwidth(15)\n",
    "plt.title(\"how often do they swear\")\n",
    "plt.xlabel('characters')\n",
    "plt.ylabel('swear times')\n",
    "\n",
    "plt.xticks(rotation=45)\n",
    "plt.bar(Good_characters, character_insult_matrix, color='tab:blue')\n",
    "\n",
    "\n",
    "plt.show()"
   ]
  },
  {
   "attachments": {},
   "cell_type": "markdown",
   "metadata": {},
   "source": [
    "**WOW impressive TYRION... I should've know that this guy really talks. Catelyn... The kind'n'benevolent mother never lost her temper. Sansa, Cersei are mean girls I def know that and Arya has her temper. What about Jon? what's wrong with u?**"
   ]
  },
  {
   "cell_type": "code",
   "execution_count": 84,
   "metadata": {},
   "outputs": [
    {
     "name": "stdout",
     "output_type": "stream",
     "text": [
      "CERSEI 5.0\n",
      "DAENERYS 2.0\n",
      "ARYA 5.0\n",
      "CATELYN 0.0\n",
      "SANSA 6.0\n",
      "TYRION 25.0\n",
      "JON 8.0\n",
      "EDDARD 1.0\n",
      "JAIME 2.0\n",
      "LITTLEFINGER 5.0\n"
     ]
    }
   ],
   "source": [
    "bad_insult_words_without_bastard = ['stupid', 'idiot', 'fool', 'dumb','vile','jackass','imbecile','fuck','fucker', 'shit', 'fucking' ,'cunt'\n",
    ",'bitch', 'curse', 'whore', 'slut', 'piss','cock' ]\n",
    "character_insult_matrix = np.zeros((len(Good_characters)))\n",
    "\n",
    "for speech in GOT_corpus:\n",
    "    character = speech[0]\n",
    "    if character in Good_characters:\n",
    "        tokens = tokenize(speech[1])\n",
    "        for token in tokens:\n",
    "            if(token in really_bad_insult_words):\n",
    "                character_insult_matrix[Good_characters_reverse_index.get(character)] += 1\n",
    "\n",
    "for name in Good_characters:\n",
    "    print(name,character_insult_matrix[Good_characters_reverse_index.get(name)])"
   ]
  },
  {
   "attachments": {},
   "cell_type": "markdown",
   "metadata": {},
   "source": [
    "I'm sorry JON 😭 .. I should've known you didn't mean it when u talks about bastard "
   ]
  },
  {
   "cell_type": "markdown",
   "metadata": {
    "deletable": false,
    "editable": false
   },
   "source": [
    "- - -\n",
    "<p style=\"text-align:left;\"> assignment-2 [extra-credit] ends here <span style=\"float:right;font-size:11px;\"> [[contents](#contents)] </span></p>\n",
    "- - -"
   ]
  }
 ],
 "metadata": {
  "kernelspec": {
   "display_name": "LangInfo",
   "language": "python",
   "name": "python3"
  },
  "language_info": {
   "codemirror_mode": {
    "name": "ipython",
    "version": 3
   },
   "file_extension": ".py",
   "mimetype": "text/x-python",
   "name": "python",
   "nbconvert_exporter": "python",
   "pygments_lexer": "ipython3",
   "version": "3.7.6"
  },
  "vscode": {
   "interpreter": {
    "hash": "98ca369906f7b70fe64afc73e530e378539d08b0e41e494e07f1eb5e7a313c26"
   }
  }
 },
 "nbformat": 4,
 "nbformat_minor": 2
}

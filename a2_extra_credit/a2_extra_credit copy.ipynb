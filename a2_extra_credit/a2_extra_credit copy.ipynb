{
 "cells": [
  {
   "cell_type": "markdown",
   "metadata": {
    "deletable": false,
    "editable": false
   },
   "source": [
    "# Assignment 2 (extra-credit): The game of conversations\n",
    "\n",
    "© Cristian Danescu-Niculescu-Mizil, 2023"
   ]
  },
  {
   "cell_type": "markdown",
   "metadata": {
    "deletable": false,
    "editable": false
   },
   "source": [
    "<p style=\"text-align:center\">\n",
    "    <img src=\"https://drive.google.com/uc?export=view&id=19Xz_xj_ppHybHNVgDJlgbEY3TH_6gj2F\" alt=\"A funny conversation between several characters in Game of Thrones.\" width=\"300\"/><br/>(<a href=\"https://cheezburger.com/2930181/game-of-thrones-season-7-reimagined-as-text-messages\">image source</a>)\n",
    "</p>\n",
    "\n",
    "- - -\n",
    "\n",
    "## INFO/CS 4300: Language and Information <a class=\"anchor\" id=\"guidelines\"></a>\n",
    "\n",
    "> <font color='red'><b>DUE</b>: February 15, 2023 (Wednesday), 11:59pm</font>\n",
    "\n",
    "This assignment is an **individual** component.\n",
    "\n",
    "By now, you've had some exposure to techniques for uncovering social dynamics in textual data through your assignments working with the \"[*Keeping Up With The Kardashians*](https://en.wikipedia.org/wiki/Keeping_Up_with_the_Kardashians)\" dataset. In this assignment we will be giving you the freedom to conduct analysis **of your choosing** on transcripts from the television series \"[*Game of Thrones*](https://en.wikipedia.org/wiki/Game_of_Thrones)\" (GoT).\n",
    "\n",
    "<u>Contributors</u>: In addition to the course staff for INFO/CS 4300 from the past runs, Tushaar Gangavarapu and Jae Kim worked on updating this assignment, while Saif Mahmud and Kai Horstmann were involved in testing the assignment.\n",
    "\n",
    "- - -\n",
    "\n",
    "#### Extra-credit policy\n",
    "\n",
    "The policy for this extra credit is that you should complete as much as you can.\n",
    "\n",
    "- - -\n",
    "\n",
    "#### Learning objectives\n",
    "\n",
    "This project aims to help you get comfortable working with the following tools, technologies, and/or concepts:\n",
    "\n",
    "* Applying learned tools to conduct novel analysis\n",
    "\n",
    "- - -\n",
    "\n",
    "#### Academic integrity and collaboration\n",
    "\n",
    "As mentioned, this project should be completed **individually**. As a result, all University-standard academic integrity guidelines must be followed.\n",
    "\n",
    "- - -\n",
    "\n",
    "#### Grading\n",
    "\n",
    "This extra-credit assignment is open-ended, and will ask you to do a free-form analysis. The number of extra points will be decided based on how interesting, creative, and unique your analysis is. This will, in part, be a subjective judgement on the part of the course staff.\n",
    "\n",
    "- - -\n",
    "\n",
    "**Submission**\n",
    "\n",
    "* You are expected to submit this .ipynb as your submission for Assignment 2 (extra-credit). \n",
    "* In addition please submit an html copy of the notebook (you can create this by clicking File → Download as → HTML (.html))."
   ]
  },
  {
   "cell_type": "markdown",
   "metadata": {
    "deletable": false,
    "editable": false
   },
   "source": [
    "- - -\n",
    "### Contents  <a class=\"anchor\" id=\"contents\"></a>\n",
    "\n",
    "* [Instructions and guidelines](#guidelines)\n",
    "* [Contents](#contents)\n",
    "* [Imports](#0)\n",
    "* [Free-form analysis: Data and preprocessing](#1)\n",
    "* [Extra-credit task](#2)\n",
    "  * [[1](#2a)] Option-1: Gender and social interactions\n",
    "  * [[2](#2b)] Option-2: Open-ended analysis\n"
   ]
  },
  {
   "cell_type": "markdown",
   "metadata": {
    "deletable": false,
    "editable": false
   },
   "source": [
    "- - -\n",
    "<p style='text-align:right; font-size:11px'>[[contents](#contents)]</p>\n",
    "\n",
    "### Imports <a class=\"anchor\" id=\"0\"></a>"
   ]
  },
  {
   "cell_type": "code",
   "execution_count": 2,
   "metadata": {
    "deletable": false,
    "editable": false
   },
   "outputs": [],
   "source": [
    "import re\n",
    "import pickle"
   ]
  },
  {
   "cell_type": "code",
   "execution_count": 3,
   "metadata": {
    "deletable": false,
    "editable": false
   },
   "outputs": [],
   "source": [
    "import sys\n",
    "# Ensure that your kernel is using Python3\n",
    "assert sys.version_info.major == 3"
   ]
  },
  {
   "cell_type": "markdown",
   "metadata": {
    "deletable": false,
    "editable": false
   },
   "source": [
    "- - -\n",
    "<p style='text-align:right; font-size:11px'>[[contents](#contents)]</p>\n",
    "\n",
    "### Free-form analysis: Data and preprocessing <a class=\"anchor\" id=\"1\"></a>\n",
    "\n",
    "We have provided you with some pre-cleansed data that contains a subset of the \"Game of Thrones\" transcripts. This is by no means a comprehensive dataset (many episodes are not represented), but it should be enough data for you to make some meaningful observations.\n",
    "\n",
    "The data is represented as a dictionary that maps an episode title to a transcript (represented as a list of speaker-line tuples):\n",
    "```json\n",
    "{'A Golden Crown': [\n",
    "      ('EDDARD', '  Your pardon, your Grace.'),\n",
    "      ('CERSEI', ' Do you know what your wife has done?'),\n",
    "      ...\n",
    "  ],\n",
    "  ...\n",
    "}\n",
    "```\n",
    "\n",
    "**However, the data is messy so you might want to do some additional steps to clean it.** For instance, character names may not be consistent throughout the transcripts. There might be spelling errors in the names, and characters may be referenced by their firstname only, or by their full name."
   ]
  },
  {
   "cell_type": "code",
   "execution_count": 4,
   "metadata": {
    "deletable": false,
    "editable": false
   },
   "outputs": [],
   "source": [
    "with open(\"got_transcripts.pickle\", \"rb\") as file:\n",
    "    got_data = pickle.load(file)"
   ]
  },
  {
   "cell_type": "code",
   "execution_count": 34,
   "metadata": {
    "deletable": false
   },
   "outputs": [],
   "source": [
    "# list(got_data.values())\n",
    "GOT_corpus = []\n",
    "for episode in list(got_data.values()):\n",
    "    for speech in episode:\n",
    "        GOT_corpus.append(speech)"
   ]
  },
  {
   "cell_type": "code",
   "execution_count": 69,
   "metadata": {},
   "outputs": [
    {
     "data": {
      "text/plain": [
       "5562"
      ]
     },
     "execution_count": 69,
     "metadata": {},
     "output_type": "execute_result"
    }
   ],
   "source": [
    "# get the vocabulary\n",
    "vocabulary = set()\n",
    "for speech in GOT_corpus:\n",
    "    vocabulary.update(tokenize(speech[1]))\n",
    "vocabulary = list(vocabulary)\n",
    "len(vocabulary)"
   ]
  },
  {
   "cell_type": "code",
   "execution_count": 81,
   "metadata": {},
   "outputs": [
    {
     "name": "stdout",
     "output_type": "stream",
     "text": [
      "{'marches': 0, 'punish': 1, 'disaster': 2, 'fell': 3, 'admiration': 4, 'accompagnent': 5, 'defense': 6, 'cross': 7, 'vile': 8, 'attracts': 9, 'commit': 10, 'ferm': 11, 'tart': 12, 'roles': 13, 'quoi': 14, 'hour': 15, 'rel': 16, 'embarrassment': 17, 'mhysa': 18, 'falling': 19, 'until': 20, 'chopped': 21, 'yeux': 22, 'caved': 23, 'new': 24, 'thorns': 25, 'immediately': 26, 'digne': 27, 'prepare': 28, 'cheated': 29, 'righteous': 30, 'supplies': 31, 'elected': 32, 'brings': 33, 'colored': 34, 'venir': 35, 'taking': 36, 'widow': 37, 'decides': 38, 'valaar': 39, 'neither': 40, 'grown': 41, 'saut': 42, 'dance': 43, 'mature': 44, 'ami': 45, 'avant': 46, 'stays': 47, 'begun': 48, 'brune': 49, 'mysterious': 50, 've': 51, 'opened': 52, 'forbidden': 53, 'normal': 54, 'likely': 55, 'racontait': 56, 'happened': 57, 'arrived': 58, 'nature': 59, 'swear': 60, 'feed': 61, 'grabs': 62, 'gonna': 63, 'stairs': 64, 'overfeed': 65, 'powerful': 66, 'proclaim': 67, 'bad': 68, 'practicing': 69, 'deepest': 70, 'sam': 71, 'polished': 72, 'traitors': 73, 'whichever': 74, 'enduring': 75, 'joining': 76, 'yes': 77, 'sufficient': 78, 'instructed': 79, 'enterrerez': 80, 'herself': 81, 'bigger': 82, 'pendant': 83, 'ponctualit': 84, 'wept': 85, 'loved': 86, 'poured': 87, 'hire': 88, 'climbs': 89, 'fur': 90, 'roll': 91, 'whore': 92, 'devenir': 93, 'mind': 94, 'cold': 95, 'among': 96, 'steps': 97, 'jaime': 98, 'highwaymen': 99, 'truth': 100, 'orifice': 101, 'enemy': 102, 'cellar': 103, 'iron': 104, 'away': 105, 'prosper': 106, 'rid': 107, 'truc': 108, 'changed': 109, 'liquide': 110, 'near': 111, 'arrow': 112, 'charming': 113, 'aware': 114, 'unacceptable': 115, 'summerhall': 116, 'cry': 117, 'blessing': 118, 'chopping': 119, 's': 120, 'herd': 121, 'stretch': 122, 'survives': 123, 'outlaws': 124, 'spared': 125, 'aside': 126, 'lordship': 127, 'proven': 128, 'ugliness': 129, 'impression': 130, 'phrase': 131, 'trators': 132, 'tough': 133, 'danger': 134, 'fate': 135, 'seraient': 136, 'hurts': 137, 'buys': 138, 'bitch': 139, 'ancestor': 140, 'swing': 141, 'we': 142, 'osric': 143, 'seven': 144, 'aller': 145, 'impregnate': 146, 'boire': 147, 'hidden': 148, 'changing': 149, 'looting': 150, 'shining': 151, 'happening': 152, 'why': 153, 'in': 154, 'strike': 155, 'non': 156, 'load': 157, 'asses': 158, 'unseating': 159, 'dirais': 160, 'threaten': 161, 'arrive': 162, 'language': 163, 'voices': 164, 'afterwards': 165, 'longues': 166, 'allies': 167, 'rot': 168, 'plus': 169, 'also': 170, 'goodbye': 171, 'dessus': 172, 'morghulis': 173, 'nobody': 174, 'torturing': 175, 'stranger': 176, 'lecher': 177, 'useful': 178, 'tested': 179, 'messir': 180, 'picked': 181, 'counts': 182, 'cock': 183, 'bound': 184, 'dutiful': 185, 'perfect': 186, 'kash': 187, 'dany': 188, 'vintage': 189, 'control': 190, 'twin': 191, 'sweetness': 192, 'numbers': 193, 'skin': 194, 'flown': 195, 'shown': 196, 'loras': 197, 'future': 198, 'tournament': 199, 'wrist': 200, 'fetch': 201, 'worst': 202, 'aux': 203, 'honeycomb': 204, 'morals': 205, 'women': 206, 'prefer': 207, 'easy': 208, 'veillerai': 209, 'maple': 210, 'retour': 211, 'old': 212, 'vient': 213, 'gicle': 214, 'r': 215, 'horseback': 216, 'entered': 217, 'anywhere': 218, 'innocent': 219, 'inch': 220, 'gives': 221, 'rowed': 222, 'tueurs': 223, 'hang': 224, 'roi': 225, 'petite': 226, 'grows': 227, 'swords': 228, 'drinks': 229, 'peuvent': 230, 'few': 231, 'cotter': 232, 'waiting': 233, 'difference': 234, 'dirts': 235, 'nouvelle': 236, 'saying': 237, 'mormont': 238, 'preparing': 239, 'mord': 240, 'murdered': 241, 'nous': 242, 'flooded': 243, 'equally': 244, 'gouged': 245, 'sharp': 246, 'conseil': 247, 'ducks': 248, 'valyria': 249, 'aerys': 250, 'demise': 251, 'restores': 252, 'while': 253, 'hasn': 254, 'rejoice': 255, 'sons': 256, 'significant': 257, 'beginning': 258, 'whilst': 259, 'attacked': 260, 'robert': 261, 'bringing': 262, 'feel': 263, 'lancel': 264, 'dare': 265, 'lonely': 266, 'lannister': 267, 'aligned': 268, 'peux': 269, 'stained': 270, 'intimate': 271, 'loyalty': 272, 'dothraki': 273, 'gash': 274, 'sacks': 275, 'loups': 276, 'manage': 277, 'held': 278, 'instead': 279, 'dragons': 280, 'pressed': 281, 'discretion': 282, 'provincial': 283, 'wait': 284, 'braavos': 285, 'assassinate': 286, 'healing': 287, 'battleaxes': 288, 'later': 289, 'root': 290, 'weren': 291, 'patience': 292, 'harvest': 293, 'peur': 294, 'defend': 295, 'recevoir': 296, 'appeared': 297, 'affair': 298, 'rumor': 299, 'lowest': 300, 'doomed': 301, 'castration': 302, 'silk': 303, 'pourquoi': 304, 'mirre': 305, 'braid': 306, 'tuer': 307, 'bed': 308, 'current': 309, 'execute': 310, 'remind': 311, 'possibilities': 312, 'talker': 313, 'wisest': 314, 'whose': 315, 'telle': 316, 'cravings': 317, 'instructs': 318, 'promettes': 319, 'sont': 320, 'sake': 321, 'cet': 322, 'kneel': 323, 'maintenant': 324, 'stupid': 325, 'red': 326, 'mycah': 327, 'fade': 328, 'ginia': 329, 'cheap': 330, 'isolation': 331, 'coute': 332, 'rides': 333, 'merci': 334, 'rule': 335, 'serra': 336, 'straight': 337, 'ternellemnt': 338, 'killers': 339, 'decide': 340, 'morning': 341, 'dignity': 342, 'suggestion': 343, 'bid': 344, 'inquire': 345, 'stern': 346, 'alive': 347, 'bargaining': 348, 'flies': 349, 'squealing': 350, 'debts': 351, 'leg': 352, 'mercy': 353, 'depuis': 354, 'indeed': 355, 'somme': 356, 'discuss': 357, 'deserved': 358, 'tolerance': 359, 'heaves': 360, 'rival': 361, 'stretcher': 362, 'builders': 363, 'rebelled': 364, 'man': 365, 'important': 366, 'dumb': 367, 'missing': 368, 'redwyne': 369, 'smash': 370, 'addressing': 371, 'westeros': 372, 'wintry': 373, 'recouvrirai': 374, 'plenty': 375, 'track': 376, 'bran': 377, 'unpleasant': 378, 'armourer': 379, 'holdings': 380, 'sleekest': 381, 'cask': 382, 'discipline': 383, 'owls': 384, 'milkmaid': 385, 'jeor': 386, 'se': 387, 'anyway': 388, 'customary': 389, 'sign': 390, 'fewer': 391, 'scheming': 392, 'nuit': 393, 'farmer': 394, 'skycells': 395, 'cel': 396, 'tricks': 397, 'woman': 398, 'pork': 399, 'gestion': 400, 'recognize': 401, 'scar': 402, 'ant': 403, 'formerly': 404, 'fights': 405, 'pace': 406, 'eyri': 407, 'pot': 408, 'shelter': 409, 'milliers': 410, 'profit': 411, 'neat': 412, 'titles': 413, 'trusted': 414, 'mag': 415, 'hips': 416, 'others': 417, 'alliance': 418, 'gardais': 419, 'declare': 420, 'sea': 421, 'refused': 422, 'climber': 423, 'yah': 424, 'entertaining': 425, 'desires': 426, 'dragonbone': 427, 'fer': 428, 'fruit': 429, 'disciplines': 430, 'doute': 431, 'escorting': 432, 'whispers': 433, 'rain': 434, 'without': 435, 'spar': 436, 'fatigu': 437, 'marksman': 438, 'helped': 439, 'stark': 440, 'catered': 441, 'climb': 442, 'wisely': 443, 'entire': 444, 'so': 445, 'generation': 446, 'swill': 447, 'stopped': 448, 'gardens': 449, 'amaryllis': 450, 'lurking': 451, 'cadavers': 452, 'blond': 453, 'trench': 454, 'savais': 455, 'info': 456, 'oublie': 457, 'acquired': 458, 'combats': 459, 'value': 460, 'hide': 461, 'keeper': 462, 'quelle': 463, 'oncle': 464, 'troubled': 465, 'faites': 466, 'requested': 467, 'hereby': 468, 'healed': 469, 'urgent': 470, 'sided': 471, 'chasse': 472, 'best': 473, 'mettre': 474, 'forces': 475, 'redeeming': 476, 'butchered': 477, 'worshipped': 478, 'please': 479, 'peaceful': 480, 'discussing': 481, 'jealous': 482, 'fr': 483, 'whomever': 484, 'destroy': 485, 'tired': 486, 'thing': 487, 'collarbone': 488, 'baby': 489, 'breaks': 490, 'magnifiques': 491, 'proper': 492, 'air': 493, 'battled': 494, 'funny': 495, 'rendition': 496, 'counter': 497, 'accelerate': 498, 'fais': 499, 'meat': 500, 'apologies': 501, 'skips': 502, 'perspective': 503, 'release': 504, 'knocks': 505, 'dreamed': 506, 'sitting': 507, 'clame': 508, 'burned': 509, 'sneak': 510, 'ends': 511, 'done': 512, 'ta': 513, 'clam': 514, 'envie': 515, 'charging': 516, 'practice': 517, 'damned': 518, 'ghost': 519, 'skulls': 520, 'off': 521, 'fleabite': 522, 'riot': 523, 'asleep': 524, 'pissed': 525, 'protection': 526, 'dishonest': 527, 'ships': 528, 'socket': 529, 'eager': 530, 'offre': 531, 'property': 532, 'mothers': 533, 'hmm': 534, 'decidedly': 535, 'dente': 536, 'deserters': 537, 'dusk': 538, 'greyjoys': 539, 'del': 540, 'fille': 541, 'knocking': 542, 'disgusting': 543, 'upset': 544, 'drank': 545, 'bi': 546, 'edge': 547, 'mad': 548, 'reprendrez': 549, 'crowns': 550, 'alternate': 551, 'belly': 552, 'futility': 553, 'liars': 554, 'inspiring': 555, 'charms': 556, 'whetstone': 557, 'arakh': 558, 'grapes': 559, 'wildfire': 560, 'judge': 561, 'engagement': 562, 'wound': 563, 'vomit': 564, 'path': 565, 'fear': 566, 'this': 567, 'fat': 568, 'crown': 569, 'celui': 570, 'came': 571, 'calls': 572, 'guilty': 573, 'starving': 574, 'faith': 575, 'still': 576, 'grotesque': 577, 'raven': 578, 'rickard': 579, 'highgarden': 580, 'especially': 581, 'strut': 582, 'worships': 583, 'contrition': 584, 'entertain': 585, 'spoiled': 586, 'rise': 587, 'fallait': 588, 'outsider': 589, 'by': 590, 'glass': 591, 'talkative': 592, 'fall': 593, 'zme': 594, 'charge': 595, 'horrors': 596, 'trois': 597, 'sharpened': 598, 'doors': 599, 'milk': 600, 'crossbow': 601, 'strip': 602, 'riverrun': 603, 'older': 604, 'plotted': 605, 'commences': 606, 'sides': 607, 'monsters': 608, 'established': 609, 'wildling': 610, 'pudding': 611, 'rakharo': 612, 'tolerate': 613, 'toyne': 614, 'delayed': 615, 'acceptez': 616, 'chop': 617, 'fighters': 618, 'attempts': 619, 'sees': 620, 'hells': 621, 'boys': 622, 'craint': 623, 'te': 624, 'conspicuous': 625, 'pardonnez': 626, 'cach': 627, 'bars': 628, 'fracasser': 629, 'flow': 630, 'drowning': 631, 'third': 632, 'enfant': 633, 'satisfaction': 634, 'minds': 635, 'slice': 636, 'race': 637, 'honorer': 638, 'birds': 639, 'frightened': 640, 'ferme': 641, 'thoughts': 642, 'sommes': 643, 'slay': 644, 'tipper': 645, 'ferais': 646, 'clans': 647, 'nes': 648, 'eau': 649, 'himself': 650, 'bright': 651, 'port': 652, 'bravery': 653, 'manure': 654, 'ransoming': 655, 'discussion': 656, 'kevan': 657, 'snake': 658, 'hostage': 659, 'meryl': 660, 'whiff': 661, 'usurper': 662, 'touched': 663, 'grave': 664, 'experience': 665, 'marks': 666, 'runs': 667, 'stinks': 668, 'dulls': 669, 'fired': 670, 'tarleys': 671, 'qoyi': 672, 'westerosi': 673, 'rape': 674, 'lock': 675, 'imprison': 676, 'supporting': 677, 'tens': 678, 'liking': 679, 'tricked': 680, 'moment': 681, 'lacked': 682, 'gates': 683, 'legitimacy': 684, 'pikes': 685, 'soft': 686, 'crois': 687, 'refugees': 688, 'wolves': 689, 'marching': 690, 'men': 691, 'nest': 692, 'utter': 693, 'tait': 694, 'address': 695, 'penny': 696, 'princesses': 697, 'succeeded': 698, 'amongst': 699, 'loop': 700, 'concerned': 701, 'merciful': 702, 'meekly': 703, 'stripped': 704, 'encore': 705, 'ones': 706, 'courage': 707, 'sole': 708, 'freed': 709, 'broadsword': 710, 'climbers': 711, 'absence': 712, 'one': 713, 'shirei': 714, 'shipped': 715, 'marcheurs': 716, 'chacun': 717, 'actuellement': 718, 'said': 719, 'juicy': 720, 'vie': 721, 'wagon': 722, 'role': 723, 'northern': 724, 'soir': 725, 'beside': 726, 'taller': 727, 'galbart': 728, 'hunt': 729, 'lots': 730, 'myranda': 731, 'everything': 732, 'catastrophe': 733, 'killed': 734, 'alongside': 735, 'enter': 736, 'strangers': 737, 'hiver': 738, 'golden': 739, 'c': 740, 'brotherly': 741, 'skull': 742, 'loss': 743, 'hid': 744, 'shagga': 745, 'house': 746, 'mallister': 747, 'arranged': 748, 'dogs': 749, 'magister': 750, 'thirsty': 751, 'hearing': 752, 'up': 753, 'bloodshed': 754, 'beaten': 755, 'come': 756, 'warm': 757, 'sewing': 758, 'depends': 759, 'gyles': 760, 'summit': 761, 'reckon': 762, 'puts': 763, 'tytos': 764, 'polliver': 765, 'any': 766, 'robb': 767, 'price': 768, 'bargain': 769, 'lorsque': 770, 'improvement': 771, 'pain': 772, 'judges': 773, 'oldest': 774, 'kullback': 775, 'honneur': 776, 'education': 777, 'strangest': 778, 'commander': 779, 'eyed': 780, 'shoulder': 781, 'duties': 782, 'kovarro': 783, 'protects': 784, 'smiled': 785, 'twins': 786, 'land': 787, 'stamina': 788, 'alike': 789, 'bastard': 790, 'overthrew': 791, 'rags': 792, 'authority': 793, 'sailing': 794, 'friend': 795, 'pissing': 796, 'letter': 797, 'found': 798, 'defeated': 799, 'reprieve': 800, 'stuff': 801, 'rapport': 802, 'comings': 803, 'camp': 804, 'khals': 805, 'fifty': 806, 'fools': 807, 'bucket': 808, 'didnt': 809, 'apology': 810, 'way': 811, 'unwashed': 812, 'steel': 813, 'whatnot': 814, 'che': 815, 'sir': 816, 'newborn': 817, 'grandchild': 818, 'amusement': 819, 'politics': 820, 'altar': 821, 'press': 822, 'halfwit': 823, 'hother': 824, 'pleased': 825, 'shove': 826, 'pister': 827, 'thankful': 828, 'titre': 829, 'slowly': 830, 'escaped': 831, 'dungeon': 832, 'oh': 833, 'slavers': 834, 'along': 835, 'deux': 836, 'disappointment': 837, 'afraid': 838, 'survivront': 839, 'grandfather': 840, 'position': 841, 'fangs': 842, 'stops': 843, 'redheads': 844, 'striking': 845, 'brutish': 846, 'brave': 847, 'orner': 848, 'daughters': 849, 'killer': 850, 'riches': 851, 'glory': 852, 'v': 853, 'spoils': 854, 'mmmm': 855, 'despondent': 856, 'struck': 857, 'sad': 858, 'modest': 859, 'tooth': 860, 'excellent': 861, 'qualification': 862, 'led': 863, 'joindre': 864, 'w': 865, 'donn': 866, 'shouting': 867, 'nights': 868, 'appointments': 869, 'archers': 870, 'sustained': 871, 'crow': 872, 'granddaughter': 873, 'occasion': 874, 'breach': 875, 'uncomfortable': 876, 'cela': 877, 'younger': 878, 'royaume': 879, 'insult': 880, 'invented': 881, 'comfort': 882, 'vaincu': 883, 'demandera': 884, 'prise': 885, 'agreed': 886, 'ten': 887, 'shadow': 888, 'andal': 889, 'degree': 890, 'watch': 891, 'bracquemart': 892, 'otherwise': 893, 'crosses': 894, 'approach': 895, 'sound': 896, 'sunset': 897, 'aime': 898, 'quite': 899, 'seventeen': 900, 'received': 901, 'band': 902, 'laugh': 903, 'ugly': 904, 'skill': 905, 'bleed': 906, 'babe': 907, 'stories': 908, 'more': 909, 'trading': 910, 'harmed': 911, 'belle': 912, 'lie': 913, 'sally': 914, 'dagger': 915, 'brown': 916, 'manned': 917, 'reigned': 918, 'dont': 919, 'ancient': 920, 'allons': 921, 'shouldn': 922, 'brief': 923, 'reeling': 924, 'costly': 925, 'begged': 926, 'whisper': 927, 'capital': 928, 'negotiating': 929, 'wondering': 930, 'tormented': 931, 'stoned': 932, 'swept': 933, 'size': 934, 'work': 935, 'misses': 936, 'shadows': 937, 'hm': 938, 'vital': 939, 'plats': 940, 'wounded': 941, 'strictly': 942, 'horselord': 943, 'rains': 944, 'retrouve': 945, 'moons': 946, 'exist': 947, 'impressive': 948, 'perils': 949, 'counseled': 950, 'making': 951, 'tard': 952, 'prove': 953, 'council': 954, 'captur': 955, 'eye': 956, 'coupe': 957, 'parlera': 958, 'abstract': 959, 'fool': 960, 'citizen': 961, 'skewer': 962, 'tommen': 963, 'eunuch': 964, 'retourne': 965, 'presume': 966, 'hiding': 967, 'commanding': 968, 'trant': 969, 'finger': 970, 'fraud': 971, 'eventually': 972, 'turnkey': 973, 'all': 974, 'tumble': 975, 'financial': 976, 'worse': 977, 'gunthor': 978, 'left': 979, 'owe': 980, 'badge': 981, 'world': 982, 'besoin': 983, 'barrage': 984, 'dornishman': 985, 'asking': 986, 'vont': 987, 'leaving': 988, 'harder': 989, 'losing': 990, 'grasper': 991, 'lust': 992, 'talks': 993, 'crypte': 994, 'longtemps': 995, 'above': 996, 'ointment': 997, 'whether': 998, 'ahead': 999, 'attacking': 1000, 'raids': 1001, 'accepted': 1002, 'ale': 1003, 'anhaan': 1004, 'perversion': 1005, 'sois': 1006, 'packed': 1007, 'vardis': 1008, 'prophecy': 1009, 'expensive': 1010, 'adores': 1011, 'secret': 1012, 'grenn': 1013, 'sunrise': 1014, 'easier': 1015, 'crawl': 1016, 'leading': 1017, 'arry': 1018, 'decree': 1019, 'efforts': 1020, 'cynic': 1021, 'fingers': 1022, 'rare': 1023, 'parler': 1024, 'rebellions': 1025, 'envy': 1026, 'g': 1027, 'wintefell': 1028, 'parents': 1029, 'ass': 1030, 'beheading': 1031, 'listens': 1032, 'sealed': 1033, 'solid': 1034, 'knees': 1035, 'improvise': 1036, 'celebrate': 1037, 'delay': 1038, 'simon': 1039, 'boring': 1040, 'seat': 1041, 'verrait': 1042, 'sheer': 1043, 'rabbits': 1044, 'once': 1045, 'assignment': 1046, 'pousse': 1047, 'throw': 1048, 'nuits': 1049, 'sing': 1050, 'beyond': 1051, 'smashed': 1052, 'ter': 1053, 'et': 1054, 'naturalized': 1055, 'heh': 1056, 'on': 1057, 'extra': 1058, 'cuir': 1059, 'know': 1060, 'clean': 1061, 'glorious': 1062, 'inadviseable': 1063, 'equals': 1064, 'or': 1065, 'toi': 1066, 'pet': 1067, 'means': 1068, 'hurt': 1069, 'mordane': 1070, 'exciting': 1071, 'rickon': 1072, 'prized': 1073, 'that': 1074, 'gift': 1075, 'proposed': 1076, 'form': 1077, 'qualifications': 1078, 'team': 1079, 'soleil': 1080, 'ruler': 1081, 'mistake': 1082, 'mae': 1083, 'marries': 1084, 'life': 1085, 'letters': 1086, 'enigma': 1087, 'adore': 1088, 'stormcrows': 1089, 'tranquilles': 1090, 'four': 1091, 'doing': 1092, 'sense': 1093, 'porte': 1094, 'armure': 1095, 'traverserez': 1096, 'succeed': 1097, 'hurting': 1098, 'unhurt': 1099, 'needle': 1100, 'ombre': 1101, 'idiot': 1102, 'won': 1103, 'bharbo': 1104, 'golds': 1105, 'corpses': 1106, 'whelped': 1107, 'lyanna': 1108, 'penetrate': 1109, 'suit': 1110, 'meurent': 1111, 'finish': 1112, 'big': 1113, 'trinkets': 1114, 'engaged': 1115, 'ranger': 1116, 'silence': 1117, 'shooting': 1118, 'missed': 1119, 'crept': 1120, 'breathing': 1121, 'arriver': 1122, 'inheritance': 1123, 'nephew': 1124, 'ending': 1125, 'murder': 1126, 'stream': 1127, 'heaven': 1128, 'chieftain': 1129, 'tais': 1130, 'filles': 1131, 'pourrais': 1132, 'seize': 1133, 'statue': 1134, 'behaved': 1135, 'hates': 1136, 'rapists': 1137, 'puisque': 1138, 'confier': 1139, 'ambuscade': 1140, 'rit': 1141, 'enough': 1142, 'fealty': 1143, 'overcome': 1144, 'dynasty': 1145, 'existence': 1146, 'harp': 1147, 'cursed': 1148, 'prouve': 1149, 'rescue': 1150, 'lyonel': 1151, 'othor': 1152, 'vais': 1153, 'earlier': 1154, 'sent': 1155, 'turnip': 1156, 'terrifying': 1157, 'beds': 1158, 'guerre': 1159, 'drunken': 1160, 'sinistre': 1161, 'doubt': 1162, 'wall': 1163, 'gros': 1164, 'bay': 1165, 'recovered': 1166, 'healer': 1167, 'cloaks': 1168, 'complaining': 1169, 'dans': 1170, 'stupidity': 1171, 'rich': 1172, 'fun': 1173, 'gut': 1174, 'ain': 1175, 'issue': 1176, 'spikes': 1177, 'though': 1178, 'beheaded': 1179, 'va': 1180, 'discovered': 1181, 'person': 1182, 'screamed': 1183, 'vacchaki': 1184, 'miracle': 1185, 'stone': 1186, 'encampment': 1187, 'roads': 1188, 'his': 1189, 'sunflowers': 1190, 'fighting': 1191, 'mouth': 1192, 'stag': 1193, 'shark': 1194, 'denying': 1195, 'letting': 1196, 'provided': 1197, 'read': 1198, 'didn': 1199, 'si': 1200, 'accords': 1201, 'hoped': 1202, 'nicked': 1203, 'opposite': 1204, 'inflict': 1205, 'unlike': 1206, 'correctly': 1207, 'almost': 1208, 'agree': 1209, 'cart': 1210, 'yet': 1211, 'further': 1212, 'defender': 1213, 'rarely': 1214, 'unmanned': 1215, 'death': 1216, 'satisfactory': 1217, 'judgement': 1218, 'shameful': 1219, 'deserter': 1220, 'exercise': 1221, 'mistaking': 1222, 'wasted': 1223, 'unparalleled': 1224, 'curious': 1225, 'ciles': 1226, 'cooperates': 1227, 'child': 1228, 'freak': 1229, 'warning': 1230, 'navel': 1231, 'dressed': 1232, 'rewarded': 1233, 'respected': 1234, 'ghouls': 1235, 'egen': 1236, 'obeying': 1237, 'vanguard': 1238, 'weary': 1239, 'disappointing': 1240, 'savoir': 1241, 'uh': 1242, 'escape': 1243, 'speared': 1244, 'wage': 1245, 'six': 1246, 'careful': 1247, 'dira': 1248, 'jafer': 1249, 'lowborn': 1250, 'varys': 1251, 'leagues': 1252, 'yield': 1253, 'blazing': 1254, 'droves': 1255, 'absolument': 1256, 'devenu': 1257, 'famed': 1258, 'cared': 1259, 'castral': 1260, 'captured': 1261, 'climbing': 1262, 'magnifique': 1263, 'household': 1264, 'befalling': 1265, 'threat': 1266, 'fuckers': 1267, 'waking': 1268, 'prick': 1269, 'stick': 1270, 'unexpected': 1271, 'punishment': 1272, 'smothered': 1273, 'knew': 1274, 'firm': 1275, 'chasser': 1276, 'torn': 1277, 'fabric': 1278, 'maisons': 1279, 'request': 1280, 'glovers': 1281, 'slavery': 1282, 'affections': 1283, 'rant': 1284, 'riverlands': 1285, 'feet': 1286, 'shortly': 1287, 'westerlands': 1288, 'notice': 1289, 'filthy': 1290, 'yer': 1291, 'usury': 1292, 'rots': 1293, 'singer': 1294, 'known': 1295, 'howling': 1296, 'prince': 1297, 'burdens': 1298, 'voyons': 1299, 'mommy': 1300, 'ussira': 1301, 'coup': 1302, 'reasons': 1303, 'roughly': 1304, 'wrote': 1305, 'cast': 1306, 'darkest': 1307, 'mirri': 1308, 'wet': 1309, 'nor': 1310, 'inqui': 1311, 'dancer': 1312, 'accomplish': 1313, 'birthmark': 1314, 'beaut': 1315, 'unlikely': 1316, 'sits': 1317, 'tears': 1318, 'willing': 1319, 'carry': 1320, 'servir': 1321, 'raconte': 1322, 'centuries': 1323, 'alright': 1324, 'slogging': 1325, 'sigil': 1326, 'joliment': 1327, 'grotesques': 1328, 'granddaughters': 1329, 'tormund': 1330, 'official': 1331, 'catch': 1332, 'dislikes': 1333, 'meeting': 1334, 'endured': 1335, 'anymore': 1336, 'laissera': 1337, 'cower': 1338, 'negotiate': 1339, 'simpler': 1340, 'balon': 1341, 'tow': 1342, 'buried': 1343, 'movements': 1344, 'commun': 1345, 'mais': 1346, 'dishonor': 1347, 'inaccurate': 1348, 'titan': 1349, 'aimions': 1350, 'trueborn': 1351, 'brienne': 1352, 'mission': 1353, 'clearly': 1354, 'matter': 1355, 'oafs': 1356, 'mermaids': 1357, 'lighten': 1358, 'hurry': 1359, 'cave': 1360, 'juices': 1361, 'forever': 1362, 'reminded': 1363, 'targaryen': 1364, 'propri': 1365, 'mikken': 1366, 'expects': 1367, 'deaf': 1368, 'sustenance': 1369, 'tiriez': 1370, 'written': 1371, 'boat': 1372, 'were': 1373, 'vite': 1374, 'walking': 1375, 'headman': 1376, 'myr': 1377, 'eloquent': 1378, 'refreshment': 1379, 'warrior': 1380, 'blesser': 1381, 'asshai': 1382, 'slide': 1383, 'honored': 1384, 'lines': 1385, 'undisciplined': 1386, 'premier': 1387, 'lover': 1388, 'souviens': 1389, 'everyone': 1390, 'cheer': 1391, 'returns': 1392, 'issa': 1393, 'leads': 1394, 'idols': 1395, 'pompous': 1396, 'consummated': 1397, 'knight': 1398, 'begin': 1399, 'occasions': 1400, 'dancing': 1401, 'slaughter': 1402, 'poetic': 1403, 'gladly': 1404, 'home': 1405, 'steady': 1406, 'failure': 1407, 'significance': 1408, 'battlefields': 1409, 'ill': 1410, 'littlefinger': 1411, 'aurons': 1412, 'operate': 1413, 'eddard': 1414, 'enemies': 1415, 'game': 1416, 'strong': 1417, 'loan': 1418, 'neighbors': 1419, 'tame': 1420, 'existed': 1421, 'misery': 1422, 'through': 1423, 'sail': 1424, 'ignore': 1425, 'square': 1426, 'qotho': 1427, 'alas': 1428, 'heward': 1429, 'anybody': 1430, 'cersei': 1431, 'falaises': 1432, 'reign': 1433, 'baratheon': 1434, 'hail': 1435, 'retourner': 1436, 'mess': 1437, 'knowledge': 1438, 'power': 1439, 'premi': 1440, 'naked': 1441, 'trang': 1442, 'egg': 1443, 'plucked': 1444, 'sometimes': 1445, 'crira': 1446, 'lovemaking': 1447, 'accommodations': 1448, 'souls': 1449, 'boltons': 1450, 'nobility': 1451, 'za': 1452, 'survivors': 1453, 'hizdahr': 1454, 'monter': 1455, 'less': 1456, 'godless': 1457, 'open': 1458, 'greyjoy': 1459, 'window': 1460, 'people': 1461, 'forcing': 1462, 'cowards': 1463, 'fail': 1464, 'sudden': 1465, 'reckless': 1466, 'sow': 1467, 'swift': 1468, 'good': 1469, 'screamers': 1470, 'avorton': 1471, 'maz': 1472, 'retreated': 1473, 'little': 1474, 'naharis': 1475, 'seals': 1476, 'room': 1477, 'inner': 1478, 'clap': 1479, 'statement': 1480, 'fuir': 1481, 'belles': 1482, 'shoved': 1483, 'gutters': 1484, 'thought': 1485, 'pay': 1486, 'nuiront': 1487, 'virzetha': 1488, 'winters': 1489, 'and': 1490, 'sept': 1491, 'yearling': 1492, 'act': 1493, 'godswood': 1494, 'beauty': 1495, 'lack': 1496, 'poserais': 1497, 'shaggydog': 1498, 'persuade': 1499, 'coming': 1500, 'husband': 1501, 'temper': 1502, 'befriending': 1503, 'tourney': 1504, 'province': 1505, 'bothers': 1506, 'scythe': 1507, 'shouted': 1508, 'failed': 1509, 'mammoths': 1510, 'dull': 1511, 'itself': 1512, 'heart': 1513, 'monstre': 1514, 'dame': 1515, 'martell': 1516, 'awful': 1517, 'sky': 1518, 'ha': 1519, 'animals': 1520, 'parait': 1521, 'lays': 1522, 'majesty': 1523, 'town': 1524, 'leaders': 1525, 'wench': 1526, 'conditions': 1527, 'permanent': 1528, 'holdfast': 1529, 'apport': 1530, 'personal': 1531, 'breast': 1532, 'ghosts': 1533, 'orphans': 1534, 'kennels': 1535, 'voit': 1536, 'spears': 1537, 'commands': 1538, 'wield': 1539, 'somebody': 1540, 'than': 1541, 'aimera': 1542, 'lf': 1543, 'questions': 1544, 'dine': 1545, 'things': 1546, 'nan': 1547, 'novice': 1548, 'septon': 1549, 'areas': 1550, 'cunts': 1551, 'king': 1552, 'dresserez': 1553, 'problem': 1554, 'kingly': 1555, 'selmy': 1556, 'eternity': 1557, 'sick': 1558, 'forced': 1559, 'majest': 1560, 'unluckily': 1561, 'veiled': 1562, 'becca': 1563, 'get': 1564, 'trident': 1565, 'stables': 1566, 'tribes': 1567, 'amuses': 1568, 'voulez': 1569, 'poplar': 1570, 'attends': 1571, 'constitute': 1572, 'cruelty': 1573, 'rement': 1574, 'homilies': 1575, 'loves': 1576, 'oppose': 1577, 'passes': 1578, 'ward': 1579, 'pierce': 1580, 'restore': 1581, 'orders': 1582, 'send': 1583, 'thieves': 1584, 'arises': 1585, 'lifetime': 1586, 'partner': 1587, 'mestre': 1588, 'whereabouts': 1589, 'dedicate': 1590, 'despite': 1591, 'forsake': 1592, 'broken': 1593, 'meals': 1594, 'intended': 1595, 'visit': 1596, 'effraient': 1597, 'pisses': 1598, 'roses': 1599, 'fright': 1600, 'besides': 1601, 'dared': 1602, 'delivering': 1603, 'based': 1604, 'avec': 1605, 'officers': 1606, 'sol': 1607, 'emmener': 1608, 'umbers': 1609, 'chaque': 1610, 'larder': 1611, 'conquer': 1612, 'instructions': 1613, 'craft': 1614, 'determines': 1615, 'antidote': 1616, 'swore': 1617, 'powers': 1618, 'rode': 1619, 'perversions': 1620, 'suzerain': 1621, 'je': 1622, 'process': 1623, 'satisfies': 1624, 'ought': 1625, 'cinq': 1626, 'tenir': 1627, 'shadowcat': 1628, 'scared': 1629, 'points': 1630, 'viper': 1631, 'concern': 1632, 'thoroughfares': 1633, 'owed': 1634, 'doran': 1635, 'vroz': 1636, 'sais': 1637, 'spitting': 1638, 'hommes': 1639, 'sworn': 1640, 'surtout': 1641, 'inches': 1642, 'nails': 1643, 'players': 1644, 'winter': 1645, 'mmm': 1646, 'sweet': 1647, 'scars': 1648, 'sa': 1649, 'triangular': 1650, 'giving': 1651, 'jorah': 1652, 'used': 1653, 'meereenese': 1654, 'autres': 1655, 'priestess': 1656, 'ripping': 1657, 'avais': 1658, 'disturbing': 1659, 'deliver': 1660, 'save': 1661, 'enseigner': 1662, 'carve': 1663, 'terrors': 1664, 'despised': 1665, 'injustice': 1666, 'signal': 1667, 'mois': 1668, 'main': 1669, 'sack': 1670, 'accidentally': 1671, 'did': 1672, 'tongue': 1673, 'owns': 1674, 'ahh': 1675, 'outlaw': 1676, 'managed': 1677, 'peddlers': 1678, 'faveur': 1679, 'encro': 1680, 'servi': 1681, 'couronne': 1682, 'drogo': 1683, 'warriors': 1684, 'servant': 1685, 'stronger': 1686, 'frighten': 1687, 'en': 1688, 'mounted': 1689, 'nombreuses': 1690, 'examine': 1691, 'samwell': 1692, 'veulent': 1693, 'hound': 1694, 'comfortable': 1695, 'assist': 1696, 'holes': 1697, 'mourning': 1698, 'hacks': 1699, 'innocents': 1700, 'bronn': 1701, 'grimpeur': 1702, 'sure': 1703, 'accepte': 1704, 'valid': 1705, 'outbursts': 1706, 'shield': 1707, 'hero': 1708, 'sarra': 1709, 'terrible': 1710, 'frightens': 1711, 'slipping': 1712, 'onion': 1713, 'betrothed': 1714, 'gathers': 1715, 'pride': 1716, 'river': 1717, 'happiness': 1718, 'triumph': 1719, 'dur': 1720, 'mountaintop': 1721, 'was': 1722, 'cousins': 1723, 'babies': 1724, 'ai': 1725, 'cavalier': 1726, 'acts': 1727, 'voyage': 1728, 'hateful': 1729, 'line': 1730, 'rights': 1731, 'olenna': 1732, 'take': 1733, 'battles': 1734, 'kidnapped': 1735, 'both': 1736, 'disgr': 1737, 'stealing': 1738, 'comment': 1739, 'mouths': 1740, 'cook': 1741, 'friends': 1742, 'grubbing': 1743, 'softer': 1744, 'throne': 1745, 'fiercely': 1746, 'greatest': 1747, 'crowded': 1748, 'trouble': 1749, 'rends': 1750, 'looks': 1751, 'remonte': 1752, 'ourselves': 1753, 'for': 1754, 'represent': 1755, 'bloodlines': 1756, 'village': 1757, 'before': 1758, 'recruits': 1759, 'toll': 1760, 'chained': 1761, 'illyrio': 1762, 'rushes': 1763, 'parie': 1764, 'formation': 1765, 'quand': 1766, 'dieux': 1767, 'advantage': 1768, 'veins': 1769, 'sacred': 1770, 'os': 1771, 'yours': 1772, 'disrespectful': 1773, 'qoy': 1774, 'precious': 1775, 'climbed': 1776, 'first': 1777, 'bit': 1778, 'magisters': 1779, 'slaver': 1780, 'honorable': 1781, 'squalling': 1782, 'manier': 1783, 'refuser': 1784, 'abandoning': 1785, 'mob': 1786, 'enjoying': 1787, 'silver': 1788, 'low': 1789, 'runt': 1790, 'blinked': 1791, 'madness': 1792, 'mra': 1793, 'donnent': 1794, 'hood': 1795, 'princess': 1796, 'onto': 1797, 'whoa': 1798, 'blend': 1799, 'powder': 1800, 'lip': 1801, 'kind': 1802, 'tu': 1803, 'robyn': 1804, 'expert': 1805, 'possession': 1806, 'frey': 1807, 'scene': 1808, 'code': 1809, 'lobster': 1810, 'company': 1811, 'flagon': 1812, 'spoiling': 1813, 'devour': 1814, 'lad': 1815, 'caches': 1816, 'liked': 1817, 'loud': 1818, 'gar': 1819, 'what': 1820, 'reek': 1821, 'pleaded': 1822, 'crush': 1823, 'stupidest': 1824, 'proof': 1825, 'many': 1826, 'devotion': 1827, 'being': 1828, 'loving': 1829, 'seen': 1830, 'punctuality': 1831, 'disrespect': 1832, 'black': 1833, 'essence': 1834, 'bannermen': 1835, 'occasional': 1836, 'stands': 1837, 'blackwater': 1838, 'thanked': 1839, 'conspired': 1840, 'works': 1841, 'promised': 1842, 'brand': 1843, 'queens': 1844, 'anything': 1845, 'clams': 1846, 'ignored': 1847, 'plu': 1848, 'langue': 1849, 'pi': 1850, 'dohaeris': 1851, 'ancestors': 1852, 'qorasokh': 1853, 'assemble': 1854, 'breath': 1855, 'ulf': 1856, 'shut': 1857, 'chair': 1858, 'dog': 1859, 'styr': 1860, 'fighter': 1861, 'accident': 1862, 'prevented': 1863, 'confronted': 1864, 'think': 1865, 'heel': 1866, 'eighth': 1867, 'warn': 1868, 'pyre': 1869, 'gorgeous': 1870, 'count': 1871, 'obara': 1872, 'given': 1873, 'better': 1874, 'packs': 1875, 'candidates': 1876, 'yards': 1877, 'stolen': 1878, 'three': 1879, 'believe': 1880, 'depose': 1881, 'false': 1882, 'steffon': 1883, 'merchant': 1884, 'other': 1885, 'inside': 1886, 'courageux': 1887, 'hut': 1888, 'confined': 1889, 'pourra': 1890, 'common': 1891, 'bear': 1892, 'opponents': 1893, 'conserver': 1894, 'whisperers': 1895, 'balance': 1896, 'gloves': 1897, 'walker': 1898, 'not': 1899, 'bonjour': 1900, 'souhaite': 1901, 'usual': 1902, 'dishonorable': 1903, 'scattered': 1904, 'designed': 1905, 'marvelous': 1906, 'prouesse': 1907, 'conclusion': 1908, 'available': 1909, 'wages': 1910, 'au': 1911, 'present': 1912, 'go': 1913, 'deal': 1914, 'buying': 1915, 'belonged': 1916, 'iderenna': 1917, 'begging': 1918, 'ville': 1919, 'donne': 1920, 'myhsa': 1921, 'dolf': 1922, 'bones': 1923, 'accounts': 1924, 'companions': 1925, 'into': 1926, 'grande': 1927, 'van': 1928, 'royal': 1929, 'gitime': 1930, 'apr': 1931, 'baratheons': 1932, 'carried': 1933, 'blasphemy': 1934, 'laide': 1935, 'vale': 1936, 'named': 1937, 'spectacular': 1938, 'wind': 1939, 'stuffed': 1940, 'thanks': 1941, 'pretending': 1942, 'yanked': 1943, 'heads': 1944, 'rrifi': 1945, 'hope': 1946, 'tourne': 1947, 'serious': 1948, 'lys': 1949, 'helmet': 1950, 'acorn': 1951, 'interpret': 1952, 'ros': 1953, 'gather': 1954, 'safe': 1955, 'al': 1956, 'water': 1957, 'damn': 1958, 'find': 1959, 'parchment': 1960, 'weather': 1961, 'stew': 1962, 'naming': 1963, 'trouve': 1964, 'my': 1965, 'youngest': 1966, 'places': 1967, 'trap': 1968, 'nine': 1969, 'surviving': 1970, 'arresting': 1971, 'busy': 1972, 'botched': 1973, 'counting': 1974, 'slow': 1975, 'prayed': 1976, 'business': 1977, 'knocked': 1978, 'introduce': 1979, 'pray': 1980, 'confessions': 1981, 'train': 1982, 'chambre': 1983, 'none': 1984, 'brothers': 1985, 'aron': 1986, 'risk': 1987, 'teach': 1988, 'leaves': 1989, 'woods': 1990, 'former': 1991, 'brod': 1992, 'hairy': 1993, 'gosse': 1994, 'unconvincing': 1995, 'loyalties': 1996, 'casque': 1997, 'enclin': 1998, 'stones': 1999, 'virgins': 2000, 'fork': 2001, 'colors': 2002, 'balls': 2003, 'mutton': 2004, 'controls': 2005, 'released': 2006, 'squired': 2007, 'foot': 2008, 'stable': 2009, 'e': 2010, 'disappoint': 2011, 'galley': 2012, 'pillar': 2013, 'sought': 2014, 'ate': 2015, 'autrefois': 2016, 'word': 2017, 'lied': 2018, 'ramsay': 2019, 'tremble': 2020, 'spine': 2021, 'luck': 2022, 'dozen': 2023, 'covered': 2024, 'fellow': 2025, 'break': 2026, 'n': 2027, 'traitor': 2028, 'front': 2029, 'abandon': 2030, 'amazing': 2031, 'mean': 2032, 'heavy': 2033, 'gueuse': 2034, 'turns': 2035, 'plain': 2036, 'pose': 2037, 'rebels': 2038, 'fortresses': 2039, 'sud': 2040, 'approve': 2041, 'message': 2042, 'guess': 2043, 'coquine': 2044, 'sows': 2045, 'llyn': 2046, 'return': 2047, 'trouv': 2048, 'sang': 2049, 'imagine': 2050, 'keeping': 2051, 'insulter': 2052, 'avachie': 2053, 'hills': 2054, 'freys': 2055, 'seront': 2056, 'lazy': 2057, 'armory': 2058, 'servirai': 2059, 'utterly': 2060, 'gamblers': 2061, 'wrong': 2062, 'donner': 2063, 'longueur': 2064, 'asks': 2065, 'votre': 2066, 'hadn': 2067, 'conspiring': 2068, 'hard': 2069, 'rebellion': 2070, 'whereas': 2071, 'gang': 2072, 'training': 2073, 'soldier': 2074, 'graves': 2075, 'exempt': 2076, 'hatif': 2077, 'observers': 2078, 'bleeding': 2079, 'combat': 2080, 'interrupt': 2081, 'great': 2082, 'staying': 2083, 'collecting': 2084, 'greater': 2085, 'taxes': 2086, 'flee': 2087, 'compared': 2088, 'plate': 2089, 'piss': 2090, 'match': 2091, 'roots': 2092, 'pickpockets': 2093, 'thoros': 2094, 'at': 2095, 'excused': 2096, 'hall': 2097, 'vigil': 2098, 'arm': 2099, 'turncloak': 2100, 'longest': 2101, 'went': 2102, 'bath': 2103, 'branded': 2104, 'greyscale': 2105, 'delicate': 2106, 'coated': 2107, 'stomach': 2108, 'packing': 2109, 'spare': 2110, 'mountain': 2111, 'how': 2112, 'rien': 2113, 'outlawed': 2114, 'reads': 2115, 'widowed': 2116, 'pursue': 2117, 'watchman': 2118, 'boil': 2119, 'horde': 2120, 'necks': 2121, 'deceive': 2122, 'unaware': 2123, 'oublierais': 2124, 'retaliate': 2125, 'share': 2126, 'ann': 2127, 'finest': 2128, 'dangerous': 2129, 'job': 2130, 'shore': 2131, 'plan': 2132, 'mirrored': 2133, 'dragonstone': 2134, 'trail': 2135, 'regent': 2136, 'forbid': 2137, 'each': 2138, 'disturbed': 2139, 'thinks': 2140, 'describing': 2141, 'folded': 2142, 'imp': 2143, 'duur': 2144, 'book': 2145, 'cripple': 2146, 'slit': 2147, 'patrie': 2148, 'worthless': 2149, 'whole': 2150, 'recently': 2151, 'vaguement': 2152, 'temps': 2153, 'consume': 2154, 'fuss': 2155, 'sister': 2156, 'allez': 2157, 'competition': 2158, 'monstrosity': 2159, 'sin': 2160, 'travel': 2161, 'just': 2162, 'ended': 2163, 'war': 2164, 'la': 2165, 'irogenia': 2166, 'clouds': 2167, 'bur': 2168, 'piercing': 2169, 'trystane': 2170, 'savez': 2171, 'win': 2172, 'formal': 2173, 'complained': 2174, 'entends': 2175, 'sauvageons': 2176, 'promises': 2177, 'uncles': 2178, 'shedding': 2179, 'bird': 2180, 'quitter': 2181, 'colombe': 2182, 'gotten': 2183, 'hears': 2184, 'copy': 2185, 'protected': 2186, 'remain': 2187, 'having': 2188, 'melisandre': 2189, 'together': 2190, 'which': 2191, 'wives': 2192, 'commerce': 2193, 'locale': 2194, 'ensure': 2195, 'shared': 2196, 'sight': 2197, 'face': 2198, 'potential': 2199, 'watched': 2200, 'reflection': 2201, 'be': 2202, 'chew': 2203, 'outrageous': 2204, 'box': 2205, 'attrape': 2206, 'un': 2207, 'lowered': 2208, 'talk': 2209, 'hill': 2210, 'fair': 2211, 'notices': 2212, 'entail': 2213, 'forel': 2214, 'faithful': 2215, 'caves': 2216, 'sunspear': 2217, 'kept': 2218, 'claimed': 2219, 'opinions': 2220, 'pups': 2221, 'richest': 2222, 'fucking': 2223, 'told': 2224, 'character': 2225, 'k': 2226, 'afire': 2227, 'tale': 2228, 'boars': 2229, 'dragged': 2230, 'benjen': 2231, 'interest': 2232, 'animal': 2233, 'bathed': 2234, 'fermer': 2235, 'military': 2236, 'skewered': 2237, 'cout': 2238, 'reinforcements': 2239, 'veil': 2240, 'grimper': 2241, 'tried': 2242, 'knelt': 2243, 'scum': 2244, 'pic': 2245, 'thenn': 2246, 'berries': 2247, 'dothrak': 2248, 'crossing': 2249, 'subit': 2250, 'jumeau': 2251, 'latter': 2252, 'retournons': 2253, 'vow': 2254, 'vanity': 2255, 'dear': 2256, 'sink': 2257, 'tits': 2258, 'sacre': 2259, 'embl': 2260, 'adult': 2261, 'giants': 2262, 'investment': 2263, 'bald': 2264, 'confront': 2265, 'avons': 2266, 'travail': 2267, 'collines': 2268, 'top': 2269, 'cu': 2270, 'supply': 2271, 'cells': 2272, 'cette': 2273, 'ravens': 2274, 'cheese': 2275, 'dictate': 2276, 'birth': 2277, 'unaccustomed': 2278, 'over': 2279, 'laughs': 2280, 'hollard': 2281, 'reposer': 2282, 'mountains': 2283, 'sobered': 2284, 'brush': 2285, 'darling': 2286, 'accordance': 2287, 'change': 2288, 'manger': 2289, 'excuses': 2290, 'scream': 2291, 'avenging': 2292, 'trace': 2293, 'guardsmen': 2294, 'gods': 2295, 'fera': 2296, 'exceedingly': 2297, 'another': 2298, 'eel': 2299, 'foreigner': 2300, 'tail': 2301, 'happy': 2302, 'cutthroats': 2303, 'dwarves': 2304, 'nickname': 2305, 'supper': 2306, 'hunters': 2307, 'pense': 2308, 'seriously': 2309, 'linger': 2310, 'bannerman': 2311, 'specific': 2312, 'luwin': 2313, 'lovely': 2314, 'swallow': 2315, 'disait': 2316, 'kingslayer': 2317, 'lay': 2318, 'monarch': 2319, 'demand': 2320, 'traditions': 2321, 'ways': 2322, 'nouveau': 2323, 'infant': 2324, 'worm': 2325, 'court': 2326, 'books': 2327, 'curved': 2328, 'advisor': 2329, 'combien': 2330, 'fuck': 2331, 'invit': 2332, 'tarth': 2333, 'seul': 2334, 'fourth': 2335, 'safely': 2336, 'lives': 2337, 'castles': 2338, 'addam': 2339, 'runaways': 2340, 'pitch': 2341, 'gregor': 2342, 'does': 2343, 'kingdom': 2344, 'appears': 2345, 'evening': 2346, 'despise': 2347, 'elite': 2348, 'alarm': 2349, 'prophecies': 2350, 'affection': 2351, 'covering': 2352, 'bold': 2353, 'interfered': 2354, 'acted': 2355, 'dirait': 2356, 'hello': 2357, 'eastern': 2358, 'straps': 2359, 'touching': 2360, 'fates': 2361, 'peddle': 2362, 'narrow': 2363, 'suspect': 2364, 'miles': 2365, 'blamed': 2366, 'guarding': 2367, 'working': 2368, 'th': 2369, 'brusco': 2370, 'sansa': 2371, 'amends': 2372, 'song': 2373, 'monie': 2374, 'host': 2375, 'gifted': 2376, 'painted': 2377, 'refuses': 2378, 'shoulders': 2379, 'died': 2380, 'abducted': 2381, 'eyrie': 2382, 'conduisent': 2383, 'possibly': 2384, 'avoid': 2385, 'guessing': 2386, 'faut': 2387, 'turning': 2388, 'tries': 2389, 'assume': 2390, 'difficult': 2391, 'le': 2392, 'swordsman': 2393, 'sand': 2394, 'fled': 2395, 'bears': 2396, 'hush': 2397, 'qopsa': 2398, 'tonight': 2399, 'firstborn': 2400, 'lost': 2401, 'speed': 2402, 'sickness': 2403, 'cunt': 2404, 'if': 2405, 'histoire': 2406, 'savage': 2407, 'wiser': 2408, 'quitt': 2409, 'smirking': 2410, 'therefore': 2411, 'illness': 2412, 'prononc': 2413, 'where': 2414, 'proved': 2415, 'hounds': 2416, 'mentioned': 2417, 'guts': 2418, 'after': 2419, 'ceci': 2420, 'spoke': 2421, 'dried': 2422, 'accept': 2423, 'treasury': 2424, 'tonneaux': 2425, 'smoke': 2426, 'agrees': 2427, 'learn': 2428, 'armies': 2429, 'renly': 2430, 'dungeons': 2431, 'befallen': 2432, 'tysha': 2433, 'announcing': 2434, 'float': 2435, 'steals': 2436, 'taken': 2437, 'loudly': 2438, 'savages': 2439, 'smug': 2440, 'heard': 2441, 'howled': 2442, 'laisser': 2443, 'beg': 2444, 'corners': 2445, 'attention': 2446, 'swung': 2447, 'weighing': 2448, 'confuse': 2449, 'freezing': 2450, 'burning': 2451, 'fit': 2452, 'carving': 2453, 'builder': 2454, 'princes': 2455, 'villages': 2456, 'mistress': 2457, 'grass': 2458, 'with': 2459, 'maesters': 2460, 'our': 2461, 'warlord': 2462, 'alleys': 2463, 'ohosa': 2464, 'wyllis': 2465, 'effort': 2466, 'earth': 2467, 'closed': 2468, 'remarried': 2469, 'vus': 2470, 'archer': 2471, 'palm': 2472, 'tant': 2473, 'artery': 2474, 'hugh': 2475, 'pieds': 2476, 'hosts': 2477, 'everybody': 2478, 'legged': 2479, 'nul': 2480, 'parts': 2481, 'forget': 2482, 'become': 2483, 'meaning': 2484, 'always': 2485, 'fires': 2486, 'feels': 2487, 'cats': 2488, 'armorer': 2489, 'revenge': 2490, 'waldra': 2491, 'planned': 2492, 'embarrassed': 2493, 'tre': 2494, 'paid': 2495, 'dies': 2496, 'stutter': 2497, 'foraging': 2498, 'portes': 2499, 'lit': 2500, 'seras': 2501, 'accomplishment': 2502, 'friendship': 2503, 'flowers': 2504, 'charged': 2505, 'jaehaerys': 2506, 'dois': 2507, 'succession': 2508, 'commonly': 2509, 'spokes': 2510, 'summoned': 2511, 'asked': 2512, 'month': 2513, 'putting': 2514, 'plongeon': 2515, 'half': 2516, 'moved': 2517, 'manners': 2518, 'stupide': 2519, 'saddled': 2520, 'advice': 2521, 'relax': 2522, 'respects': 2523, 'harbor': 2524, 'play': 2525, 'worried': 2526, 'southerners': 2527, 'pointed': 2528, 'slaves': 2529, 'introducing': 2530, 'determined': 2531, 'ed': 2532, 'bienvenu': 2533, 'tasteless': 2534, 'invincible': 2535, 'hands': 2536, 'insists': 2537, 'impressed': 2538, 'meanness': 2539, 'affairs': 2540, 'neras': 2541, 'sembler': 2542, 'stab': 2543, 'mute': 2544, 'pollute': 2545, 'rounds': 2546, 'opportunities': 2547, 'chewy': 2548, 'beaucoup': 2549, 'parmis': 2550, 'command': 2551, 'stallions': 2552, 'hospitality': 2553, 'lowly': 2554, 'gloat': 2555, 'angry': 2556, 'jaqen': 2557, 'lunge': 2558, 'esp': 2559, 'thrilling': 2560, 'stared': 2561, 'around': 2562, 'footed': 2563, 'pocket': 2564, 'longclaw': 2565, 'gamin': 2566, 'holds': 2567, 'remove': 2568, 'carrying': 2569, 'post': 2570, 'blade': 2571, 'serons': 2572, 'grab': 2573, 'witnesses': 2574, 'dissuade': 2575, 'enterrer': 2576, 'fury': 2577, 'answers': 2578, 'warned': 2579, 'heights': 2580, 'beggar': 2581, 'searching': 2582, 'surprising': 2583, 'accountable': 2584, 'lire': 2585, 'breastplate': 2586, 'met': 2587, 'reviewed': 2588, 'lackey': 2589, 'slip': 2590, 'morte': 2591, 'convinces': 2592, 'dozens': 2593, 'surrendering': 2594, 'ye': 2595, 'commenc': 2596, 'soit': 2597, 'merry': 2598, 'healthy': 2599, 'allegiance': 2600, 'appearances': 2601, 'ton': 2602, 'run': 2603, 'bidding': 2604, 'legacy': 2605, 'candles': 2606, 'atop': 2607, 'quarters': 2608, 'fi': 2609, 'landing': 2610, 'hours': 2611, 'axel': 2612, 'crypts': 2613, 'master': 2614, 'ordered': 2615, 'masters': 2616, 'northerners': 2617, 'grumpkins': 2618, 'dothrakan': 2619, 'kicked': 2620, 'lady': 2621, 'renounce': 2622, 'lana': 2623, 'heels': 2624, 'anni': 2625, 'nord': 2626, 'finally': 2627, 'eu': 2628, 'haven': 2629, 'pierre': 2630, 'distinctive': 2631, 'to': 2632, 'adventures': 2633, 'times': 2634, 'enjoyed': 2635, 'assure': 2636, 'oldtown': 2637, 'looking': 2638, 'afternoon': 2639, 'pare': 2640, 'lothor': 2641, 'lungs': 2642, 'woes': 2643, 'breeds': 2644, 'olyvar': 2645, 'voulais': 2646, 'special': 2647, 'sacrificed': 2648, 'tards': 2649, 'hated': 2650, 'o': 2651, 'resteront': 2652, 'theon': 2653, 'troops': 2654, 'ink': 2655, 'wardeness': 2656, 'swell': 2657, 'knighthood': 2658, 'raise': 2659, 'partis': 2660, 'remembers': 2661, 'inns': 2662, 'begins': 2663, 'weeks': 2664, 'tramping': 2665, 'thousands': 2666, 'suffer': 2667, 'steal': 2668, 'standing': 2669, 'streets': 2670, 'lived': 2671, 'lev': 2672, 'defeats': 2673, 'homes': 2674, 'favorites': 2675, 'laisserai': 2676, 'ordres': 2677, 'copies': 2678, 'floor': 2679, 'pris': 2680, 'sorry': 2681, 'merit': 2682, 't': 2683, 'throats': 2684, 'succeeds': 2685, 'bone': 2686, 'providing': 2687, 'trustworthy': 2688, 'ger': 2689, 'leader': 2690, 'sympathies': 2691, 'tarly': 2692, 'lying': 2693, 'haunt': 2694, 'aflame': 2695, 'gratitude': 2696, 'canall': 2697, 'seriez': 2698, 'rolling': 2699, 'write': 2700, 'beau': 2701, 'aussi': 2702, 'saddle': 2703, 'jaws': 2704, 'pull': 2705, 'warmer': 2706, 'choisit': 2707, 'motivations': 2708, 'viens': 2709, 'khaleesi': 2710, 'fucker': 2711, 'apprendre': 2712, 'token': 2713, 'year': 2714, 'prettier': 2715, 'decided': 2716, 'purveyor': 2717, 'cooper': 2718, 'daznak': 2719, 'banquet': 2720, 'andals': 2721, 'elle': 2722, 'forgets': 2723, 'maybe': 2724, 'thinkin': 2725, 'group': 2726, 'scouts': 2727, 'archery': 2728, 'remedy': 2729, 'southerner': 2730, 'khal': 2731, 'distasteful': 2732, 'merely': 2733, 'dis': 2734, 'laid': 2735, 'chasing': 2736, 'forgive': 2737, 'couple': 2738, 'worthy': 2739, 'oddest': 2740, 'devons': 2741, 'melt': 2742, 'today': 2743, 'arryn': 2744, 'girl': 2745, 'stabbings': 2746, 'isn': 2747, 'mieux': 2748, 'service': 2749, 'daddy': 2750, 'yank': 2751, 'could': 2752, 'marriage': 2753, 'derwa': 2754, 'passed': 2755, 'concept': 2756, 'killing': 2757, 'palaces': 2758, 'bids': 2759, 'head': 2760, 'granted': 2761, 'tyrell': 2762, 'industry': 2763, 'lads': 2764, 'earns': 2765, 'sweetly': 2766, 'behind': 2767, 'nieces': 2768, 'priceless': 2769, 'tribu': 2770, 'toys': 2771, 'cheeks': 2772, 'cell': 2773, 'station': 2774, 'protector': 2775, 'ambush': 2776, 'bien': 2777, 'nobleman': 2778, 'thrown': 2779, 'toast': 2780, 'barristan': 2781, 'chansons': 2782, 'enfants': 2783, 'petyr': 2784, 'week': 2785, 'rite': 2786, 'rooms': 2787, 'tales': 2788, 'remembered': 2789, 'rodrik': 2790, 'arr': 2791, 'whores': 2792, 'qyburn': 2793, 'de': 2794, 'sending': 2795, 'coin': 2796, 'able': 2797, 'proud': 2798, 'eaten': 2799, 'maid': 2800, 'skinned': 2801, 'hal': 2802, 'supplie': 2803, 'deviendra': 2804, 'mutiny': 2805, 'represents': 2806, 'defenses': 2807, 'touche': 2808, 'suffering': 2809, 'faster': 2810, 'ferocious': 2811, 'pareil': 2812, 'sue': 2813, 'turn': 2814, 'inn': 2815, 'impossible': 2816, 'ice': 2817, 'thief': 2818, 'weapons': 2819, 'stronghold': 2820, 'choice': 2821, 'septa': 2822, 'dragging': 2823, 'are': 2824, 'arent': 2825, 'oui': 2826, 'far': 2827, 'unfounded': 2828, 'demande': 2829, 'corner': 2830, 'joli': 2831, 'podrick': 2832, 'contes': 2833, 'manies': 2834, 'charges': 2835, 'wandered': 2836, 'gown': 2837, 'repay': 2838, 'dirty': 2839, 'walkers': 2840, 'lords': 2841, 'deserted': 2842, 'insisted': 2843, 'arse': 2844, 'forged': 2845, 'toutes': 2846, 'aye': 2847, 'twats': 2848, 'wealthy': 2849, 'cors': 2850, 'tous': 2851, 'prenez': 2852, 'ls': 2853, 'course': 2854, 'aucun': 2855, 'plea': 2856, 'drove': 2857, 'occurred': 2858, 'lron': 2859, 'holding': 2860, 'twice': 2861, 'reaps': 2862, 'peasants': 2863, 'sat': 2864, 'hides': 2865, 'distinctly': 2866, 'apart': 2867, 'sets': 2868, 'chooses': 2869, 'pulled': 2870, 'sweetling': 2871, 'stayed': 2872, 'pretty': 2873, 'would': 2874, 'unpunished': 2875, 'denys': 2876, 'else': 2877, 'failing': 2878, 'travelling': 2879, 'darkened': 2880, 'constant': 2881, 'lemon': 2882, 'squirted': 2883, 'late': 2884, 'quick': 2885, 'pin': 2886, 'saddlebag': 2887, 'meilleur': 2888, 'talent': 2889, 'trying': 2890, 'tyroshi': 2891, 'verdagon': 2892, 'tents': 2893, 'accused': 2894, 'unbowed': 2895, 'mud': 2896, 'wooden': 2897, 'serment': 2898, 'music': 2899, 'devrais': 2900, 'married': 2901, 'vanquished': 2902, 'starts': 2903, 'starks': 2904, 'invaded': 2905, 'gave': 2906, 'of': 2907, 'twelve': 2908, 'gate': 2909, 'money': 2910, 'disparu': 2911, 'meadow': 2912, 'interpretation': 2913, 'daydream': 2914, 'field': 2915, 'est': 2916, 'cripples': 2917, 'tight': 2918, 'minks': 2919, 'even': 2920, 'accent': 2921, 'realms': 2922, 'tr': 2923, 'horn': 2924, 'bridge': 2925, 'roosters': 2926, 'whom': 2927, 'kill': 2928, 'felt': 2929, 'mot': 2930, 'irony': 2931, 'hyah': 2932, 'unburdened': 2933, 'mari': 2934, 'jewels': 2935, 'spider': 2936, 'roose': 2937, 'whoever': 2938, 'as': 2939, 'wild': 2940, 'breeding': 2941, 'tracked': 2942, 'juste': 2943, 'goat': 2944, 'poison': 2945, 'licking': 2946, 'fui': 2947, 'prayers': 2948, 'faceless': 2949, 'invite': 2950, 'joke': 2951, 'straws': 2952, 'realm': 2953, 'ensemble': 2954, 'soyons': 2955, 'disse': 2956, 'fever': 2957, 'weirwood': 2958, 'simper': 2959, 'grew': 2960, 'mattered': 2961, 'oaths': 2962, 'popular': 2963, 'finds': 2964, 'tempers': 2965, 'quoiqu': 2966, 'concerns': 2967, 'citadel': 2968, 'targaryens': 2969, 'putes': 2970, 'activities': 2971, 'considered': 2972, 'involved': 2973, 'lollys': 2974, 'puissant': 2975, 'courtesy': 2976, 'unfair': 2977, 'rightful': 2978, 'smaller': 2979, 'yesterday': 2980, 'gutter': 2981, 'await': 2982, 'parfaite': 2983, 'laisse': 2984, 'too': 2985, 'thaw': 2986, 'visited': 2987, 'raised': 2988, 'sandor': 2989, 'faced': 2990, 'planifier': 2991, 'dondarrion': 2992, 'whored': 2993, 'trees': 2994, 'devrons': 2995, 'call': 2996, 'hired': 2997, 'bellyful': 2998, 'apologize': 2999, 'aegon': 3000, 'clutching': 3001, 'aide': 3002, 'tresse': 3003, 'magic': 3004, 'daario': 3005, 'trials': 3006, 'touches': 3007, 'different': 3008, 'when': 3009, 'communicate': 3010, 'island': 3011, 'ramp': 3012, 'caution': 3013, 'glum': 3014, 'couples': 3015, 'snow': 3016, 'lysa': 3017, 'age': 3018, 'veux': 3019, 'resources': 3020, 'own': 3021, 'earnest': 3022, 'extravagance': 3023, 'extend': 3024, 'destiny': 3025, 'belong': 3026, 'untimely': 3027, 'seeing': 3028, 'salt': 3029, 'young': 3030, 'ask': 3031, 'gently': 3032, 'saving': 3033, 'sermont': 3034, 'sweeter': 3035, 'pretend': 3036, 'surround': 3037, 'macumber': 3038, 'ginger': 3039, 'ouais': 3040, 'jesters': 3041, 'ont': 3042, 'eggs': 3043, 'condemn': 3044, 'bind': 3045, 'granaries': 3046, 'structure': 3047, 'yells': 3048, 'bel': 3049, 'reply': 3050, 'tortured': 3051, 'smart': 3052, 'corpse': 3053, 'rudeness': 3054, 'million': 3055, 'fiche': 3056, 'dix': 3057, 'cours': 3058, 'saw': 3059, 'fl': 3060, 'passer': 3061, 'shits': 3062, 'born': 3063, 'thank': 3064, 'contact': 3065, 'must': 3066, 'wilderness': 3067, 'filet': 3068, 'presents': 3069, 'shred': 3070, 'realize': 3071, 'filth': 3072, 'suitable': 3073, 'wenches': 3074, 'demands': 3075, 'cleanse': 3076, 'cut': 3077, 'fault': 3078, 'cr': 3079, 'army': 3080, 'small': 3081, 'inclination': 3082, 'seized': 3083, 'wretch': 3084, 'free': 3085, 'chandelles': 3086, 'byron': 3087, 'comes': 3088, 'bowing': 3089, 'rolled': 3090, 'suspicion': 3091, 'market': 3092, 'molestown': 3093, 'veut': 3094, 'lorath': 3095, 'capable': 3096, 'chap': 3097, 'hunting': 3098, 'these': 3099, 'followed': 3100, 'within': 3101, 'ruin': 3102, 'sleeping': 3103, 'refuse': 3104, 'returning': 3105, 'thrilled': 3106, 'ironies': 3107, 'incendi': 3108, 'worth': 3109, 'tournois': 3110, 'scatter': 3111, 'middle': 3112, 'servants': 3113, 'navy': 3114, 'warmth': 3115, 'cloak': 3116, 'nameday': 3117, 'couronnes': 3118, 'prison': 3119, 'bought': 3120, 'faite': 3121, 'horse': 3122, 'crime': 3123, 'quality': 3124, 'worshiped': 3125, 'wylla': 3126, 'une': 3127, 'seal': 3128, 'rough': 3129, 'roslin': 3130, 'aleena': 3131, 'thrust': 3132, 'hole': 3133, 'deuxi': 3134, 'coffin': 3135, 'health': 3136, 'aren': 3137, 'wearing': 3138, 'ou': 3139, 'despots': 3140, 'dreadfort': 3141, 'vaux': 3142, 'major': 3143, 'mmh': 3144, 'son': 3145, 'barn': 3146, 'escort': 3147, 'diplomatic': 3148, 'rest': 3149, 'gentle': 3150, 'turtle': 3151, 'decorating': 3152, 'capit': 3153, 'confess': 3154, 'interruption': 3155, 'coward': 3156, 'kings': 3157, 'equality': 3158, 'set': 3159, 'warden': 3160, 'bug': 3161, 'nowhere': 3162, 'wanna': 3163, 'accommodate': 3164, 'an': 3165, 'fish': 3166, 'mile': 3167, 'applied': 3168, 'sluts': 3169, 'mourn': 3170, 'advising': 3171, 'dwarf': 3172, 'voting': 3173, 'croyais': 3174, 'mutually': 3175, 'ellement': 3176, 'realized': 3177, 'sentry': 3178, 'devoted': 3179, 'surprised': 3180, 'duncan': 3181, 'neck': 3182, 'fearing': 3183, 'bolster': 3184, 'single': 3185, 'pronouns': 3186, 'enthusiasm': 3187, 'peasant': 3188, 'elsewhere': 3189, 'farm': 3190, 'vengeance': 3191, 'anyone': 3192, 'worked': 3193, 'hacking': 3194, 'soldiers': 3195, 'watcher': 3196, 'kick': 3197, 'sized': 3198, 'waldron': 3199, 'relief': 3200, 'rd': 3201, 'rougher': 3202, 'rallied': 3203, 'made': 3204, 'anchored': 3205, 'mare': 3206, 'outsiders': 3207, 'tastes': 3208, 'carved': 3209, 'fight': 3210, 'b': 3211, 'banner': 3212, 'casualty': 3213, 'hopes': 3214, 'wise': 3215, 'passe': 3216, 'tails': 3217, 'fella': 3218, 'crippled': 3219, 'derryk': 3220, 'amount': 3221, 'thin': 3222, 'neuf': 3223, 'nippy': 3224, 'ses': 3225, 'lawbreakers': 3226, 'arrangement': 3227, 'gardent': 3228, 'bar': 3229, 'sell': 3230, 'battlements': 3231, 'walk': 3232, 'asshei': 3233, 'spirit': 3234, 'heirs': 3235, 'omens': 3236, 'target': 3237, 'gambled': 3238, 'chevaux': 3239, 'woah': 3240, 'volunteer': 3241, 'autre': 3242, 'homeland': 3243, 'hodoring': 3244, 'bedside': 3245, 'discard': 3246, 'hundreds': 3247, 'wear': 3248, 'spent': 3249, 'termin': 3250, 'stores': 3251, 'stole': 3252, 'bring': 3253, 'vois': 3254, 'chance': 3255, 'am': 3256, 'vhagar': 3257, 'gilly': 3258, 'bets': 3259, 'admire': 3260, 'consent': 3261, 'suppose': 3262, 'accomplished': 3263, 'lingered': 3264, 'actor': 3265, 'shame': 3266, 'ainsi': 3267, 'discreetly': 3268, 'fait': 3269, 'stem': 3270, 'cover': 3271, 'right': 3272, 'swears': 3273, 'force': 3274, 'staring': 3275, 'woozy': 3276, 'para': 3277, 'arrival': 3278, 'thunder': 3279, 'winterfell': 3280, 'peuple': 3281, 'bled': 3282, 'morts': 3283, 'ravissant': 3284, 'stand': 3285, 'bowl': 3286, 'chevauch': 3287, 'spotted': 3288, 'fallen': 3289, 'knife': 3290, 'lower': 3291, 'primitive': 3292, 'who': 3293, 'petits': 3294, 'may': 3295, 'ball': 3296, 'abode': 3297, 'courte': 3298, 'unbroken': 3299, 'early': 3300, 'sundown': 3301, 'real': 3302, 'regret': 3303, 'slynt': 3304, 'informing': 3305, 'breakfast': 3306, 'sorceress': 3307, 'heap': 3308, 'summer': 3309, 'shave': 3310, 'ils': 3311, 'sous': 3312, 'dolls': 3313, 'certaine': 3314, 'gendry': 3315, 'heir': 3316, 'boy': 3317, 'motivating': 3318, 'manning': 3319, 'emerged': 3320, 'unsullied': 3321, 'fornication': 3322, 'wishing': 3323, 'brothels': 3324, 'invade': 3325, 'supporters': 3326, 'engage': 3327, 'whorehouse': 3328, 'butchers': 3329, 'spills': 3330, 'hanging': 3331, 'comme': 3332, 'collar': 3333, 'commune': 3334, 'table': 3335, 'ici': 3336, 'pillow': 3337, 'alley': 3338, 'guest': 3339, 'needing': 3340, 'spot': 3341, 'surname': 3342, 'weight': 3343, 'skills': 3344, 'option': 3345, 'minutes': 3346, 'flayed': 3347, 'hear': 3348, 'forge': 3349, 'mole': 3350, 'ever': 3351, 'myrcella': 3352, 'shhh': 3353, 'logistics': 3354, 'battle': 3355, 'riposte': 3356, 'visitors': 3357, 'nineteen': 3358, 'marianne': 3359, 'slaughterhouse': 3360, 'doux': 3361, 'lips': 3362, 'understands': 3363, 'l': 3364, 'flying': 3365, 'such': 3366, 'fois': 3367, 'endroit': 3368, 'ham': 3369, 'seasoned': 3370, 'unarmed': 3371, 'fill': 3372, 'lances': 3373, 'rock': 3374, 'thrones': 3375, 'bat': 3376, 'moi': 3377, 'ois': 3378, 'particularly': 3379, 'games': 3380, 'que': 3381, 'tender': 3382, 'part': 3383, 'grateful': 3384, 'sturdy': 3385, 'mm': 3386, 'expecting': 3387, 'except': 3388, 'livestock': 3389, 'news': 3390, 'inform': 3391, 'snipped': 3392, 'spend': 3393, 'trust': 3394, 'sleep': 3395, 'case': 3396, 'gne': 3397, 'creepiest': 3398, 'shai': 3399, 'd': 3400, 'assassins': 3401, 'nearly': 3402, 'dangling': 3403, 'teaching': 3404, 'hit': 3405, 'aucune': 3406, 'quelques': 3407, 'idea': 3408, 'irons': 3409, 'got': 3410, 'personality': 3411, 'unite': 3412, 'according': 3413, 'midday': 3414, 'admit': 3415, 'true': 3416, 'subir': 3417, 'oi': 3418, 'es': 3419, 'assassin': 3420, 'breed': 3421, 'rather': 3422, 'moon': 3423, 'capture': 3424, 'aemon': 3425, 'structures': 3426, 'oubliera': 3427, 'appropriate': 3428, 'threats': 3429, 'unborn': 3430, 'summons': 3431, 'cliffs': 3432, 'pictured': 3433, 'nearby': 3434, 'weep': 3435, 'gracious': 3436, 'support': 3437, 'probably': 3438, 'trusting': 3439, 'scaring': 3440, 'they': 3441, 'heeds': 3442, 'semblent': 3443, 'tokens': 3444, 'declared': 3445, 'choose': 3446, 'dowry': 3447, 'blacksmith': 3448, 'appointment': 3449, 'tribesmen': 3450, 'incarceration': 3451, 'crazed': 3452, 'rotting': 3453, 'fly': 3454, 'show': 3455, 'honor': 3456, 'victories': 3457, 'fucks': 3458, 'fatherly': 3459, 'sounding': 3460, 'explains': 3461, 'conspire': 3462, 'crying': 3463, 'abduct': 3464, 'violation': 3465, 'jonas': 3466, 'voir': 3467, 'cowered': 3468, 'chevelures': 3469, 'journ': 3470, 'apprentice': 3471, 'spear': 3472, 'across': 3473, 'kingdoms': 3474, 'actors': 3475, 'sacrifices': 3476, 'help': 3477, 'crowds': 3478, 'involve': 3479, 'very': 3480, 'daughter': 3481, 'broker': 3482, 'ser': 3483, 'double': 3484, 'crowd': 3485, 'bundle': 3486, 'wade': 3487, 'm': 3488, 'bathing': 3489, 'murderer': 3490, 'he': 3491, 'shoot': 3492, 'listening': 3493, 'fitting': 3494, 'surv': 3495, 'orell': 3496, 'brandon': 3497, 'pledged': 3498, 'snarks': 3499, 'destroying': 3500, 'uniting': 3501, 'soon': 3502, 'handsome': 3503, 'abiding': 3504, 'garde': 3505, 'tongued': 3506, 'oath': 3507, 'singularly': 3508, 'dominion': 3509, 'joanna': 3510, 'porkchop': 3511, 'pommel': 3512, 'dreams': 3513, 'entier': 3514, 'rope': 3515, 'suffered': 3516, 'slaughtered': 3517, 'remains': 3518, 'arrangements': 3519, 'moiti': 3520, 'sheep': 3521, 'shake': 3522, 'addition': 3523, 'visions': 3524, 'mentait': 3525, 'eldest': 3526, 'scruples': 3527, 'lord': 3528, 'chaude': 3529, 'ge': 3530, 'tres': 3531, 'wants': 3532, 'disappeared': 3533, 'lois': 3534, 'civilization': 3535, 'madame': 3536, 'inherit': 3537, 'reporting': 3538, 'saved': 3539, 'lets': 3540, 'vicious': 3541, 'rhaegar': 3542, 'beneath': 3543, 'point': 3544, 'prospect': 3545, 'approaching': 3546, 'back': 3547, 'grand': 3548, 'squeal': 3549, 'guardsman': 3550, 'night': 3551, 'anciens': 3552, 'tie': 3553, 'taste': 3554, 'road': 3555, 'j': 3556, 'least': 3557, 'continue': 3558, 'septons': 3559, 'taverns': 3560, 'soul': 3561, 'squeak': 3562, 'trained': 3563, 'pie': 3564, 'minor': 3565, 'kittens': 3566, 'party': 3567, 'cups': 3568, 'family': 3569, 'there': 3570, 'might': 3571, 'raped': 3572, 'unharmed': 3573, 'jour': 3574, 'husbands': 3575, 'grandchildren': 3576, 'dignitary': 3577, 'braavosi': 3578, 'vas': 3579, 'guests': 3580, 'cutting': 3581, 'bony': 3582, 'rider': 3583, 'pr': 3584, 'delight': 3585, 'patrouilleur': 3586, 'day': 3587, 'wisdom': 3588, 'marlon': 3589, 'waldina': 3590, 'however': 3591, 'wipes': 3592, 'tommy': 3593, 'bastards': 3594, 'impose': 3595, 'em': 3596, 'clever': 3597, 'father': 3598, 'stake': 3599, 'invasion': 3600, 'direwolf': 3601, 'rapers': 3602, 'recueillir': 3603, 'stabbing': 3604, 'wins': 3605, 'jam': 3606, 'dise': 3607, 'mindless': 3608, 'leurs': 3609, 'hand': 3610, 'mauvaises': 3611, 'donc': 3612, 'nulle': 3613, 'frost': 3614, 'worn': 3615, 'natural': 3616, 'tyrells': 3617, 'commoner': 3618, 'prospers': 3619, 'began': 3620, 'spike': 3621, 'inclinations': 3622, 'clothes': 3623, 'tent': 3624, 'thinking': 3625, 'yoren': 3626, 'surprise': 3627, 'decency': 3628, 'kingsroad': 3629, 'fleets': 3630, 'locked': 3631, 'poke': 3632, 'street': 3633, 'anha': 3634, 'poor': 3635, 'leftover': 3636, 'obey': 3637, 'despair': 3638, 'victor': 3639, 'hornwood': 3640, 'laws': 3641, 'tumblestone': 3642, 'virgin': 3643, 'responsible': 3644, 'oeufs': 3645, 'quietly': 3646, 'quoique': 3647, 'shot': 3648, 'ours': 3649, 'doesn': 3650, 'respect': 3651, 'impunent': 3652, 'divided': 3653, 'horses': 3654, 'nom': 3655, 'ahhh': 3656, 'provenant': 3657, 'meryn': 3658, 'betray': 3659, 'fried': 3660, 'generosity': 3661, 'fabriqu': 3662, 'mariage': 3663, 'absurd': 3664, 'fichu': 3665, 'commence': 3666, 'amounts': 3667, 'picture': 3668, 'grandi': 3669, 'members': 3670, 'caught': 3671, 'possible': 3672, 'levez': 3673, 'remiss': 3674, 'courtesies': 3675, 'monstrous': 3676, 'dying': 3677, 'had': 3678, 'ordinary': 3679, 'strengths': 3680, 'lose': 3681, 'ruined': 3682, 'needles': 3683, 'insulted': 3684, 'pup': 3685, 'afford': 3686, 'flogged': 3687, 'steward': 3688, 'children': 3689, 'agony': 3690, 'reveal': 3691, 'fich': 3692, 'decent': 3693, 'shoo': 3694, 'ves': 3695, 'lannisport': 3696, 'under': 3697, 'specifically': 3698, 'food': 3699, 'dry': 3700, 'sources': 3701, 'perhaps': 3702, 'opinion': 3703, 'should': 3704, 'tiring': 3705, 'engendrera': 3706, 'ashamed': 3707, 'appartient': 3708, 'crossroads': 3709, 'answering': 3710, 'closer': 3711, 'conquering': 3712, 'horseparts': 3713, 'messieurs': 3714, 'sympathize': 3715, 'sentence': 3716, 'petty': 3717, 'imagined': 3718, 'condition': 3719, 'arwyn': 3720, 'direwolves': 3721, 'teeth': 3722, 'attaint': 3723, 'flaming': 3724, 'route': 3725, 'cherche': 3726, 're': 3727, 'crimes': 3728, 'district': 3729, 'length': 3730, 'executioner': 3731, 'acting': 3732, 'froze': 3733, 'capacity': 3734, 'guys': 3735, 'daenerys': 3736, 'noticed': 3737, 'warg': 3738, 'taught': 3739, 'feast': 3740, 'expect': 3741, 'horselords': 3742, 'start': 3743, 'stepmother': 3744, 'randyll': 3745, 'career': 3746, 'bore': 3747, 'laughed': 3748, 'parce': 3749, 'ax': 3750, 'loose': 3751, 'pit': 3752, 'wagons': 3753, 'conquers': 3754, 'has': 3755, 'lmpossible': 3756, 'oil': 3757, 'wore': 3758, 'fishermen': 3759, 'doubts': 3760, 'bodies': 3761, 'guiding': 3762, 'leadership': 3763, 'library': 3764, 'events': 3765, 'niece': 3766, 'squirm': 3767, 'actual': 3768, 'aurions': 3769, 'northmen': 3770, 'joust': 3771, 'gag': 3772, 'meereen': 3773, 'expected': 3774, 'homecoming': 3775, 'des': 3776, 'past': 3777, 'treason': 3778, 'dragonglass': 3779, 'upkeep': 3780, 'do': 3781, 'certain': 3782, 'tarlys': 3783, 'baiser': 3784, 'courrai': 3785, 'superstition': 3786, 'repellent': 3787, 'tenure': 3788, 'hold': 3789, 'emm': 3790, 'reason': 3791, 'faire': 3792, 'scroll': 3793, 'ironborn': 3794, 'millions': 3795, 'rir': 3796, 'moonlight': 3797, 'inquest': 3798, 'bas': 3799, 'stroke': 3800, 'ponderous': 3801, 'partners': 3802, 'someday': 3803, 'ennuyeux': 3804, 'following': 3805, 'dornish': 3806, 'sailors': 3807, 'imminent': 3808, 'till': 3809, 'dorne': 3810, 'pincers': 3811, 'since': 3812, 'blind': 3813, 'bury': 3814, 'ripped': 3815, 'shatter': 3816, 'maker': 3817, 'ceremony': 3818, 'months': 3819, 'melted': 3820, 'lands': 3821, 'thigh': 3822, 'text': 3823, 'gilded': 3824, 'wherever': 3825, 'fendu': 3826, 'prudence': 3827, 'immediate': 3828, 'spring': 3829, 'kitten': 3830, 'interesting': 3831, 'sausage': 3832, 'gens': 3833, 'enslaving': 3834, 'toute': 3835, 'corbeau': 3836, 'restent': 3837, 'rises': 3838, 'question': 3839, 'thirteen': 3840, 'bravo': 3841, 'mounts': 3842, 'truly': 3843, 'voice': 3844, 'promis': 3845, 'barracks': 3846, 'cruel': 3847, 'longer': 3848, 'amis': 3849, 'betrayals': 3850, 'glad': 3851, 'ma': 3852, 'awaiting': 3853, 'meal': 3854, 'peace': 3855, 'chambers': 3856, 'ear': 3857, 'naarth': 3858, 'arya': 3859, 'screams': 3860, 'lessons': 3861, 'drag': 3862, 'valahd': 3863, 'saign': 3864, 'pas': 3865, 'nera': 3866, 'attendre': 3867, 'breached': 3868, 'kisses': 3869, 'reluctant': 3870, 'pledge': 3871, 'yard': 3872, 'demanding': 3873, 'permission': 3874, 'chairs': 3875, 'edmure': 3876, 'debt': 3877, 'mentir': 3878, 'finding': 3879, 'pick': 3880, 'loyal': 3881, 'carefully': 3882, 'evidence': 3883, 'couchent': 3884, 'kindly': 3885, 'parle': 3886, 'played': 3887, 'feared': 3888, 'fati': 3889, 'axes': 3890, 'tells': 3891, 'wasn': 3892, 'wars': 3893, 'partake': 3894, 'running': 3895, 'hog': 3896, 'walder': 3897, 'historic': 3898, 'names': 3899, 'pulls': 3900, 'sore': 3901, 'disarm': 3902, 'welcome': 3903, 'shapely': 3904, 'unwanted': 3905, 'ilyn': 3906, 'tenants': 3907, 'foreign': 3908, 'jon': 3909, 'chamber': 3910, 'spread': 3911, 'dropped': 3912, 'meilleurs': 3913, 'stubborn': 3914, 'much': 3915, 'sly': 3916, 'knights': 3917, 'warfare': 3918, 'loaded': 3919, 'prosperity': 3920, 'shrouds': 3921, 'leave': 3922, 'flowing': 3923, 'boar': 3924, 'il': 3925, 'qui': 3926, 'crafty': 3927, 'stretches': 3928, 'figure': 3929, 'blackberries': 3930, 'pycelle': 3931, 'bunghole': 3932, 'shae': 3933, 'advise': 3934, 'shadowcats': 3935, 'say': 3936, 'collaring': 3937, 'ruling': 3938, 'slayer': 3939, 'stop': 3940, 'final': 3941, 'slept': 3942, 'blast': 3943, 'needed': 3944, 'diction': 3945, 'wyl': 3946, 'grain': 3947, 'stamp': 3948, 'huh': 3949, 'pointy': 3950, 'sparrow': 3951, 'rois': 3952, 'starve': 3953, 'step': 3954, 'absolutely': 3955, 'happen': 3956, 'totalit': 3957, 'going': 3958, 'hair': 3959, 'try': 3960, 'impeccable': 3961, 'reading': 3962, 'information': 3963, 'enormously': 3964, 'valar': 3965, 'poste': 3966, 'stars': 3967, 'jump': 3968, 'qualities': 3969, 'viserys': 3970, 'can': 3971, 'probl': 3972, 'honors': 3973, 'winning': 3974, 'maiden': 3975, 'myself': 3976, 'cas': 3977, 'opportunity': 3978, 'split': 3979, 'soup': 3980, 'byes': 3981, 'reste': 3982, 'brazen': 3983, 'hearts': 3984, 'whatever': 3985, 'captors': 3986, 'sacr': 3987, 'mains': 3988, 'loi': 3989, 'jokes': 3990, 'thus': 3991, 'storm': 3992, 'grim': 3993, 'trinket': 3994, 'rebirth': 3995, 'beric': 3996, 'pourrons': 3997, 'keeps': 3998, 'violent': 3999, 'pleasure': 4000, 'everywhere': 4001, 'threatening': 4002, 'riverland': 4003, 'murdering': 4004, 'sails': 4005, 'yeah': 4006, 'number': 4007, 'purpose': 4008, 'law': 4009, 'loup': 4010, 'suggest': 4011, 'femme': 4012, 'vows': 4013, 'blame': 4014, 'slight': 4015, 'centaines': 4016, 'arbor': 4017, 'wrath': 4018, 'suite': 4019, 'seems': 4020, 'sensitive': 4021, 'piece': 4022, 'directly': 4023, 'davos': 4024, 'feras': 4025, 'crypt': 4026, 'hammering': 4027, 'fresh': 4028, 'hoister': 4029, 'lugubre': 4030, 'actually': 4031, 'connaissais': 4032, 'yourself': 4033, 'bloodline': 4034, 'chagrin': 4035, 'ashore': 4036, 'weaknesses': 4037, 'relations': 4038, 'mutilate': 4039, 'side': 4040, 'demandes': 4041, 'sharing': 4042, 'confessed': 4043, 'preferable': 4044, 'title': 4045, 'grandis': 4046, 'moving': 4047, 'spurned': 4048, 'offended': 4049, 'candle': 4050, 'ladies': 4051, 'queensguard': 4052, 'apparently': 4053, 'mate': 4054, 'plans': 4055, 'explique': 4056, 'chose': 4057, 'avait': 4058, 'nourrirez': 4059, 'behead': 4060, 'hurrah': 4061, 'coughing': 4062, 'blancs': 4063, 'ranks': 4064, 'tribe': 4065, 'quarrel': 4066, 'devoir': 4067, 'bargained': 4068, 'bareheaded': 4069, 'prisoner': 4070, 'devrait': 4071, 'syrio': 4072, 'provide': 4073, 'strikes': 4074, 'appalling': 4075, 'south': 4076, 'chains': 4077, 'whipped': 4078, 'hot': 4079, 'imb': 4080, 'reports': 4081, 'baelish': 4082, 'violet': 4083, 'levies': 4084, 'bestiaux': 4085, 'fact': 4086, 'gentler': 4087, 'olly': 4088, 'eyes': 4089, 'causing': 4090, 'a': 4091, 'sword': 4092, 'coppers': 4093, 'wolf': 4094, 'eat': 4095, 'outer': 4096, 'notre': 4097, 'seed': 4098, 'litter': 4099, 'explain': 4100, 'personne': 4101, 'sheila': 4102, 'mistakes': 4103, 'y': 4104, 'heroes': 4105, 'meetings': 4106, 'disapprove': 4107, 'manoeuvrer': 4108, 'habitude': 4109, 'days': 4110, 'bloodrider': 4111, 'demanded': 4112, 'drastically': 4113, 'task': 4114, 'jolly': 4115, 'softly': 4116, 'styles': 4117, 'maison': 4118, 'living': 4119, 'mon': 4120, 'belongs': 4121, 'incest': 4122, 'wildlings': 4123, 'hunted': 4124, 'reaped': 4125, 'legs': 4126, 'squinty': 4127, 'envoy': 4128, 'recall': 4129, 'robe': 4130, 'planning': 4131, 'castrated': 4132, 'troit': 4133, 'vintnors': 4134, 'scary': 4135, 'moves': 4136, 'understand': 4137, 'grace': 4138, 'pardon': 4139, 'fuis': 4140, 'janos': 4141, 'establishments': 4142, 'northman': 4143, 'maintain': 4144, 'kiss': 4145, 'mark': 4146, 'bend': 4147, 'countryside': 4148, 'unless': 4149, 'halfman': 4150, 'alliser': 4151, 'experienced': 4152, 'faute': 4153, 'cat': 4154, 'orphan': 4155, 'breathe': 4156, 'renomm': 4157, 'beloved': 4158, 'ooh': 4159, 'remaining': 4160, 'beat': 4161, 'lender': 4162, 'bracken': 4163, 'mhmm': 4164, 'arriv': 4165, 'bauch': 4166, 'color': 4167, 'story': 4168, 'below': 4169, 'saurions': 4170, 'returned': 4171, 'alone': 4172, 'private': 4173, 'generations': 4174, 'knock': 4175, 'extremes': 4176, 'see': 4177, 'prononcer': 4178, 'toasts': 4179, 'care': 4180, 'gnome': 4181, 'full': 4182, 'mug': 4183, 'monster': 4184, 'farmers': 4185, 'rieur': 4186, 'giant': 4187, 'shocked': 4188, 'exactly': 4189, 'united': 4190, 'folk': 4191, 'p': 4192, 'concerning': 4193, 'starting': 4194, 'stage': 4195, 'loin': 4196, 'spiders': 4197, 'speaking': 4198, 'kinder': 4199, 'savait': 4200, 'declaring': 4201, 'immune': 4202, 'dites': 4203, 'weighs': 4204, 'stale': 4205, 'the': 4206, 'fathers': 4207, 'admirable': 4208, 'generous': 4209, 'rivals': 4210, 'reach': 4211, 'jackass': 4212, 'ivrogne': 4213, 'several': 4214, 'definitely': 4215, 'touch': 4216, 'lead': 4217, 'tongiht': 4218, 'gouverner': 4219, 'honest': 4220, 'gillyflower': 4221, 'scare': 4222, 'maegor': 4223, 'becoming': 4224, 'companion': 4225, 'elegant': 4226, 'needs': 4227, 'stature': 4228, 'horrible': 4229, 'cake': 4230, 'bet': 4231, 'marry': 4232, 'doit': 4233, 'nearest': 4234, 'amour': 4235, 'valiant': 4236, 'stabbed': 4237, 'croyez': 4238, 'conqueror': 4239, 'khalasar': 4240, 'serteur': 4241, 'tunnel': 4242, 'terms': 4243, 'appelles': 4244, 'reins': 4245, 'quickly': 4246, 'rayder': 4247, 'navigation': 4248, 'most': 4249, 'gamble': 4250, 'appear': 4251, 'selling': 4252, 'mago': 4253, 'mirror': 4254, 'saddler': 4255, 'clears': 4256, 'defended': 4257, 'irri': 4258, 'qora': 4259, 'allait': 4260, 'country': 4261, 'flesh': 4262, 'closely': 4263, 'suddenly': 4264, 'amusing': 4265, 'weak': 4266, 'insane': 4267, 'anara': 4268, 'ambition': 4269, 'terai': 4270, 'nose': 4271, 'famously': 4272, 'lettre': 4273, 'disturb': 4274, 'fee': 4275, 'grant': 4276, 'testing': 4277, 'celibate': 4278, 'chevauchons': 4279, 'study': 4280, 'feathers': 4281, 'selle': 4282, 'noble': 4283, 'shagged': 4284, 'meera': 4285, 'shape': 4286, 'faull': 4287, 'faits': 4288, 'tes': 4289, 'piled': 4290, 'famous': 4291, 'orys': 4292, 'scratch': 4293, 'note': 4294, 'lance': 4295, 'esteem': 4296, 'deserves': 4297, 'stumble': 4298, 'trait': 4299, 'houses': 4300, 'teacher': 4301, 'sait': 4302, 'grandpa': 4303, 'subjective': 4304, 'guards': 4305, 'detrimental': 4306, 'odd': 4307, 'wings': 4308, 'against': 4309, 'misgivings': 4310, 'troubles': 4311, 'milked': 4312, 'heureux': 4313, 'heure': 4314, 'awake': 4315, 'sadly': 4316, 'wash': 4317, 'give': 4318, 'sleeps': 4319, 'crouched': 4320, 'silly': 4321, 'robin': 4322, 'conversation': 4323, 'rester': 4324, 'situation': 4325, 'pla': 4326, 'bessie': 4327, 'gone': 4328, 'pale': 4329, 'like': 4330, 'feeds': 4331, 'spit': 4332, 'fierce': 4333, 'determine': 4334, 'wears': 4335, 'leeches': 4336, 'cost': 4337, 'nicely': 4338, 'trusts': 4339, 'bards': 4340, 'wonder': 4341, 'montre': 4342, 'mouse': 4343, 'bits': 4344, 'petit': 4345, 'fanatic': 4346, 'hammer': 4347, 'distrust': 4348, 'sur': 4349, 'benefit': 4350, 'clear': 4351, 'same': 4352, 'leisure': 4353, 'indoors': 4354, 'coins': 4355, 'grandissent': 4356, 'wrapped': 4357, 'laughing': 4358, 'trader': 4359, 'whistler': 4360, 'blue': 4361, 'easily': 4362, 'holy': 4363, 'walda': 4364, 'veiller': 4365, 'fulfils': 4366, 'les': 4367, 'comprends': 4368, 'broke': 4369, 'bearing': 4370, 'pen': 4371, 'surnom': 4372, 'freedom': 4373, 'hui': 4374, 'wizard': 4375, 'warrant': 4376, 'deep': 4377, 'midst': 4378, 'require': 4379, 'tower': 4380, 'strategy': 4381, 'rose': 4382, 'nervous': 4383, 'makes': 4384, 'tement': 4385, 'hiring': 4386, 'blessings': 4387, 'patient': 4388, 'hell': 4389, 'sort': 4390, 'apparu': 4391, 'volantis': 4392, 'wake': 4393, 'conquerors': 4394, 'served': 4395, 'ants': 4396, 'crisp': 4397, 'll': 4398, 'bloody': 4399, 'homme': 4400, 'prepared': 4401, 'sailed': 4402, 'span': 4403, 'reux': 4404, 'tue': 4405, 'wailing': 4406, 'siege': 4407, 'claim': 4408, 'instance': 4409, 'freerider': 4410, 'from': 4411, 'regards': 4412, 'leftovers': 4413, 'madman': 4414, 'fleet': 4415, 'jory': 4416, 'ygritte': 4417, 'belligerence': 4418, 'goodfolk': 4419, 'i': 4420, 'goats': 4421, 'pourrait': 4422, 'here': 4423, 'enjoy': 4424, 'noose': 4425, 'sins': 4426, 'pushed': 4427, 'lot': 4428, 'heat': 4429, 'use': 4430, 'arakhoon': 4431, 'denied': 4432, 'only': 4433, 'flooding': 4434, 'nightfort': 4435, 'mur': 4436, 'lions': 4437, 'hey': 4438, 'reine': 4439, 'teams': 4440, 'cockels': 4441, 'strict': 4442, 'clubs': 4443, 'receive': 4444, 'safety': 4445, 'hundred': 4446, 'engraiss': 4447, 'upon': 4448, 'dead': 4449, 'innocence': 4450, 'boxes': 4451, 'then': 4452, 'aimais': 4453, 'peu': 4454, 'overhear': 4455, 'shed': 4456, 'put': 4457, 'favors': 4458, 'counsel': 4459, 'accompany': 4460, 'gizikhven': 4461, 'nameless': 4462, 'montagnes': 4463, 'crops': 4464, 'hungry': 4465, 'expedition': 4466, 'shoveling': 4467, 'hers': 4468, 'tavern': 4469, 'grandmother': 4470, 'have': 4471, 'falls': 4472, 'maekar': 4473, 'forgotten': 4474, 'offering': 4475, 'specifics': 4476, 'beech': 4477, 'tomorrow': 4478, 'wedding': 4479, 'technical': 4480, 'conspires': 4481, 'placed': 4482, 'maester': 4483, 'harm': 4484, 'beetles': 4485, 'proposal': 4486, 'toujours': 4487, 'respite': 4488, 'custody': 4489, 'colline': 4490, 'valuable': 4491, 'leaks': 4492, 'pies': 4493, 'lsn': 4494, 'commanded': 4495, 'gentlemen': 4496, 'propre': 4497, 'lui': 4498, 'riders': 4499, 'patrol': 4500, 'hunter': 4501, 'safest': 4502, 'understood': 4503, 'turned': 4504, 'beautiful': 4505, 'insults': 4506, 'throat': 4507, 'traded': 4508, 'inverse': 4509, 'cadeau': 4510, 'glover': 4511, 'courses': 4512, 'certainly': 4513, 'climate': 4514, 'fed': 4515, 'avancez': 4516, 'ground': 4517, 'attempt': 4518, 'furious': 4519, 'ashes': 4520, 'buy': 4521, 'listened': 4522, 'sniveling': 4523, 'nemo': 4524, 'venison': 4525, 'aurez': 4526, 'shores': 4527, 'yunkai': 4528, 'circumstances': 4529, 'larger': 4530, 'shireen': 4531, 'tamsay': 4532, 'sounds': 4533, 'mes': 4534, 'noise': 4535, 'extreme': 4536, 'lion': 4537, 'clegane': 4538, 'recanting': 4539, 'offend': 4540, 'rulers': 4541, 'excusez': 4542, 'helping': 4543, 'afichak': 4544, 'cannot': 4545, 'growing': 4546, 'twat': 4547, 'kills': 4548, 'bride': 4549, 'jaw': 4550, 'necklace': 4551, 'dawn': 4552, 'hearth': 4553, 'appreciates': 4554, 'favored': 4555, 'legitimized': 4556, 'approch': 4557, 'teau': 4558, 'serving': 4559, 'next': 4560, 'remember': 4561, 'happier': 4562, 'ait': 4563, 'whispering': 4564, 'valyrian': 4565, 'speaks': 4566, 'lesson': 4567, 'telling': 4568, 'salty': 4569, 'shh': 4570, 'fast': 4571, 'freeze': 4572, 'fulfill': 4573, 'smack': 4574, 'lo': 4575, 'cause': 4576, 'duty': 4577, 'sisters': 4578, 'pure': 4579, 'flattered': 4580, 'muscles': 4581, 'dove': 4582, 'suggested': 4583, 'hairless': 4584, 'extends': 4585, 'demander': 4586, 'beckons': 4587, 'east': 4588, 'burn': 4589, 'toy': 4590, 'stood': 4591, 'inviting': 4592, 'grubby': 4593, 'borrow': 4594, 'mance': 4595, 'fortnight': 4596, 'pivot': 4597, 'wheat': 4598, 'poole': 4599, 'denounce': 4600, 'shepherds': 4601, 'entrailles': 4602, 'reward': 4603, 'soeur': 4604, 'islands': 4605, 'suspicious': 4606, 'sale': 4607, 'beast': 4608, 'overrun': 4609, 'riddles': 4610, 'arrest': 4611, 'vers': 4612, 'invitation': 4613, 'sleepless': 4614, 'seller': 4615, 'some': 4616, 'during': 4617, 'highly': 4618, 'destroyed': 4619, 'du': 4620, 'citizens': 4621, 'wheel': 4622, 'capturing': 4623, 'fisherman': 4624, 'lannisters': 4625, 'paye': 4626, 'wanting': 4627, 'allowed': 4628, 'feasting': 4629, 'lasted': 4630, 'elm': 4631, 'exact': 4632, 'pass': 4633, 'waited': 4634, 'end': 4635, 'goatshit': 4636, 'fortune': 4637, 'every': 4638, 'osha': 4639, 'halls': 4640, 'entirely': 4641, 'feeling': 4642, 'disagree': 4643, 'prot': 4644, 'behold': 4645, 'conqu': 4646, 'pieces': 4647, 'dr': 4648, 'eats': 4649, 'axe': 4650, 'answer': 4651, 'bread': 4652, 'protecting': 4653, 'traveled': 4654, 'armor': 4655, 'glorified': 4656, 'order': 4657, 'exclusive': 4658, 'sera': 4659, 'riding': 4660, 'move': 4661, 'sorts': 4662, 'fils': 4663, 'wellbeing': 4664, 'tomb': 4665, 'surely': 4666, 'brothel': 4667, 'cracked': 4668, 'she': 4669, 'attack': 4670, 'assured': 4671, 'par': 4672, 'binding': 4673, 'barrels': 4674, 'raison': 4675, 'knowing': 4676, 'boots': 4677, 'fountain': 4678, 'grandson': 4679, 'marrying': 4680, 'called': 4681, 'swann': 4682, 'dit': 4683, 'exhausted': 4684, 'vivants': 4685, 'recovery': 4686, 'yellow': 4687, 'beating': 4688, 'imbecile': 4689, 'vouloir': 4690, 'dragonslaying': 4691, 'wanted': 4692, 'forward': 4693, 'promets': 4694, 'sealord': 4695, 'heading': 4696, 'descends': 4697, 'joking': 4698, 'dernier': 4699, 'observant': 4700, 'crows': 4701, 'someone': 4702, 'tragedy': 4703, 'knows': 4704, 'repartiras': 4705, 'mereen': 4706, 'down': 4707, 'tall': 4708, 'sorrily': 4709, 'body': 4710, 'clientele': 4711, 'lard': 4712, 'chis': 4713, 'guarded': 4714, 'outnumbered': 4715, 'curse': 4716, 'well': 4717, 'miss': 4718, 'favor': 4719, 'wishes': 4720, 'craves': 4721, 'jojen': 4722, 'absentee': 4723, 'city': 4724, 'nurse': 4725, 'wronged': 4726, 'taper': 4727, 'flutes': 4728, 'dark': 4729, 'unseated': 4730, 'charmante': 4731, 'continuera': 4732, 'is': 4733, 'cheekbones': 4734, 'offense': 4735, 'forgiven': 4736, 'ran': 4737, 'poet': 4738, 'cup': 4739, 'scrubbing': 4740, 'lamb': 4741, 'bras': 4742, 'risquerait': 4743, 'shit': 4744, 'royale': 4745, 'pigeon': 4746, 'history': 4747, 'burnt': 4748, 'onward': 4749, 'perfectly': 4750, 'useless': 4751, 'shattered': 4752, 'doe': 4753, 'five': 4754, 'handing': 4755, 'walked': 4756, 'midwives': 4757, 'womb': 4758, 'fondness': 4759, 'because': 4760, 'jeyne': 4761, 'contre': 4762, 'cares': 4763, 'die': 4764, 'tends': 4765, 'wouldn': 4766, 'woken': 4767, 'wertha': 4768, 'restez': 4769, 'tis': 4770, 'simple': 4771, 'door': 4772, 'jousting': 4773, 'treated': 4774, 'slightly': 4775, 'long': 4776, 'assissin': 4777, 'kingsguard': 4778, 'graces': 4779, 'quantit': 4780, 'interested': 4781, 'brea': 4782, 'poque': 4783, 'dress': 4784, 'pyp': 4785, 'uncle': 4786, 'partir': 4787, 'waste': 4788, 'kraken': 4789, 'sorte': 4790, 'distrusting': 4791, 'foul': 4792, 'boucles': 4793, 'respond': 4794, 'built': 4795, 'nothing': 4796, 'outnumber': 4797, 'grabbed': 4798, 'time': 4799, 'requires': 4800, 'dothrakis': 4801, 'light': 4802, 'worrying': 4803, 'poachers': 4804, 'unbent': 4805, 'champion': 4806, 'trick': 4807, 'tradition': 4808, 'prends': 4809, 'intrepid': 4810, 'piggy': 4811, 'hardhome': 4812, 'strength': 4813, 'biggest': 4814, 'brother': 4815, 'accord': 4816, 'avions': 4817, 'nommer': 4818, 'bearded': 4819, 'avance': 4820, 'smell': 4821, 'capitale': 4822, 'savaged': 4823, 'elect': 4824, 'bored': 4825, 'writing': 4826, 'sacrifice': 4827, 'detail': 4828, 'healers': 4829, 'mort': 4830, 'impregnable': 4831, 'rangers': 4832, 'proves': 4833, 'ostrich': 4834, 'star': 4835, 'install': 4836, 'sangliers': 4837, 'hating': 4838, 'entrer': 4839, 'settled': 4840, 'rookery': 4841, 'differ': 4842, 'slain': 4843, 'yielded': 4844, 'payne': 4845, 'missandei': 4846, 'advised': 4847, 'dirt': 4848, 'leur': 4849, 'risen': 4850, 'duel': 4851, 'happens': 4852, 'rejoin': 4853, 'fought': 4854, 'voisins': 4855, 'oathbreaker': 4856, 'whip': 4857, 'bolt': 4858, 'motto': 4859, 'follows': 4860, 'smile': 4861, 'forgot': 4862, 'hack': 4863, 'praying': 4864, 'its': 4865, 'anew': 4866, 'gossip': 4867, 'promise': 4868, 'again': 4869, 'takes': 4870, 'questioned': 4871, 'cessaire': 4872, 'mal': 4873, 'jeune': 4874, 'profaned': 4875, 'two': 4876, 'no': 4877, 'skinny': 4878, 'place': 4879, 'biters': 4880, 'justice': 4881, 'considering': 4882, 'amen': 4883, 'convives': 4884, 'entendu': 4885, 'compl': 4886, 'messed': 4887, 'bient': 4888, 'grievously': 4889, 'huit': 4890, 'check': 4891, 'tissu': 4892, 'edd': 4893, 'murderers': 4894, 'wandering': 4895, 'handed': 4896, 'chances': 4897, 'talking': 4898, 'witch': 4899, 'response': 4900, 'source': 4901, 'soldat': 4902, 'behalf': 4903, 'differences': 4904, 'serve': 4905, 'mutilation': 4906, 'second': 4907, 'bleu': 4908, 'blackened': 4909, 'outside': 4910, 'reopened': 4911, 'god': 4912, 'prend': 4913, 'licks': 4914, 'century': 4915, 'mention': 4916, 'hooves': 4917, 'pays': 4918, 'shudders': 4919, 'regarde': 4920, 'autant': 4921, 'chosen': 4922, 'summerwine': 4923, 'deny': 4924, 'baelor': 4925, 'theater': 4926, 'choosing': 4927, 'farewell': 4928, 'appetites': 4929, 'quel': 4930, 'reputation': 4931, 'til': 4932, 'rules': 4933, 'lifted': 4934, 'emport': 4935, 'whenever': 4936, 'wondered': 4937, 'us': 4938, 'draw': 4939, 'neighborhood': 4940, 'continent': 4941, 'between': 4942, 'incompetence': 4943, 'sold': 4944, 'folks': 4945, 'last': 4946, 'treats': 4947, 'wounds': 4948, 'perjury': 4949, 'disciplined': 4950, 'poisoned': 4951, 'trop': 4952, 'spies': 4953, 'your': 4954, 'testimony': 4955, 'mere': 4956, 'taient': 4957, 'eastwatch': 4958, 'closest': 4959, 'state': 4960, 'nains': 4961, 'never': 4962, 'importance': 4963, 'li': 4964, 'weapon': 4965, 'teste': 4966, 'raving': 4967, 'preferred': 4968, 'calm': 4969, 'convincing': 4970, 'suis': 4971, 'it': 4972, 'impudent': 4973, 'fucked': 4974, 'queen': 4975, 'look': 4976, 'somewhere': 4977, 'halfhand': 4978, 'ago': 4979, 'ce': 4980, 'ch': 4981, 'adviser': 4982, 'plump': 4983, 'opponent': 4984, 'stunted': 4985, 'accuse': 4986, 'psst': 4987, 'transporting': 4988, 'gathered': 4989, 'will': 4990, 'monde': 4991, 'bleeds': 4992, 'noblewoman': 4993, 'lucky': 4994, 'haired': 4995, 'moins': 4996, 'aujourd': 4997, 'serait': 4998, 'puddle': 4999, 'worms': 5000, 'sully': 5001, 'range': 5002, 'lt': 5003, 'excuse': 5004, 'vastoe': 5005, 'complected': 5006, 'playing': 5007, 'brought': 5008, 'often': 5009, 'toe': 5010, 'sneered': 5011, 'passages': 5012, 'heroic': 5013, 'wretched': 5014, 'roam': 5015, 'keep': 5016, 'exhilarating': 5017, 'defeat': 5018, 'renonces': 5019, 'yourselves': 5020, 'loses': 5021, 'oblig': 5022, 'them': 5023, 'witness': 5024, 'retreat': 5025, 'armed': 5026, 'guerroyer': 5027, 'pits': 5028, 'sauvage': 5029, 'butcher': 5030, 'warring': 5031, 'insanit': 5032, 'themselves': 5033, 'partnership': 5034, 'ages': 5035, 'eh': 5036, 'coronation': 5037, 'jumped': 5038, 'embroidered': 5039, 'blood': 5040, 'lies': 5041, 'ingrates': 5042, 'aveugl': 5043, 'let': 5044, 'rub': 5045, 'ally': 5046, 'qu': 5047, 'jention': 5048, 'kitchen': 5049, 'crate': 5050, 'hoster': 5051, 'beer': 5052, 'handful': 5053, 'treasure': 5054, 'avenge': 5055, 'outfox': 5056, 'sence': 5057, 'honesty': 5058, 'obsequious': 5059, 'surnomme': 5060, 'offered': 5061, 'collars': 5062, 'satisfied': 5063, 'sit': 5064, 'rebel': 5065, 'poppy': 5066, 'tell': 5067, 'silent': 5068, 'pirate': 5069, 'complicated': 5070, 'now': 5071, 'getting': 5072, 'miserable': 5073, 'liege': 5074, 'fanatics': 5075, 'neila': 5076, 'bitches': 5077, 'pregnant': 5078, 'becomes': 5079, 'peut': 5080, 'choisira': 5081, 'drink': 5082, 'critical': 5083, 'nick': 5084, 'rein': 5085, 'ship': 5086, 'tree': 5087, 'fields': 5088, 'wine': 5089, 'senses': 5090, 'ans': 5091, 'punished': 5092, 'travels': 5093, 'brains': 5094, 'cheveux': 5095, 'disapproved': 5096, 'whistle': 5097, 'tied': 5098, 'experiences': 5099, 'guard': 5100, 'matters': 5101, 'dragon': 5102, 'guessed': 5103, 'cooped': 5104, 'ah': 5105, 'dire': 5106, 'cowardly': 5107, 'agit': 5108, 'looked': 5109, 'songbird': 5110, 'either': 5111, 'vazha': 5112, 'suffers': 5113, 'worry': 5114, 'journey': 5115, 'necessary': 5116, 'steeper': 5117, 'informed': 5118, 'obeyed': 5119, 'stead': 5120, 'tournaments': 5121, 'burden': 5122, 'intend': 5123, 'markets': 5124, 'strange': 5125, 'monstrously': 5126, 'hodor': 5127, 'build': 5128, 'darkness': 5129, 'large': 5130, 'wealth': 5131, 'birthday': 5132, 'subject': 5133, 'kindness': 5134, 'high': 5135, 'chasseur': 5136, 'huts': 5137, 'dice': 5138, 'afternoons': 5139, 'join': 5140, 'fantasies': 5141, 'patronage': 5142, 'harpy': 5143, 'treasonous': 5144, 'bare': 5145, 'nos': 5146, 'claims': 5147, 'arms': 5148, 'midget': 5149, 'anointed': 5150, 'sortir': 5151, 'hitting': 5152, 'grey': 5153, 'bloodied': 5154, 'freya': 5155, 'foolhardy': 5156, 'nightfall': 5157, 'fine': 5158, 'been': 5159, 'seem': 5160, 'tient': 5161, 'towns': 5162, 'admittedly': 5163, 'pour': 5164, 'goings': 5165, 'grip': 5166, 'allow': 5167, 'expertise': 5168, 'ancienne': 5169, 'vrai': 5170, 'establishment': 5171, 'need': 5172, 'quiet': 5173, 'swinging': 5174, 'handle': 5175, 'wife': 5176, 'sire': 5177, 'supposed': 5178, 'ridden': 5179, 'remarquable': 5180, 'march': 5181, 'chapel': 5182, 'alors': 5183, 'dissent': 5184, 'aggo': 5185, 'histories': 5186, 'name': 5187, 'learnt': 5188, 'revolt': 5189, 'genre': 5190, 'rats': 5191, 'forbade': 5192, 'out': 5193, 'noted': 5194, 'garth': 5195, 'guildhalls': 5196, 'ahhazaan': 5197, 'slave': 5198, 'interests': 5199, 'cities': 5200, 'dontos': 5201, 'custom': 5202, 'consider': 5203, 'secure': 5204, 'love': 5205, 'sauvages': 5206, 'slaughtering': 5207, 'southern': 5208, 'joffrey': 5209, 'wasting': 5210, 'shaking': 5211, 'pile': 5212, 'gain': 5213, 'vu': 5214, 'halt': 5215, 'watching': 5216, 'inspire': 5217, 'pentos': 5218, 'goes': 5219, 'offer': 5220, 'tyrion': 5221, 'nymeria': 5222, 'rhaenyra': 5223, 'fleeing': 5224, 'emptied': 5225, 'flames': 5226, 'dreaming': 5227, 'deaths': 5228, 'flaps': 5229, 'fortunate': 5230, 'impure': 5231, 'strongest': 5232, 'empty': 5233, 'ears': 5234, 'buggery': 5235, 'forgiveness': 5236, 'plead': 5237, 'pleasant': 5238, 'wish': 5239, 'decision': 5240, 'attendions': 5241, 'nice': 5242, 'earned': 5243, 'rib': 5244, 'crossed': 5245, 'harrenhal': 5246, 'regardes': 5247, 'wed': 5248, 'tywin': 5249, 'odds': 5250, 'human': 5251, 'resist': 5252, 'extended': 5253, 'bunch': 5254, 'tore': 5255, 'captain': 5256, 'vre': 5257, 'settling': 5258, 'scruff': 5259, 'trade': 5260, 'f': 5261, 'conspirent': 5262, 'really': 5263, 'victory': 5264, 'famille': 5265, 'ned': 5266, 'figures': 5267, 'tully': 5268, 'arrows': 5269, 'want': 5270, 'presence': 5271, 'learning': 5272, 'awhile': 5273, 'deserve': 5274, 'speak': 5275, 'shall': 5276, 'hoping': 5277, 'wonderful': 5278, 'slut': 5279, 'confessing': 5280, 'sooner': 5281, 'consid': 5282, 'somehow': 5283, 'fire': 5284, 'sneer': 5285, 'girls': 5286, 'round': 5287, 'learned': 5288, 'inspires': 5289, 'oracles': 5290, 'rhaego': 5291, 'stitching': 5292, 'fancy': 5293, 'clan': 5294, 'umber': 5295, 'stallion': 5296, 'squire': 5297, 'beaux': 5298, 'make': 5299, 'kiera': 5300, 'paragon': 5301, 'defending': 5302, 'squirting': 5303, 'knack': 5304, 'aid': 5305, 'rumors': 5306, 'meet': 5307, 'bolton': 5308, 'entre': 5309, 'years': 5310, 'north': 5311, 'aunt': 5312, 'pomp': 5313, 'vous': 5314, 'simply': 5315, 'thats': 5316, 'int': 5317, 'shagging': 5318, 'bite': 5319, 'liar': 5320, 'imbeciles': 5321, 'pack': 5322, 'wheelwright': 5323, 'nuages': 5324, 'pleases': 5325, 'coat': 5326, 'ghar': 5327, 'offens': 5328, 'executed': 5329, 'licked': 5330, 'tout': 5331, 'vaes': 5332, 'properly': 5333, 'mighty': 5334, 'live': 5335, 'surrendered': 5336, 'prefers': 5337, 'kicking': 5338, 'amputees': 5339, 'joined': 5340, 'avez': 5341, 'seule': 5342, 'contr': 5343, 'margaery': 5344, 'thorne': 5345, 'greatness': 5346, 'goddess': 5347, 'bow': 5348, 'puff': 5349, 'untie': 5350, 'witnessed': 5351, 'veteran': 5352, 'don': 5353, 'appointed': 5354, 'coals': 5355, 'him': 5356, 'but': 5357, 'marier': 5358, 'drogon': 5359, 'paper': 5360, 'singing': 5361, 'wary': 5362, 'completely': 5363, 'cure': 5364, 'eight': 5365, 'prize': 5366, 'seek': 5367, 'finished': 5368, 'galop': 5369, 'minge': 5370, 'banners': 5371, 'mine': 5372, 'hate': 5373, 'seaworth': 5374, 'bordel': 5375, 'woke': 5376, 'butterflies': 5377, 'ces': 5378, 'pisse': 5379, 'catelyn': 5380, 'already': 5381, 'vraiment': 5382, 'faces': 5383, 'spite': 5384, 'nonsense': 5385, 'feasts': 5386, 'chickens': 5387, 'mutual': 5388, 'mines': 5389, 'protect': 5390, 'listen': 5391, 'harkon': 5392, 'bleedin': 5393, 'confiance': 5394, 'devions': 5395, 'withered': 5396, 'tasted': 5397, 'drunk': 5398, 'meant': 5399, 'jamais': 5400, 'entrez': 5401, 'sans': 5402, 'pyramid': 5403, 'thira': 5404, 'bacon': 5405, 'crack': 5406, 'showed': 5407, 'knighted': 5408, 'mormonts': 5409, 'prayer': 5410, 'thirst': 5411, 'oeuvre': 5412, 'unspeakable': 5413, 'connaissez': 5414, 'entrusts': 5415, 'ya': 5416, 'follow': 5417, 'raid': 5418, 'ecstatic': 5419, 'rapide': 5420, 'flowery': 5421, 'seventh': 5422, 'tournoi': 5423, 'twenty': 5424, 'thousand': 5425, 'runner': 5426, 'eating': 5427, 'surrounded': 5428, 'elections': 5429, 'restraint': 5430, 'tions': 5431, 'ridiculous': 5432, 'abandoned': 5433, 'exile': 5434, 'parl': 5435, 'travelled': 5436, 'intelligent': 5437, 'talked': 5438, 'gets': 5439, 'twigs': 5440, 'about': 5441, 'casterly': 5442, 'close': 5443, 'bother': 5444, 'rude': 5445, 'report': 5446, 'muster': 5447, 'sane': 5448, 'row': 5449, 'something': 5450, 'likes': 5451, 'says': 5452, 'siblings': 5453, 'quelqu': 5454, 'stannis': 5455, 'drinking': 5456, 'drop': 5457, 'short': 5458, 'pigs': 5459, 'h': 5460, 'courir': 5461, 'castamere': 5462, 'you': 5463, 'snakes': 5464, 'willow': 5465, 'threw': 5466, 'feeding': 5467, 'dyed': 5468, 'handmaiden': 5469, 'squad': 5470, 'ne': 5471, 'walls': 5472, 'bank': 5473, 'songs': 5474, 'her': 5475, 'rat': 5476, 'ride': 5477, 'doom': 5478, 'violence': 5479, 'took': 5480, 'white': 5481, 'stokeworth': 5482, 'awaits': 5483, 'their': 5484, 'commanders': 5485, 'rip': 5486, 'dollmaker': 5487, 'knee': 5488, 'gifts': 5489, 'pyke': 5490, 'couldn': 5491, 'ready': 5492, 'political': 5493, 'seemed': 5494, 'tonds': 5495, 'oberyn': 5496, 'badly': 5497, 'stay': 5498, 'bankrupt': 5499, 'trial': 5500, 'dresses': 5501, 'provisionally': 5502, 'dreadful': 5503, 'snows': 5504, 'unfortunate': 5505, 'essos': 5506, 'bedding': 5507, 'purse': 5508, 'gold': 5509, 'aim': 5510, 'avoir': 5511, 'base': 5512, 'autumn': 5513, 'bouncing': 5514, 'those': 5515, 'memory': 5516, 'qohor': 5517, 'masks': 5518, 'craster': 5519, 'crucify': 5520, 'forty': 5521, 'arrested': 5522, 'oyster': 5523, 'brotherhood': 5524, 'avaient': 5525, 'blackberry': 5526, 'became': 5527, 'crowned': 5528, 'words': 5529, 'theirs': 5530, 'regroup': 5531, 'me': 5532, 'fou': 5533, 'repulsive': 5534, 'sun': 5535, 'retrouver': 5536, 'grow': 5537, 'ideas': 5538, 'chang': 5539, 'cousin': 5540, 'feather': 5541, 'oysters': 5542, 'terrain': 5543, 'kissed': 5544, 'yunkish': 5545, 'wilding': 5546, 'manner': 5547, 'betrayed': 5548, 'west': 5549, 'families': 5550, 'green': 5551, 'lordlings': 5552, 'started': 5553, 'minute': 5554, 'pity': 5555, 'mother': 5556, 'peach': 5557, 'barely': 5558, 'roc': 5559, 'castle': 5560, 'whent': 5561}\n"
     ]
    }
   ],
   "source": [
    "vocabulary_reverse_index = {word: index for index, word in enumerate(vocabulary)}\n",
    "print(vocabulary_reverse_index)"
   ]
  },
  {
   "cell_type": "markdown",
   "metadata": {
    "deletable": false,
    "editable": false
   },
   "source": [
    "- - -\n",
    "<p style='text-align:right; font-size:11px'>[[contents](#contents)]</p>\n",
    "\n",
    "### Extra-credit task <a class=\"anchor\" id=\"2\"></a>\n",
    "\n",
    "For extra credit, we would like you to attempt the **ONE** of the following tasks:\n",
    "\n",
    "#### <font color='blue'> Option 1: Gender and social interactions </font> <a class=\"anchor\" id=\"2a\"></a>\n",
    "\n",
    "* Explore the role of gender in social interactions. For example, do people of one gender talk differently to those of the opposite gender? You should base this analysis on the age-based social interaction analysis in Assignment 2. You might also consider comparing GoT results with Kardashians results.\n",
    "* Provide at least one plot illustrating your results.\n",
    "\n",
    "Note: Being that there are many characters in GoT, you may have to select a subset of the characters to work with, and look up their genders. If you are looking only at a subset of the characters, please provide an explanation as for *how* and *why* you arrived at the subset that you did.\n",
    "\n",
    "#### <font color='blue'> Option 2: Open-ended analysis </font> <a class=\"anchor\" id=\"2b\"></a>\n",
    "\n",
    "> *you could've asked Jon Snow for hints on what is to be done, but <u>he knows nothing</u>!*\n",
    "\n",
    "* Propose an interesting question that you would like to explore in regard to the GoT dataset.\n",
    "* Answer your question by conducting and documenting your analysis on the dataset. To extract the conversational features and analyze social phenomena in conversations, you can explore our in-house conversational analysis toolkit, [ConvoKit](https://convokit.cornell.edu/)!\n",
    "* Provide at least one plot illustrating your results.\n",
    "\n",
    "Note: You will be rewarded points based on novelty of question, and on the thoughtfulness of the exploration."
   ]
  },
  {
   "cell_type": "markdown",
   "metadata": {
    "deletable": false,
    "editable": false
   },
   "source": [
    "In either options, make sure you clearly express the questions you are asking, and document the code. Try to use the level of detail we used in our problems from Assignment 2. Also, interpret the results (highlighting what you found particularly interesting/unexpected). You may choose to import additional libraries as you see fit so long as they are standard python libraries (https://docs.python.org/3/library/). \n",
    "\n",
    "We have provided you with the `tokenize()` helper functions to aid you in your analysis."
   ]
  },
  {
   "cell_type": "code",
   "execution_count": 6,
   "metadata": {
    "deletable": false
   },
   "outputs": [],
   "source": [
    "import numpy as np"
   ]
  },
  {
   "cell_type": "code",
   "execution_count": 7,
   "metadata": {
    "deletable": false
   },
   "outputs": [],
   "source": [
    "def tokenize(text):\n",
    "    \"\"\"Returns a list of words that make up the text.    \n",
    "    \n",
    "    Parameters\n",
    "    ----------\n",
    "    text : str\n",
    "        The input text string\n",
    "    \n",
    "    Returns\n",
    "    -------\n",
    "    list\n",
    "        A list of tokens corresponding to the input string.\n",
    "    \"\"\"\n",
    "    return [x for x in re.findall(r\"[a-z]+\", text.lower()) if x != \"\"]"
   ]
  },
  {
   "cell_type": "code",
   "execution_count": 10,
   "metadata": {},
   "outputs": [
    {
     "data": {
      "text/plain": [
       "68"
      ]
     },
     "execution_count": 10,
     "metadata": {},
     "output_type": "execute_result"
    }
   ],
   "source": [
    "got_data"
   ]
  },
  {
   "cell_type": "code",
   "execution_count": 42,
   "metadata": {
    "deletable": false
   },
   "outputs": [
    {
     "name": "stdout",
     "output_type": "stream",
     "text": [
      "296\n"
     ]
    }
   ],
   "source": [
    "# get each distinct characters in the corpus\n",
    "characters = set()\n",
    "for speech in GOT_corpus:\n",
    "    characters.add(speech[0])\n",
    "characters = sorted(list(characters))\n",
    "print(len(characters))"
   ]
  },
  {
   "cell_type": "code",
   "execution_count": 46,
   "metadata": {},
   "outputs": [],
   "source": [
    "# count the occurrences of each character in the corpus\n",
    "characters_count = {}\n",
    "for speech in GOT_corpus:\n",
    "    if speech[0] in characters_count:\n",
    "        characters_count[speech[0]] += 1\n",
    "    else:\n",
    "        characters_count[speech[0]] = 1"
   ]
  },
  {
   "cell_type": "code",
   "execution_count": 47,
   "metadata": {},
   "outputs": [],
   "source": [
    "# reverse index of characters\n",
    "characters_reverse_index = {t: i for i, t in enumerate(characters)}\n",
    "# print(characters_reverse_index)"
   ]
  },
  {
   "cell_type": "code",
   "execution_count": 56,
   "metadata": {},
   "outputs": [
    {
     "name": "stdout",
     "output_type": "stream",
     "text": [
      "('TYRION', 365)\n",
      "('JON', 276)\n",
      "('EDDARD', 253)\n",
      "('CERSEI', 252)\n",
      "('DAENERYS', 207)\n",
      "('JAIME', 179)\n",
      "('ARYA', 174)\n",
      "('LITTLEFINGER', 171)\n",
      "('CATELYN', 170)\n",
      "('SANSA', 168)\n"
     ]
    }
   ],
   "source": [
    "# get the top 10 characters\n",
    "sorted_characters_by_occurrence = sorted(characters_count.items(), key=lambda x:x[1], reverse=True)\n",
    "for i in range(10):\n",
    "    print(sorted_characters_by_occurrence[i])"
   ]
  },
  {
   "cell_type": "code",
   "execution_count": 62,
   "metadata": {},
   "outputs": [],
   "source": [
    "M_characters = [\n",
    "    u'TYRION', u'JON', u'EDDARD', u'JAIME', u'LITTLEFINGER'\n",
    "]\n",
    "F_characters = [\n",
    "    u'CERSEI', u'DAENERYS', u'ARYA', u'CATELYN', u'SANSA'\n",
    "]\n",
    "Good_characters = [\n",
    "    u'TYRION', u'JON', u'EDDARD', u'JAIME', u'LITTLEFINGER',u'CERSEI', u'DAENERYS', u'ARYA', u'CATELYN', u'SANSA'\n",
    "]\n",
    "Good_characters_reverse_index = {t: i for i, t in enumerate(Good_characters)}"
   ]
  },
  {
   "cell_type": "code",
   "execution_count": 61,
   "metadata": {},
   "outputs": [
    {
     "data": {
      "text/plain": [
       "'HIZDAHR'"
      ]
     },
     "execution_count": 61,
     "metadata": {},
     "output_type": "execute_result"
    }
   ],
   "source": [
    "GOT_corpus[0][0]"
   ]
  },
  {
   "attachments": {},
   "cell_type": "markdown",
   "metadata": {},
   "source": []
  },
  {
   "cell_type": "code",
   "execution_count": 66,
   "metadata": {},
   "outputs": [
    {
     "name": "stdout",
     "output_type": "stream",
     "text": [
      "[[25. 20.  0. 14.  0. 18. 22.  0. 10.  1.]\n",
      " [20. 16.  4.  5.  0.  0.  1.  8.  2.  0.]\n",
      " [ 0.  4. 27.  9. 33. 12.  0. 30.  9.  8.]\n",
      " [16.  4.  7.  6.  2. 31.  1.  0.  9.  1.]\n",
      " [ 1.  1. 27.  1.  8. 19.  2.  0.  8. 18.]\n",
      " [21.  0. 19. 27. 21. 10.  0.  3.  5. 13.]\n",
      " [25.  0.  0.  0.  0.  0. 32.  0.  1.  0.]\n",
      " [ 0.  7. 28.  2.  1.  3.  0. 19.  1. 12.]\n",
      " [ 9.  2.  7. 10.  8.  5.  0.  0.  8.  4.]\n",
      " [ 1.  0.  8.  2. 15. 12.  2. 14.  4.  7.]]\n"
     ]
    }
   ],
   "source": [
    "# get the reply matrix of each character\n",
    "# \n",
    "# reply_matrix[i][j] = the number of times character i replies to character j\n",
    "# \n",
    "\n",
    "# initialize the reply matrix\n",
    "reply_matrix = np.zeros((len(Good_characters), len(Good_characters)))\n",
    "\n",
    "for speech_index in range(1, len(GOT_corpus)):\n",
    "    previous_speech = GOT_corpus[speech_index - 1]\n",
    "    speech = GOT_corpus[speech_index]\n",
    "    if speech[0] in Good_characters and previous_speech[0] in Good_characters:\n",
    "        reply_matrix[Good_characters_reverse_index[speech[0]], Good_characters_reverse_index[previous_speech[0]]] += 1\n",
    "\n",
    "print(reply_matrix)"
   ]
  },
  {
   "cell_type": "code",
   "execution_count": 75,
   "metadata": {},
   "outputs": [],
   "source": [
    "gender_group_index = {'F': 0, 'M': 1}\n",
    "gender_group_mat_index = {('F', 'F'): 0, ('F', 'M'): 1, ('M', 'F'): 2, ('M', 'M'): 3}\n",
    "\n",
    "gender_group_reverse_index = {0: 'F', 1: 'M'}"
   ]
  },
  {
   "cell_type": "code",
   "execution_count": 84,
   "metadata": {},
   "outputs": [
    {
     "name": "stdout",
     "output_type": "stream",
     "text": [
      "[[0. 0. 0. ... 0. 1. 0.]\n",
      " [0. 0. 0. ... 1. 0. 0.]\n",
      " [0. 0. 0. ... 0. 2. 0.]\n",
      " [0. 0. 0. ... 0. 1. 1.]]\n",
      "(4, 5562)\n"
     ]
    }
   ],
   "source": [
    "# create gender_words_mat\n",
    "\n",
    "gender_words_mat = np.zeros((4, len(vocabulary)))\n",
    "\n",
    "for speech_index in range(1, len(GOT_corpus)):\n",
    "    previous_speech = GOT_corpus[speech_index - 1]\n",
    "    speech = GOT_corpus[speech_index]\n",
    "\n",
    "    # previous_speech_tokens = tokenize(previous_speech[1])\n",
    "    speech_tokens = tokenize(speech[1])\n",
    "\n",
    "    if previous_speech[0] in Good_characters and speech[0] in Good_characters:\n",
    "        gender_group = (gender_group_reverse_index[previous_speech[0] in F_characters], gender_group_reverse_index[speech[0] in F_characters])  \n",
    "        for token in speech_tokens:\n",
    "            gender_words_mat[gender_group_mat_index[gender_group]][vocabulary_reverse_index[token]] += 1\n",
    "        \n",
    "print(gender_words_mat)\n",
    "print(gender_words_mat.shape)"
   ]
  },
  {
   "cell_type": "code",
   "execution_count": 92,
   "metadata": {},
   "outputs": [
    {
     "data": {
      "text/plain": [
       "False"
      ]
     },
     "execution_count": 92,
     "metadata": {},
     "output_type": "execute_result"
    }
   ],
   "source": [
    "'retard' in vocabulary"
   ]
  },
  {
   "cell_type": "code",
   "execution_count": 95,
   "metadata": {},
   "outputs": [
    {
     "data": {
      "text/plain": [
       "{'ARYA': 7,\n",
       " 'CATELYN': 8,\n",
       " 'CERSEI': 5,\n",
       " 'DAENERYS': 6,\n",
       " 'EDDARD': 2,\n",
       " 'JAIME': 3,\n",
       " 'JON': 1,\n",
       " 'LITTLEFINGER': 4,\n",
       " 'SANSA': 9,\n",
       " 'TYRION': 0}"
      ]
     },
     "execution_count": 95,
     "metadata": {},
     "output_type": "execute_result"
    }
   ],
   "source": [
    "Good_characters_reverse_index"
   ]
  },
  {
   "cell_type": "code",
   "execution_count": 139,
   "metadata": {},
   "outputs": [
    {
     "data": {
      "text/plain": [
       "True"
      ]
     },
     "execution_count": 139,
     "metadata": {},
     "output_type": "execute_result"
    }
   ],
   "source": [
    "'piss' in vocabulary"
   ]
  },
  {
   "cell_type": "code",
   "execution_count": 144,
   "metadata": {},
   "outputs": [
    {
     "name": "stdout",
     "output_type": "stream",
     "text": [
      "TYRION 25.0\n",
      "JON 8.0\n",
      "EDDARD 1.0\n",
      "JAIME 2.0\n",
      "LITTLEFINGER 5.0\n",
      "CERSEI 5.0\n",
      "DAENERYS 2.0\n",
      "ARYA 5.0\n",
      "CATELYN 0.0\n",
      "SANSA 6.0\n"
     ]
    }
   ],
   "source": [
    "insult_words = ['stupid', 'idiot', 'fool', 'dumb','vile','jackass','imbecile','fuck','fucker', 'shit', 'fucking' ,'cunt'\n",
    ",'bastard','bitch', 'curse', 'whore', 'slut', 'piss','cock' ]\n",
    "character_insult_matrix = np.zeros((len(Good_characters)))\n",
    "\n",
    "for speech in GOT_corpus:\n",
    "    character = speech[0]\n",
    "    if character in Good_characters:\n",
    "        tokens = tokenize(speech[1])\n",
    "        for token in tokens:\n",
    "            if(token in insult_words):\n",
    "                character_insult_matrix[Good_characters_reverse_index.get(character)] += 1\n",
    "\n",
    "for name in Good_characters:\n",
    "    print(name,character_insult_matrix[Good_characters_reverse_index.get(name)])\n"
   ]
  },
  {
   "cell_type": "code",
   "execution_count": 163,
   "metadata": {},
   "outputs": [
    {
     "data": {
      "image/png": "[encoded data removed]",
      "text/plain": [
       "<Figure size 1080x288 with 1 Axes>"
      ]
     },
     "metadata": {},
     "output_type": "display_data"
    }
   ],
   "source": [
    "import matplotlib.pyplot as plt\n",
    "plt.figure().set_figwidth(15)\n",
    "plt.title(\"how often do they swear\")\n",
    "plt.xlabel('characters')\n",
    "plt.ylabel('swear times')\n",
    "\n",
    "plt.xticks(rotation=45)\n",
    "plt.bar(Good_characters, character_insult_matrix, color='tab:blue')\n",
    "\n",
    "\n",
    "plt.show()"
   ]
  },
  {
   "attachments": {},
   "cell_type": "markdown",
   "metadata": {},
   "source": []
  },
  {
   "cell_type": "markdown",
   "metadata": {
    "deletable": false,
    "editable": false
   },
   "source": [
    "- - -\n",
    "<p style=\"text-align:left;\"> assignment-2 [extra-credit] ends here <span style=\"float:right;font-size:11px;\"> [[contents](#contents)] </span></p>\n",
    "- - -"
   ]
  }
 ],
 "metadata": {
  "kernelspec": {
   "display_name": "LangInfo",
   "language": "python",
   "name": "python3"
  },
  "language_info": {
   "codemirror_mode": {
    "name": "ipython",
    "version": 3
   },
   "file_extension": ".py",
   "mimetype": "text/x-python",
   "name": "python",
   "nbconvert_exporter": "python",
   "pygments_lexer": "ipython3",
   "version": "3.7.6"
  },
  "vscode": {
   "interpreter": {
    "hash": "98ca369906f7b70fe64afc73e530e378539d08b0e41e494e07f1eb5e7a313c26"
   }
  }
 },
 "nbformat": 4,
 "nbformat_minor": 2
}

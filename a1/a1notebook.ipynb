{
 "cells": [
  {
   "cell_type": "markdown",
   "metadata": {
    "nbgrader": {
     "grade": false,
     "grade_id": "cell-e7c4ba72adf31577",
     "locked": true,
     "schema_version": 3,
     "solution": false
    }
   },
   "source": [
    "# Assignment 1: Keeping Up With Social Information (Part 1)\n",
    "## © Cristian Danescu-Niculescu-Mizil 2023\n",
    "## CS/INFO 4300 Language and Information\n",
    "## Due by midnight on Wednesday February 1st\n",
    "\n",
    "This assignment is **individual**.\n",
    "\n",
    "In this assignment we are practicing with post-processing on a conversational dataset taken from the reality TV show \"Keeping Up With The Kardashians\" and gathering some basic statistics about it. \n",
    "\n",
    "In the next assignment (Assignment 2) we will extend these tools to analyze conversational behavior.\n",
    "\n",
    "**Learning Objectives**\n",
    "\n",
    "This project aims to help you get comfortable working with the following tools / technologies / concepts:\n",
    "\n",
    "* word tokenization\n",
    "* histogram plotting using `matplotlib`\n",
    "* character analysis via conversational language\n",
    "* familiarize yourself with basic numpy usage\n",
    "\n",
    "**Academic Integrity and Collaboration**\n",
    "\n",
    "Note that these projects should be completed individually. As a result, all University-standard academic integrity guidelines must be followed.\n",
    "\n",
    "**Guidelines**\n",
    "\n",
    "All cells that contain the blocks that read `# YOUR CODE HERE` are editable and are to be completed to ensure you pass the test-cases. Make sure to write your code where indicated.\n",
    "\n",
    "All cells that read `YOUR ANSWER HERE` are free-response cells that are editable and are to be completed.\n",
    "\n",
    "You may use any number of notebook cells to explore the data and test out your functions, although you will only be graded on the solution itself.\n",
    "\n",
    "\n",
    "You are unable to modify the read-only cells.\n",
    "\n",
    "You should also use Markdown cells to explain your code and discuss your results when necessary.\n",
    "Instructions can be found [here](http://jupyter-notebook.readthedocs.io/en/latest/examples/Notebook/Working%20With%20Markdown%20Cells.html).\n",
    "\n",
    "All floating point values should be printed with **2 decimal places** precision. You can do so using the built-in round function.\n",
    "\n",
    "**Grading**\n",
    "\n",
    "For code-completion questions you will be graded on passing the public test cases we have included, as well as any hidden test cases that we have supplemented within a given amount of time to ensure that your logic is correct.\n",
    "\n",
    "Your solution to A1 should finish running in **less than 5 minutes**.\n",
    "For your information, it takes less than 1 minute to run our solution for the entire A1.\n",
    "Also make sure to remove any **redundant print statements** to speed things up and prevent generating unnecessary outputs.\n",
    "\n",
    "For free-response questions you will be manually graded on the quality of your answer.\n",
    "\n",
    "**Submission**\n",
    "\n",
    "You are expected to submit this .ipynb as your submission for Assignment 1. \n",
    "\n",
    "In addition please submit an html copy of the notebook (You can create this by clicking File > Download as > HTML (.html))."
   ]
  },
  {
   "cell_type": "markdown",
   "metadata": {
    "nbgrader": {
     "grade": false,
     "grade_id": "cell-9d381da04cb83dc4",
     "locked": true,
     "schema_version": 3,
     "solution": false,
     "task": false
    }
   },
   "source": [
    "#### A0 Review\n",
    "\n",
    "Recall the learning objectives of A0:\n",
    "\n",
    "- The Jupyter Notebook environment\n",
    "- Recap of Python syntax and basic data structures\n",
    "- virtualenv environment for package dependencies\n",
    "\n",
    "We used the BeautifulSoup library to extract episode titles, timestamps, and character speech from HTML files, then stored this data in Python Dictionaries. Finally, we conducted preliminary checks of our data to test its usability (i.e. checking for duplicate transcripts and converting nickname \"Rob\" to \"Robert\")."
   ]
  },
  {
   "cell_type": "code",
   "execution_count": 47,
   "metadata": {
    "nbgrader": {
     "grade": false,
     "grade_id": "cell-97b1c5e4f7df612c",
     "locked": true,
     "schema_version": 3,
     "solution": false
    }
   },
   "outputs": [],
   "source": [
    "import re\n",
    "import json\n",
    "from glob import glob\n",
    "import os\n",
    "from io import StringIO\n",
    "from itertools import groupby\n",
    "import pickle\n",
    "\n",
    "import numpy as np\n",
    "import bs4\n",
    "%matplotlib inline\n",
    "import matplotlib.pyplot as plt"
   ]
  },
  {
   "cell_type": "code",
   "execution_count": 48,
   "metadata": {
    "nbgrader": {
     "grade": false,
     "grade_id": "cell-7114417ecfb57e62",
     "locked": true,
     "schema_version": 3,
     "solution": false
    }
   },
   "outputs": [],
   "source": [
    "import sys\n",
    "# Ensure that your kernel is using Python3\n",
    "assert sys.version_info.major == 3"
   ]
  },
  {
   "cell_type": "markdown",
   "metadata": {
    "nbgrader": {
     "grade": false,
     "grade_id": "cell-1ced8dfe7b8cc493",
     "locked": true,
     "schema_version": 3,
     "solution": false
    }
   },
   "source": [
    "## Preliminary Data Cleansing\n",
    "**Note: The following content is for you to review to understand how we cleaned and prepared the data for the analysis below.**\n",
    "\n",
    "We will be continuing where we left off from Assignment 0. \n",
    "\n",
    "### Removing duplicates\n",
    "If you are to examine the original transcripts you will see that many of them are near-duplicates, but most are not *perfect* duplicates. This is problematic, because we cannot simply remove identical transcripts.  Furthermore, we cannot just throw away documents that have large overlap, because we would be throwing away the valuable data that is *not* overlapping.\n",
    "\n",
    "We therefore have to treat the transcripts as sequences, rather than as entire documents, and just remove subsequences that overlap.\n",
    "\n",
    "We therefore used a standard python `difflib` package to write the `find_overlaps` function:\n",
    "\n",
    "```python\n",
    "import difflib\n",
    "def find_overlaps(transcript_a, transcript_b, threshold=5):\n",
    "    \"\"\"Find and return the indices of overlapping subsequences between the two transcripts.\n",
    "    Only return overlapping sequences that consist of at least `threshold` entries.\"\"\"\n",
    "    \n",
    "    # We consider that two transcripts overlap when the messages\n",
    "    # and the speakers are the same, but not the timestamp.\n",
    "    \n",
    "    # Massage the transcripts to disregard timestamp information.\n",
    "    # note that a tuple is hashable, so is okay to use for difflib's SequenceMatcher class.\n",
    "    msgs_a = [(m['speaker'], m['text']) if m is not None else None\n",
    "              for m in transcript_a]\n",
    "    msgs_b = [(m['speaker'], m['text']) if m is not None else None\n",
    "              for m in transcript_b]\n",
    "    matcher = difflib.SequenceMatcher(None, msgs_a, msgs_b)\n",
    "    return list(filter(lambda tup: tup[2] >= threshold, matcher.get_matching_blocks()))\n",
    "```\n",
    "\n",
    "We now use the function above to remove duplicate subsequences. At each step, assume we have a list of \"good\" transcripts that have already been processed. When considering a new transcript, we first remove all subsequences that overlap with any of the already processed ones. Then, we split up the chunks that are not removed, and consider each of them a new transcript.\n",
    "\n",
    "```python\n",
    "deduped_transcripts = []\n",
    "all_keys = sorted(transcripts.keys())\n",
    "\n",
    "for key in all_keys:\n",
    "    transcript = transcripts[key]\n",
    "    for _, good_transcript in deduped_transcripts:\n",
    "        overlaps = find_overlaps(transcript, good_transcript)\n",
    "        for idx_a, _, size in overlaps:\n",
    "            transcript[idx_a:idx_a + size] = [None] * size\n",
    "    \n",
    "    for is_not_none, group in groupby(transcript, lambda x: x is not None):\n",
    "        if is_not_none:\n",
    "            subtranscript = list(group)\n",
    "            deduped_transcripts.append((key, subtranscript))\n",
    "```\n",
    "\n",
    "The `deduped_transcripts` are what you are now analyzing for the rest of the assignment. "
   ]
  },
  {
   "cell_type": "code",
   "execution_count": 49,
   "metadata": {
    "nbgrader": {
     "grade": false,
     "grade_id": "cell-e31168ecff8580a3",
     "locked": true,
     "schema_version": 3,
     "solution": false
    }
   },
   "outputs": [],
   "source": [
    "## We are loading the pickle file that contains all the deduped transcripts from Assignment 0\n",
    "with open('deduped_transcripts.pickle','rb') as f:\n",
    "    deduped_transcripts = pickle.load(f)\n",
    "## We are also loading a pickle file of the titles file that we determined in the beginning of Assignment 0\n",
    "with open('titles.pickle','rb') as f:\n",
    "    titles = pickle.load(f)"
   ]
  },
  {
   "cell_type": "markdown",
   "metadata": {
    "nbgrader": {
     "grade": false,
     "grade_id": "cell-6fcb040d322bffc2",
     "locked": true,
     "schema_version": 3,
     "solution": false
    }
   },
   "source": [
    "# Language analysis\n",
    "\n",
    "## Identifying the words\n",
    "It's time to get down to the bread-and-butter of language analysis: the words used.  For simplification, **we consider a word to be a sequence of alphabetical characters. Treat all other characters as delimiters and do not return them.**\n",
    "\n",
    "\n",
    "## Question 1 (Code Completion): Tokenization \n",
    "\n",
    "In the cell below: *Write a function to 'tokenize' a string into the constituent words*. \n",
    "\n",
    "You **must** use regex to satisfy the function specification. We recommend you leverage `re.findall`. \n",
    "\n",
    "Hint: Check out this online regex calculator: [here](https://regex101.com/)"
   ]
  },
  {
   "cell_type": "code",
   "execution_count": 50,
   "metadata": {
    "nbgrader": {
     "grade": false,
     "grade_id": "tokenize",
     "locked": false,
     "schema_version": 3,
     "solution": true,
     "task": false
    }
   },
   "outputs": [],
   "source": [
    "def tokenize(text):\n",
    "    \"\"\"Returns a list of words that make up the text.\n",
    "    \n",
    "    Note: for simplicity, lowercase everything.\n",
    "    Requirement: Use Regex to satisfy this function\n",
    "    \n",
    "    Params: {text: String}\n",
    "    Returns: List\n",
    "    \"\"\"\n",
    "    # find the expression that matches a word using regex\n",
    "    tokens = re.findall(r'[a-z]+', text.lower())\n",
    "    return tokens"
   ]
  },
  {
   "cell_type": "code",
   "execution_count": 51,
   "metadata": {
    "nbgrader": {
     "grade": true,
     "grade_id": "tokenize_test",
     "locked": true,
     "points": 5,
     "schema_version": 3,
     "solution": false,
     "task": false
    }
   },
   "outputs": [],
   "source": [
    "# This is an autograder test. Here we can test the function you just wrote above.\n",
    "\"\"\"Check that tokenize returns the correct output\"\"\"\n",
    "assert tokenize(\"It's time 2 get down to the bread-and-butter\") == \\\n",
    "    ['it', 's', 'time', 'get', 'down', 'to', 'the', 'bread', 'and', 'butter']\n",
    "assert tokenize(\"Life, Liberty, & the Pursuit of Happiness\") == \\\n",
    "    ['life', 'liberty', 'the', 'pursuit', 'of', 'happiness']"
   ]
  },
  {
   "cell_type": "markdown",
   "metadata": {
    "nbgrader": {
     "grade": false,
     "grade_id": "cell-d753d9a79894c197",
     "locked": true,
     "schema_version": 3,
     "solution": false
    }
   },
   "source": [
    "## Question 2 (Code Completion): Tokenization of Entire Transcript\n",
    "\n",
    "In the cell below write a function that *tokenizes all of the text in an input transcript (given a method for tokenizing strings)*, producing a list of all tokens found in the entire transcript."
   ]
  },
  {
   "cell_type": "code",
   "execution_count": 52,
   "metadata": {
    "nbgrader": {
     "grade": false,
     "grade_id": "tokenize_transcript",
     "locked": false,
     "schema_version": 3,
     "solution": true
    }
   },
   "outputs": [],
   "source": [
    "def tokenize_transcript(tokenize_method,input_transcript):\n",
    "    \"\"\"Returns a list of tokens contained in an entire transcript.\n",
    "    Params: {tokenize_method: Function (a -> b),\n",
    "             input_transcript: Tuple}\n",
    "    Returns: List\n",
    "    \"\"\"\n",
    "    tokens = [] \n",
    "    # input_transcript[1] is a list of dictionaries\n",
    "    # each dictionary has a key 'text' and a value that is a string\n",
    "    for transcript in input_transcript[1]:\n",
    "        text = transcript['text']\n",
    "        tokens += tokenize_method(text)\n",
    "\n",
    "    return tokens"
   ]
  },
  {
   "cell_type": "code",
   "execution_count": 53,
   "metadata": {
    "nbgrader": {
     "grade": false,
     "grade_id": "cell-c3d95463c66bd217",
     "locked": true,
     "schema_version": 3,
     "solution": false,
     "task": false
    }
   },
   "outputs": [
    {
     "data": {
      "text/plain": [
       "1163"
      ]
     },
     "execution_count": 53,
     "metadata": {},
     "output_type": "execute_result"
    }
   ],
   "source": [
    "len(deduped_transcripts)"
   ]
  },
  {
   "cell_type": "code",
   "execution_count": 54,
   "metadata": {
    "nbgrader": {
     "grade": true,
     "grade_id": "tokenize_transcript_test",
     "locked": true,
     "points": 5,
     "schema_version": 3,
     "solution": false
    }
   },
   "outputs": [],
   "source": [
    "# This is an autograder test. Here we can test the function you just wrote above.\n",
    "\"\"\"Check that tokenize returns the correct output\"\"\"\n",
    "assert len(tokenize_transcript(tokenize,deduped_transcripts[0])) > 6000 and \\\n",
    "    len(tokenize_transcript(tokenize,deduped_transcripts[0])) < 7000"
   ]
  },
  {
   "cell_type": "markdown",
   "metadata": {
    "nbgrader": {
     "grade": false,
     "grade_id": "cell-659f2ecbe807eaef",
     "locked": true,
     "schema_version": 3,
     "solution": false
    }
   },
   "source": [
    "## Question 3 (Code Completion) Number of Tokens\n",
    "In the cell below write a function to *count how many tokens are used in the deduplicated transcripts in total*"
   ]
  },
  {
   "cell_type": "code",
   "execution_count": 55,
   "metadata": {
    "nbgrader": {
     "grade": false,
     "grade_id": "num_dedup_tokens",
     "locked": false,
     "schema_version": 3,
     "solution": true
    }
   },
   "outputs": [],
   "source": [
    "def num_dedup_tokens(tokenize_method,tokenize_transcript_method,input_transcripts):\n",
    "    \"\"\"Returns number of tokens used in an entire transcript\n",
    "    Params: {tokenize_method: Function (a -> b),\n",
    "             // Note: Below type means a function that takes two arguments, the first of which is a function.\n",
    "             tokenize_transcript_method: Function ((Function(a -> b), c) -> d),\n",
    "             input_transcripts: Tuple List}\n",
    "    Returns: Integer\n",
    "    \"\"\"\n",
    "    token_num = 0\n",
    "    for transcript in deduped_transcripts:\n",
    "        token_num += len(tokenize_transcript_method(tokenize_method,transcript))\n",
    "    return token_num"
   ]
  },
  {
   "cell_type": "code",
   "execution_count": 56,
   "metadata": {
    "nbgrader": {
     "grade": true,
     "grade_id": "num_dedup_tokens_test",
     "locked": true,
     "points": 10,
     "schema_version": 3,
     "solution": false
    }
   },
   "outputs": [],
   "source": [
    "# This is an autograder test. Here we can test the function you just wrote above.\n",
    "\"\"\"Check that num_dedup_tokens returns the correct output\"\"\"\n",
    "assert num_dedup_tokens(tokenize,tokenize_transcript,deduped_transcripts) > 200000 and \\\n",
    "    num_dedup_tokens(tokenize,tokenize_transcript,deduped_transcripts) < 300000"
   ]
  },
  {
   "cell_type": "markdown",
   "metadata": {
    "nbgrader": {
     "grade": false,
     "grade_id": "cell-ed6fa2191c79a632",
     "locked": true,
     "schema_version": 3,
     "solution": false
    }
   },
   "source": [
    "## Question 4 (Code Completion) Number of Distinct Words\n",
    "\n",
    "In the cell below write a function to *count how many distinct words are in the deduplicated transcripts in total*. \n",
    "\n",
    "Hint: Use a *set*"
   ]
  },
  {
   "cell_type": "code",
   "execution_count": 57,
   "metadata": {
    "nbgrader": {
     "grade": false,
     "grade_id": "num_distinct_words",
     "locked": false,
     "schema_version": 3,
     "solution": true
    }
   },
   "outputs": [],
   "source": [
    "def num_distinct_words(tokenize_method,tokenize_transcript_method,input_transcripts):\n",
    "    \"\"\"Returns number of distinct tokens used in an entire transcript\n",
    "    Params: {tokenize_method: Function (a -> b),\n",
    "             // Note: Below type means a function that takes two arguments, the first of which is a function.\n",
    "             tokenize_transcript_method: Function ((Function(a -> b), c) -> d),\n",
    "             input_transcripts: Tuple List}\n",
    "    Returns: Integer\n",
    "    \"\"\"\n",
    "    distinct_token = set()\n",
    "    for transcript in deduped_transcripts:\n",
    "        distinct_token.update(tokenize_transcript_method(tokenize_method,transcript))\n",
    "    return len(distinct_token)"
   ]
  },
  {
   "cell_type": "code",
   "execution_count": 58,
   "metadata": {
    "nbgrader": {
     "grade": true,
     "grade_id": "num_distict_words_test",
     "locked": true,
     "points": 10,
     "schema_version": 3,
     "solution": false
    }
   },
   "outputs": [],
   "source": [
    "# This is an autograder test. Here we can test the function you just wrote above.\n",
    "\"\"\"Check that num_dedup_tokens returns the correct output\"\"\"\n",
    "assert num_distinct_words(tokenize,tokenize_transcript,deduped_transcripts) > 8000 and \\\n",
    "    num_distinct_words(tokenize,tokenize_transcript,deduped_transcripts) < 9000"
   ]
  },
  {
   "cell_type": "markdown",
   "metadata": {
    "nbgrader": {
     "grade": false,
     "grade_id": "cell-3d5da2bb92583201",
     "locked": true,
     "schema_version": 3,
     "solution": false
    }
   },
   "source": [
    "# Question 5 (Code Completion) Word Episode Counts\n",
    "\n",
    "This question is asking you to build a dictionary `word_episode_count[word]` = *number of episodes in which the word appears*. \n",
    "\n",
    "*Note: Keep in mind that the de-duplicated transcripts don't have unique titles!\n",
    "Recall from A0 that **one episode corresponds to exactly one title** (but not necessarily to only one transcript).*\n",
    "\n",
    "**Your code should ideally take less than 1 second (or a few seconds) to run. If it does not, then you should be able to find a better answer.**\n",
    "\n",
    "In the cell below write a function that counts: *for each distinct (unique) word, in how many different episodes does it appear?* "
   ]
  },
  {
   "cell_type": "code",
   "execution_count": 59,
   "metadata": {
    "nbgrader": {
     "grade": false,
     "grade_id": "build_word_episode_count",
     "locked": false,
     "schema_version": 3,
     "solution": true
    }
   },
   "outputs": [],
   "source": [
    "def build_word_episode_count(tokenize_method,tokenize_transcript_method,input_transcripts,input_titles):\n",
    "    \"\"\"Returns a dictionary with the number of episodes each distinct word appears\n",
    "        Params: {tokenize_method: Function (a -> b),\n",
    "                 // Note: Below type means a function that takes two arguments, the first of which is a function.\n",
    "                 tokenize_transcript_method: Function ((Function(a -> b), c) -> d),\n",
    "                 input_transcripts: Tuple List,\n",
    "                 input_titles: Dictionary}\n",
    "        Returns: Dict\n",
    "    \"\"\"\n",
    "    # a dictionary with the number of episodes each distinct word appears, initialized to 0\n",
    "    distinct_tokens = set()\n",
    "    for transcript in input_transcripts:\n",
    "        distinct_tokens.update(tokenize_transcript_method(tokenize_method,transcript))\n",
    "\n",
    "    word_episode_count = dict.fromkeys(distinct_tokens,0)\n",
    "\n",
    "    # print(word_episode_count)\n",
    "\n",
    "    # a set of distinct titles\n",
    "    distinct_titles = {value for value in titles.values()}\n",
    "\n",
    "    for title in distinct_titles:\n",
    "\n",
    "        # a set of distinct tokens in an episode\n",
    "        tokens_in_episode=set()\n",
    "\n",
    "        # find the first transcripts with the title\n",
    "        for index in range(len(input_transcripts)):\n",
    "            code = input_transcripts[index][0]\n",
    "            if (titles[code] == title):\n",
    "                # tokenize the transcript\n",
    "                tokens = tokenize_transcript_method(tokenize_method,input_transcripts[index])\n",
    "                tokens_in_episode.update(tokens)\n",
    "        \n",
    "\n",
    "        # update the word_episode_count\n",
    "        for token in tokens_in_episode:\n",
    "            word_episode_count[token] += 1\n",
    "    return word_episode_count"
   ]
  },
  {
   "cell_type": "code",
   "execution_count": 60,
   "metadata": {
    "nbgrader": {
     "grade": false,
     "grade_id": "cell-0a14a82efd4f0e23",
     "locked": true,
     "schema_version": 3,
     "solution": false
    }
   },
   "outputs": [],
   "source": [
    "word_episode_count = build_word_episode_count(tokenize,tokenize_transcript,deduped_transcripts,titles)   "
   ]
  },
  {
   "cell_type": "code",
   "execution_count": 61,
   "metadata": {
    "nbgrader": {
     "grade": true,
     "grade_id": "build_word_episode_count_test",
     "locked": true,
     "points": 20,
     "schema_version": 3,
     "solution": false
    }
   },
   "outputs": [],
   "source": [
    "# This is an autograder test. Here we can test the function you just wrote above.\n",
    "\"\"\"Check that build_word_episode_count returns the correct output\"\"\"\n",
    "assert word_episode_count['quarter'] == 2\n",
    "assert word_episode_count['made'] == 40\n",
    "assert word_episode_count['never'] == 49"
   ]
  },
  {
   "cell_type": "markdown",
   "metadata": {},
   "source": [
    "## Question 6 (Code Completion) Distribution Analysis\n",
    "\n",
    "For this question, you will be summarizing the word episode counts you found above by combining them into a *distribution* of the number of episodes in which words appear. That is: *how many words appear in only one episode, how many appear in two episodes, and so on?*\n",
    "\n",
    "Specifically, you will build a dictionary `word_episode_distribution[n]` = *number of words that appear in exactly* `n` *episodes*.\n",
    "\n",
    "In the cell below fulfill the specifications above and have the function: *produce a distribution of word episode counts*"
   ]
  },
  {
   "cell_type": "code",
   "execution_count": 62,
   "metadata": {},
   "outputs": [],
   "source": [
    "def build_word_episode_distribution(input_word_counts):\n",
    "    \"\"\"Returns a dictionary that counts how many words appear in exactly a given number of episodes\n",
    "        Params: {input_word_counts: Dict}\n",
    "        Returns: Dict\n",
    "    \"\"\"\n",
    "\n",
    "    # a dictionary that counts how many words appear in exactly a given number of episodes\n",
    "    word_episode_distribution = dict.fromkeys(set(input_word_counts.values()),0)\n",
    "\n",
    "    for count in input_word_counts.values():\n",
    "        word_episode_distribution[count] += 1\n",
    "    return word_episode_distribution"
   ]
  },
  {
   "cell_type": "code",
   "execution_count": 63,
   "metadata": {},
   "outputs": [],
   "source": [
    "word_episode_distribution = build_word_episode_distribution(word_episode_count)"
   ]
  },
  {
   "cell_type": "code",
   "execution_count": 64,
   "metadata": {},
   "outputs": [],
   "source": [
    "# This is an autograder test. Here we can test the function you just wrote above.\n",
    "\"\"\"Check that build_word_episode_distribution returns the correct output\"\"\"\n",
    "assert word_episode_distribution[1] > 4000 and word_episode_distribution[1] < 4500\n",
    "assert word_episode_distribution[3] > 700 and word_episode_distribution[3] < 800\n",
    "assert word_episode_distribution[15] > 30 and word_episode_distribution[15] < 50"
   ]
  },
  {
   "cell_type": "markdown",
   "metadata": {
    "nbgrader": {
     "grade": false,
     "grade_id": "cell-88307b2867a85c7d",
     "locked": true,
     "schema_version": 3,
     "solution": false
    }
   },
   "source": [
    "## Question 6b (Free Response): Visualizing the distribution\n",
    "\n",
    "When working with distributions (like we're doing here), it can be helpful to *visualize* the distribution in order to get a better intuition. This can be achieved through the use of *histograms*, so in this question you will create one. \n",
    "\n",
    "Each bin of the histogram  (the *x axis*) should correspond to the *number of episodes* in which a word is mentioned, and the *y axis* should show the *number of words* in each bin. \n",
    "\n",
    "Note: Use the default matplotlib settings. You may find this tutorial helpful: https://matplotlib.org/3.0.2/tutorials/introductory/pyplot.html\n",
    "\n",
    "Create a new cell with the histogram below. Then, give an analysis of the distribution: What do you observe?"
   ]
  },
  {
   "cell_type": "code",
   "execution_count": 65,
   "metadata": {
    "nbgrader": {
     "grade": true,
     "grade_id": "build_word_episode_count_ans",
     "locked": false,
     "points": 5,
     "schema_version": 3,
     "solution": true
    }
   },
   "outputs": [
    {
     "data": {
      "image/png": "[encoded data removed]",
      "text/plain": [
       "<Figure size 640x480 with 1 Axes>"
      ]
     },
     "metadata": {},
     "output_type": "display_data"
    }
   ],
   "source": [
    "import matplotlib.pyplot as plt\n",
    "plt.plot(list(word_episode_distribution.keys()), list(word_episode_distribution.values()))\n",
    "plt.xlabel('number of episodes')\n",
    "plt.ylabel('number of words')\n",
    "plt.show()"
   ]
  },
  {
   "cell_type": "markdown",
   "metadata": {
    "nbgrader": {
     "grade": false,
     "grade_id": "cell-b78c4d64909ac049",
     "locked": true,
     "schema_version": 3,
     "solution": false
    }
   },
   "source": [
    "## Question 7 (Code Completion): Good Types\n",
    "\n",
    "As we have now seen, there are many *infrequent* words that occur only in one episode, and never again afterwards. When analyzing language use---for instance, if we wanted to make sense of how various characters tend to behave---we might not put too much stock in such infrequent words (maybe Kim was just having a bad day). This question deals with the step of filtering out infrequent words.\n",
    "\n",
    "In the cell below: build an alphabetically sorted list of all words that appear in more than one episode. We'll refer to these words as *good types*."
   ]
  },
  {
   "cell_type": "code",
   "execution_count": 66,
   "metadata": {
    "nbgrader": {
     "grade": false,
     "grade_id": "output_good_types",
     "locked": false,
     "schema_version": 3,
     "solution": true
    }
   },
   "outputs": [],
   "source": [
    "def output_good_types(input_word_counts):\n",
    "    \"\"\"Returns a list of good types in alphabetically sorted order\n",
    "        Params: {input_word_counts: Dict}\n",
    "        Returns: List\n",
    "    \"\"\"\n",
    "    good_types = []\n",
    "    for word in input_word_counts:\n",
    "        if input_word_counts[word] > 1:\n",
    "            good_types.append(word)\n",
    "    return sorted(good_types)"
   ]
  },
  {
   "cell_type": "code",
   "execution_count": 67,
   "metadata": {
    "nbgrader": {
     "grade": false,
     "grade_id": "cell-8f0bb8ce404b6b24",
     "locked": true,
     "schema_version": 3,
     "solution": false
    }
   },
   "outputs": [],
   "source": [
    "good_types = output_good_types(word_episode_count)\n",
    "n_good_types = len(good_types)"
   ]
  },
  {
   "cell_type": "code",
   "execution_count": 68,
   "metadata": {
    "nbgrader": {
     "grade": true,
     "grade_id": "output_good_types_test",
     "locked": true,
     "points": 8,
     "schema_version": 3,
     "solution": false
    }
   },
   "outputs": [],
   "source": [
    "# This is an autograder test. Here we can test the function you just wrote above.\n",
    "\"\"\"Check that output_good_types returns the correct output\"\"\"\n",
    "assert n_good_types > 4500 and n_good_types < 5000\n",
    "assert good_types[0:5] == ['a','aah','ability','able','about']"
   ]
  },
  {
   "cell_type": "markdown",
   "metadata": {
    "nbgrader": {
     "grade": false,
     "grade_id": "cell-800cf3466c807a90",
     "locked": true,
     "schema_version": 3,
     "solution": false
    }
   },
   "source": [
    "## Question 7b (Free Response): Good Types\n",
    "\n",
    "In the cell below answer the following: *How many good_types there are? What are the first 10 in alphabetical order?*\n",
    "\n",
    "Please write your answer in code and use Python's `print()` function, **NOT** markdown."
   ]
  },
  {
   "cell_type": "code",
   "execution_count": 69,
   "metadata": {
    "nbgrader": {
     "grade": true,
     "grade_id": "output_good_types_ans",
     "locked": false,
     "points": 2,
     "schema_version": 3,
     "solution": true
    },
    "scrolled": true
   },
   "outputs": [
    {
     "name": "stdout",
     "output_type": "stream",
     "text": [
      "a\n",
      "aah\n",
      "ability\n",
      "able\n",
      "about\n",
      "absolute\n",
      "absolutely\n",
      "absurd\n",
      "accent\n",
      "accept\n"
     ]
    }
   ],
   "source": [
    "for i in range (0,10):\n",
    "    print(good_types[i])"
   ]
  },
  {
   "cell_type": "markdown",
   "metadata": {
    "nbgrader": {
     "grade": false,
     "grade_id": "cell-dd25b6c0ee0f7aa7",
     "locked": true,
     "schema_version": 3,
     "solution": false
    }
   },
   "source": [
    "From now on, the use of array data structures from `numpy` is required in some places. If you've never used numpy before, it will take some time to get used to. In general, numpy is a library that you can use to handle vector/matrix/tensor operations, including creation, modification, and compositions (add, sub, mul, etc.). For example, try running the following code:"
   ]
  },
  {
   "cell_type": "code",
   "execution_count": 70,
   "metadata": {
    "nbgrader": {
     "grade": false,
     "grade_id": "cell-a35c29d2a336c43f",
     "locked": true,
     "schema_version": 3,
     "solution": false
    }
   },
   "outputs": [
    {
     "name": "stdout",
     "output_type": "stream",
     "text": [
      "[[1 2 3]\n",
      " [4 6 2]]\n",
      "[[1 2]\n",
      " [5 3]\n",
      " [1 1]]\n",
      "3\n",
      "[[14 11]\n",
      " [36 28]]\n",
      "[5 8 5]\n",
      "[3 8 2]\n"
     ]
    }
   ],
   "source": [
    "A = np.array([[1,2,3], [4,6,2]]) \n",
    "B = np.array([[1,2],[5,3],[1,1]])\n",
    "print(A) #A is a 2x3 matrix\n",
    "print(B) #B is a 3x2 matrix\n",
    "print(A[0,2]) # Prints the value contained in the first row, third column of matrix A\n",
    "print(A.dot(B)) #A.dot(B) multiplies the two matrices, producing a 2 by 2 matrix\n",
    "print(np.sum(A, axis=0)) #np.sum(A, axis=0) sums along columns\n",
    "print(np.sum(B, axis=1)) #np.sum(B, axis=1) sums along rows"
   ]
  },
  {
   "cell_type": "markdown",
   "metadata": {
    "nbgrader": {
     "grade": false,
     "grade_id": "cell-be083b1847639a79",
     "locked": true,
     "schema_version": 3,
     "solution": false
    }
   },
   "source": [
    "You're welcome to find your own resources to learn more about numpy (there are lots of them) but one good introduction is [Justin Johnson's writeup](http://cs231n.github.io/python-numpy-tutorial/#numpy).\n",
    "\n",
    "We will be using vectors and arrays with *n_good_types* columns, such that each good type corresponds to a column, in alphabetical order."
   ]
  },
  {
   "cell_type": "markdown",
   "metadata": {
    "nbgrader": {
     "grade": false,
     "grade_id": "cell-f473f9073805a3f3",
     "locked": true,
     "schema_version": 3,
     "solution": false
    }
   },
   "source": [
    "## Question 8 (Code Completion): Word Frequencies\n",
    "\n",
    "Previously, we characterized words according to how many episodes they appeared in. For this question, we will take a different approach: computing the rate (or *frequency*) at which a word appears across the entire corpus (note: a corpus is a collection of written texts, in this case the transcripts of a reality TV show).\n",
    "\n",
    "In the cell below, complete the function to *find the word frequency of all \"good types\"* in descending order.\n",
    "\n",
    "For this question only, **round your solution to 5 decimals**.\n",
    "\n",
    "What can we say about the most frequently used words? Briefly consider, would you expect to find the same ordering of frequent words in, say, the NY Times?"
   ]
  },
  {
   "cell_type": "code",
   "execution_count": 71,
   "metadata": {
    "nbgrader": {
     "grade": false,
     "grade_id": "create_ranked_good_types",
     "locked": false,
     "schema_version": 3,
     "solution": true
    }
   },
   "outputs": [],
   "source": [
    "def create_ranked_good_types(tokenize_method,tokenize_transcript_method,input_transcripts,input_good_types):\n",
    "    \"\"\"Returns a list of good types in reverse sorted order in the form:\n",
    "        [(word_1,word_frequency_1),\n",
    "        ...\n",
    "        (word_10,word_frequency_10)]\n",
    "        Params: {tokenize_method: Function (a -> b),\n",
    "                 // Note: Below type means a function that takes two arguments, the first of which is a function.\n",
    "                 tokenize_transcript_method: Function ((Function(a -> b), c) -> d),\n",
    "                 input_transcripts: Tuple List,\n",
    "                 input_good_types: List}\n",
    "        Returns: List\n",
    "    \"\"\"\n",
    "    word_frequency = dict.fromkeys(input_good_types,0)\n",
    "\n",
    "    # total number of corpus\n",
    "    total_num = 0\n",
    "\n",
    "    for transcript in input_transcripts:\n",
    "        tokens = tokenize_transcript_method(tokenize_method,transcript)\n",
    "        for token in tokens:\n",
    "            total_num += 1\n",
    "            if token in word_frequency:\n",
    "                word_frequency[token] += 1\n",
    "    \n",
    "\n",
    "\n",
    "    # calculate the frequency of each word\n",
    "    for word in word_frequency:\n",
    "        word_frequency[word] = round(word_frequency[word]/total_num,5)\n",
    "\n",
    "    # sort the word_frequency in reverse order\n",
    "    ranked_good_types = sorted(word_frequency.items(), key=lambda x: x[1], reverse=True)\n",
    "\n",
    "\n",
    "\n",
    "    return ranked_good_types"
   ]
  },
  {
   "cell_type": "code",
   "execution_count": 72,
   "metadata": {
    "nbgrader": {
     "grade": false,
     "grade_id": "cell-8bb7a64aaa1b1620",
     "locked": true,
     "schema_version": 3,
     "solution": false
    }
   },
   "outputs": [],
   "source": [
    "ranked_frequencies = create_ranked_good_types(tokenize,tokenize_transcript,deduped_transcripts,good_types)"
   ]
  },
  {
   "cell_type": "markdown",
   "metadata": {
    "nbgrader": {
     "grade": false,
     "grade_id": "cell-098c443e5f1380a0",
     "locked": true,
     "schema_version": 3,
     "solution": false,
     "task": false
    }
   },
   "source": [
    "Suggestion: Sum the word frequencies found for all good types. Consider why they do not add to one."
   ]
  },
  {
   "cell_type": "code",
   "execution_count": 73,
   "metadata": {
    "nbgrader": {
     "grade": true,
     "grade_id": "create_ranked_good_types_test",
     "locked": true,
     "points": 20,
     "schema_version": 3,
     "solution": false
    }
   },
   "outputs": [],
   "source": [
    "# This is an autograder test. Here we can test the function you just wrote above.\n",
    "\"\"\"Check that create_ranked_good_types returns the correct output\"\"\"\n",
    "words_only = [word for word, freq in ranked_frequencies]\n",
    "frequencies_only = np.array([freq for word, freq in ranked_frequencies])\n",
    "assert words_only[0:2] == ['i','you']\n",
    "assert np.isclose(frequencies_only[0:2], \n",
    "            np.array([0.04858, 0.03797]), atol=1e-3).all()"
   ]
  },
  {
   "cell_type": "markdown",
   "metadata": {},
   "source": [
    "Note: the autograder uses some additional numpy utility functions. You don't need to be familiar with these right now, but in case you are curious:\n",
    "\n",
    "- `np.isclose` is a useful function for comparing floats, that gets around the problem of floating-point imprecision;\n",
    "- `.all()` is True whenever all the entries of a boolean array are True.\n"
   ]
  },
  {
   "cell_type": "markdown",
   "metadata": {
    "nbgrader": {
     "grade": false,
     "grade_id": "cell-3f52d6dd8641a84e",
     "locked": true,
     "schema_version": 3,
     "solution": false
    }
   },
   "source": [
    "## Characterizing characters' language\n",
    "\n",
    "Moving on, we will only be considering a subset of characters, arguably the most important ones."
   ]
  },
  {
   "cell_type": "code",
   "execution_count": 74,
   "metadata": {
    "nbgrader": {
     "grade": false,
     "grade_id": "cell-87f62951498c6a21",
     "locked": true,
     "schema_version": 3,
     "solution": false
    }
   },
   "outputs": [],
   "source": [
    "good_speakers = [u'BRUCE',\n",
    "                 u'JONATHAN',\n",
    "                 u'KHLOE',\n",
    "                 u'KIM',\n",
    "                 u'KOURTNEY',\n",
    "                 u'KRIS',\n",
    "                 u'ROBERT',\n",
    "                 u'SCOTT']\n",
    "\n",
    "n_speakers = len(good_speakers)"
   ]
  },
  {
   "cell_type": "markdown",
   "metadata": {
    "nbgrader": {
     "grade": false,
     "grade_id": "cell-1e73cf04c0942e6e",
     "locked": true,
     "schema_version": 3,
     "solution": false
    }
   },
   "source": [
    "## Question 9 (Code Completion): Character Word Occurrences\n",
    "\n",
    "In the cell below you will be asked to determine *how often each word is said by each character*.\n",
    "\n",
    "This function **requires** you to return a numpy array of shape `n_speakers` rows by `n_good_types` columns, such that the entry `(i,j)` indicates how many times speaker i says word j. **You will lose points if you do not use numpy!**"
   ]
  },
  {
   "cell_type": "code",
   "execution_count": 75,
   "metadata": {
    "nbgrader": {
     "grade": false,
     "grade_id": "create_word_freq_array",
     "locked": false,
     "schema_version": 3,
     "solution": true
    }
   },
   "outputs": [],
   "source": [
    "def create_word_occurrence_matrix(\n",
    "    tokenize_method,\n",
    "    input_transcripts,\n",
    "    input_speakers,\n",
    "    input_good_types):\n",
    "    \"\"\"Returns a numpy array of shape n_speakers by n_good_types such that the \n",
    "    entry (ij) indicates how often speaker i says word j.\n",
    "    \n",
    "    Params: {tokenize_method: Function (a -> b),\n",
    "             input_transcripts: Tuple List,\n",
    "             input_speakers: List,\n",
    "             input_good_types: List}\n",
    "    Returns: Numpy Array\n",
    "    \"\"\"\n",
    "    # initialize the matrix\n",
    "    word_occurrence_matrix = np.zeros((n_speakers,n_good_types))\n",
    "\n",
    "    for transcript in input_transcripts:\n",
    "        # deal with each sentence\n",
    "        for sentence in transcript[1]:\n",
    "            # get the speaker name\n",
    "            speaker = sentence['speaker']\n",
    "            if speaker in input_speakers:\n",
    "                # tokenize the sentence\n",
    "                tokens = tokenize_method(sentence['text'])\n",
    "                for token in tokens:\n",
    "                    if token in input_good_types:\n",
    "                        word_occurrence_matrix[input_speakers.index(speaker)][input_good_types.index(token)] += 1\n",
    "        \n",
    "    return word_occurrence_matrix"
   ]
  },
  {
   "cell_type": "code",
   "execution_count": 76,
   "metadata": {
    "nbgrader": {
     "grade": false,
     "grade_id": "cell-4229598e63922f3b",
     "locked": true,
     "schema_version": 3,
     "solution": false
    }
   },
   "outputs": [],
   "source": [
    "word_matrix = create_word_occurrence_matrix(tokenize,deduped_transcripts,good_speakers,good_types)"
   ]
  },
  {
   "cell_type": "code",
   "execution_count": 77,
   "metadata": {
    "nbgrader": {
     "grade": true,
     "grade_id": "create_word_freq_array_test",
     "locked": true,
     "points": 20,
     "schema_version": 3,
     "solution": false
    }
   },
   "outputs": [],
   "source": [
    "# This is an autograder test. Here we can test the function you just wrote above.\n",
    "\"\"\"Check that create_word_freq_array returns the correct output\"\"\"\n",
    "assert sum(word_matrix[0]) > 26000.0\n",
    "assert sum(word_matrix[:,3]) > 40 and sum(word_matrix[:,3]) < 50\n",
    "assert type(word_matrix) == np.ndarray"
   ]
  },
  {
   "cell_type": "markdown",
   "metadata": {
    "nbgrader": {
     "grade": false,
     "grade_id": "cell-55cdd926451a2321",
     "locked": true,
     "schema_version": 3,
     "solution": false
    }
   },
   "source": [
    "## Question 9b (Free Response): Character Word Occurrences\n",
    "\n",
    "In the cell below, output the *top 10 most occurring words used by each character*, again in descending order, in the following format (if you encounter ties, then any ordering is acceptable):\n",
    "\n",
    "**Answer format**:\n",
    "\n",
    "```\n",
    "CHARACTER_NAME_A\n",
    "word_1\n",
    "word_2\n",
    "...\n",
    "word_10\n",
    "\n",
    "CHARACTER_NAME_B\n",
    "word_1\n",
    "word_2\n",
    "...\n",
    "word_10\n",
    "\n",
    "...\n",
    "```"
   ]
  },
  {
   "cell_type": "code",
   "execution_count": 78,
   "metadata": {
    "nbgrader": {
     "grade": true,
     "grade_id": "create_word_freq_array_ans",
     "locked": false,
     "points": 8,
     "schema_version": 3,
     "solution": true
    }
   },
   "outputs": [
    {
     "name": "stdout",
     "output_type": "stream",
     "text": [
      "BRUCE\n",
      "i\n",
      "you\n",
      "the\n",
      "s\n",
      "to\n",
      "it\n",
      "a\n",
      "and\n",
      "that\n",
      "this\n",
      "JONATHAN\n",
      "i\n",
      "you\n",
      "to\n",
      "the\n",
      "s\n",
      "a\n",
      "it\n",
      "and\n",
      "like\n",
      "this\n",
      "KHLOE\n",
      "i\n",
      "you\n",
      "to\n",
      "and\n",
      "s\n",
      "a\n",
      "the\n",
      "it\n",
      "that\n",
      "like\n",
      "KIM\n",
      "i\n",
      "you\n",
      "to\n",
      "and\n",
      "s\n",
      "the\n",
      "it\n",
      "a\n",
      "that\n",
      "like\n",
      "KOURTNEY\n",
      "i\n",
      "to\n",
      "you\n",
      "and\n",
      "s\n",
      "it\n",
      "the\n",
      "a\n",
      "that\n",
      "t\n",
      "KRIS\n",
      "i\n",
      "you\n",
      "to\n",
      "s\n",
      "the\n",
      "a\n",
      "and\n",
      "it\n",
      "that\n",
      "t\n",
      "ROBERT\n",
      "i\n",
      "to\n",
      "you\n",
      "s\n",
      "and\n",
      "a\n",
      "the\n",
      "just\n",
      "it\n",
      "that\n",
      "SCOTT\n",
      "i\n",
      "you\n",
      "to\n",
      "s\n",
      "the\n",
      "a\n",
      "it\n",
      "that\n",
      "and\n",
      "t\n"
     ]
    }
   ],
   "source": [
    "for speaker in range(n_speakers):\n",
    "    print(good_speakers[speaker])\n",
    "    word_array = np.array(word_matrix[speaker])\n",
    "    for i in range(10):\n",
    "        index = np.argmax(word_array)\n",
    "        print(good_types[index])\n",
    "        word_array[index] = 0"
   ]
  },
  {
   "cell_type": "markdown",
   "metadata": {
    "nbgrader": {
     "grade": false,
     "grade_id": "cell-fe5bd652435d4c18",
     "locked": true,
     "schema_version": 3,
     "solution": false
    }
   },
   "source": [
    "## Question 9c (Code Completion): Character Word Occurrences\n",
    "\n",
    "Using your `word_matrix`, identify the characters (in descending order of number of occurrences) who have said **all** of the following words: `[\"brother\", \"book\", \"best\"]`. \n",
    "\n",
    "Please note: a character must have spoken each word at least once to be included in your answer (if you encounter ties, then any ordering is acceptable).\n",
    "\n",
    "In the cell below, output your answer in the following format:\n",
    "\n",
    "**Answer format**:\n",
    "\n",
    "```\n",
    "brother\n",
    "CHARACTER_NAME_A occurrences_brother_A\n",
    "CHARACTER_NAME_B occurrences_brother_B\n",
    "...\n",
    "\n",
    "book\n",
    "CHARACTER_NAME_A occurrences_book_A\n",
    "CHARACTER_NAME_B occurrences_book_B\n",
    "...\n",
    "\n",
    "best\n",
    "CHARACTER_NAME_A occurrences_best_A\n",
    "CHARACTER_NAME_B occurrences_best_B\n",
    "...\n",
    "```\n"
   ]
  },
  {
   "cell_type": "code",
   "execution_count": 79,
   "metadata": {
    "nbgrader": {
     "grade": false,
     "grade_id": "cell-a1c70f3e0648642d",
     "locked": true,
     "schema_version": 3,
     "solution": false
    }
   },
   "outputs": [],
   "source": [
    "interesting_words = [\"brother\", \"book\", \"best\"]"
   ]
  },
  {
   "cell_type": "code",
   "execution_count": 80,
   "metadata": {
    "nbgrader": {
     "grade": true,
     "grade_id": "cell-51c7d3273a979ae8",
     "locked": false,
     "points": 10,
     "schema_version": 3,
     "solution": true
    }
   },
   "outputs": [
    {
     "name": "stdout",
     "output_type": "stream",
     "text": [
      "brother\n",
      "BRUCE 1\n",
      "KIM 44\n",
      "KOURTNEY 3\n",
      "KRIS 1\n",
      "SCOTT 2\n",
      "\n",
      "book\n",
      "BRUCE 2\n",
      "KIM 4\n",
      "KOURTNEY 1\n",
      "KRIS 6\n",
      "SCOTT 2\n",
      "\n",
      "best\n",
      "BRUCE 16\n",
      "KIM 20\n",
      "KOURTNEY 20\n",
      "KRIS 27\n",
      "SCOTT 4\n",
      "\n"
     ]
    }
   ],
   "source": [
    "interesting_words_index = [good_types.index(word) for word in interesting_words]\n",
    "word_array = word_matrix[...,interesting_words_index]\n",
    "\n",
    "# print(word_array)\n",
    "\n",
    "sayitall_speaker = []\n",
    "\n",
    "for speaker in range(n_speakers):\n",
    "    if(word_array[speaker][0] > 0 and  word_array[speaker][1] > 0 and word_array[speaker][1] > 0 ):\n",
    "        sayitall_speaker.append(good_speakers[speaker])\n",
    "\n",
    "for word in interesting_words:\n",
    "    print(word)\n",
    "    for speaker in sayitall_speaker:\n",
    "        print(speaker, int(word_array[good_speakers.index(speaker)][interesting_words.index(word)]))\n",
    "    print('')\n"
   ]
  },
  {
   "cell_type": "markdown",
   "metadata": {
    "nbgrader": {
     "grade": false,
     "grade_id": "cell-6a3402cec2421178",
     "locked": true,
     "schema_version": 3,
     "solution": false
    }
   },
   "source": [
    "## Question 10 (Code Completion): Word Character Counts\n",
    "\n",
    "In the questions below you will now be asked to determine *how many characters have used a specific word*? For example, how many characters have ever said \"botox\" in the show?\n",
    "\n",
    "The function below will require you to use the `word_matrix` from above to return a 1-D numpy array that reports the number of `good_speakers` that have uttered each word within `good_types`.\n",
    "The i-th entry of your answer array `word_character_count_array[i]` should be the number of characters that have uttered the word `good_types[i]`.\n",
    "\n",
    "Hint! Numpy is your friend :-)"
   ]
  },
  {
   "cell_type": "code",
   "execution_count": 81,
   "metadata": {
    "nbgrader": {
     "grade": false,
     "grade_id": "create_word_character_count_array",
     "locked": false,
     "schema_version": 3,
     "solution": true
    }
   },
   "outputs": [],
   "source": [
    "def create_word_character_count_array(word_freq_matrix):\n",
    "    \"\"\"Returns a numpy array of shape (n_good_types,) such that the \n",
    "    entry i indicates how many good_speakers have uttered word i.\n",
    "    \n",
    "    Params: { word_freq_matrix: a numpy matrix of shape (n_speakers, n_good_types) }\n",
    "    \n",
    "    Hint: You may want to consult the numpy documentation to make this easy.\n",
    "    \"\"\"\n",
    "    word_freq_matrix = word_freq_matrix.astype(bool).astype(int)\n",
    "    word_character_count_array = np.sum(word_freq_matrix, axis=0)\n",
    "    return word_character_count_array"
   ]
  },
  {
   "cell_type": "code",
   "execution_count": 82,
   "metadata": {
    "nbgrader": {
     "grade": false,
     "grade_id": "cell-11c569836da724f2",
     "locked": true,
     "schema_version": 3,
     "solution": false
    }
   },
   "outputs": [],
   "source": [
    "word_character_count_array = create_word_character_count_array(word_matrix)"
   ]
  },
  {
   "cell_type": "code",
   "execution_count": 83,
   "metadata": {
    "nbgrader": {
     "grade": true,
     "grade_id": "create_word_character_count_array_tests",
     "locked": true,
     "points": 15,
     "schema_version": 3,
     "solution": false
    }
   },
   "outputs": [],
   "source": [
    "# This is an autograder test. Here we can test the function you just wrote above.\n",
    "\"\"\"Check that create_character_word_count_array returns the correct output\"\"\"\n",
    "assert type(word_character_count_array) == np.ndarray\n",
    "assert word_character_count_array[0] == 8\n",
    "assert word_character_count_array[1] == 2"
   ]
  },
  {
   "cell_type": "markdown",
   "metadata": {
    "nbgrader": {
     "grade": false,
     "grade_id": "cell-bb8e24a9dd852d39",
     "locked": true,
     "schema_version": 3,
     "solution": false
    }
   },
   "source": [
    "## Question 10b (Free Response): Word Character Counts\n",
    "\n",
    "What are the first 10 words (sorted in alphabetical order) that are said by **at least 5** characters?\n",
    "\n",
    "In the cell below, give your answer in the following format:\n",
    "\n",
    "**Answer format**:\n",
    "\n",
    "```\n",
    "word_1\n",
    "word_2\n",
    "...\n",
    "word_10\n",
    "```\n"
   ]
  },
  {
   "cell_type": "code",
   "execution_count": 84,
   "metadata": {
    "nbgrader": {
     "grade": true,
     "grade_id": "cell-f64719c7d57ec17e",
     "locked": false,
     "points": 5,
     "schema_version": 3,
     "solution": true
    }
   },
   "outputs": [
    {
     "name": "stdout",
     "output_type": "stream",
     "text": [
      "a\n",
      "able\n",
      "about\n",
      "absolutely\n",
      "accept\n",
      "access\n",
      "account\n",
      "act\n",
      "acting\n",
      "active\n"
     ]
    }
   ],
   "source": [
    "index = 0\n",
    "for i in range(10):\n",
    "    while not(word_character_count_array[index] >= 5):\n",
    "        index += 1\n",
    "    print(good_types[index])\n",
    "    index += 1"
   ]
  },
  {
   "cell_type": "markdown",
   "metadata": {
    "nbgrader": {
     "grade": false,
     "grade_id": "cell-e055c738cea3d3b4",
     "locked": true,
     "schema_version": 3,
     "solution": false
    }
   },
   "source": [
    "## Question 11 (Code Completion): Specific Word Usage by Character\n",
    "\n",
    "The exercise in 9b didn't help much in understanding each character's diction, because common words are used too commonly anyway. We want to give more weight to less frequent (that is, more \"specific\") words, as they carry more information on the particularities of the characters.\n",
    "\n",
    "A simple way to do this is to score the words according to the ratio between how often a given character said the word and how often any of the *good speakers* said it.  \n",
    "\n",
    "This can be accomplished by dividing each column in the `word_array` matrix by its sum.\n",
    "\n",
    "**Note: as some words might never be said by the key characters we are considering, add 1 to the sum of each column to avoid division by 0**\n",
    "\n",
    "In the cell below, write a function that uses the methodology described above to return a weighted numpy array of *specific* words used by each character."
   ]
  },
  {
   "cell_type": "code",
   "execution_count": 85,
   "metadata": {
    "nbgrader": {
     "grade": false,
     "grade_id": "create_weighted_word_freq_array",
     "locked": false,
     "schema_version": 3,
     "solution": true
    }
   },
   "outputs": [],
   "source": [
    "def create_weighted_word_freq_array(input_word_array):\n",
    "    \"\"\"Returns a numpy array of shape n_speakers by n_good_types such that the \n",
    "    entry (ij) indicates how often speaker i says word j weighted by the above ratio.\n",
    "    \n",
    "    Note: You must add 1 to the sum of each column to avoid divison by 0 issues.\n",
    "    \n",
    "    Params: {input_word_array: Numpy Array}\n",
    "    Returns: Numpy Array\n",
    "    \"\"\"\n",
    "    word_count_array = np.sum(input_word_array, axis=0) + 1\n",
    "    weighted_word_freq_array = input_word_array / word_count_array\n",
    "    return weighted_word_freq_array"
   ]
  },
  {
   "cell_type": "code",
   "execution_count": 86,
   "metadata": {
    "nbgrader": {
     "grade": false,
     "grade_id": "cell-f3e0cd3d8309ecea",
     "locked": true,
     "schema_version": 3,
     "solution": false
    }
   },
   "outputs": [],
   "source": [
    "weighted_words = create_weighted_word_freq_array(word_matrix)"
   ]
  },
  {
   "cell_type": "code",
   "execution_count": 87,
   "metadata": {
    "nbgrader": {
     "grade": true,
     "grade_id": "create_weighted_word_freq_array_test",
     "locked": true,
     "points": 20,
     "schema_version": 3,
     "solution": false
    }
   },
   "outputs": [],
   "source": [
    "# This is an autograder test. Here we can test the function you just wrote above.\n",
    "\"\"\"Check that create_word_freq_array returns the correct output\"\"\"\n",
    "assert sum(weighted_words[:,7]) > 0.7\n",
    "assert type(weighted_words) == np.ndarray"
   ]
  },
  {
   "cell_type": "markdown",
   "metadata": {
    "nbgrader": {
     "grade": false,
     "grade_id": "cell-b2b74adae027c815",
     "locked": true,
     "schema_version": 3,
     "solution": false
    }
   },
   "source": [
    "## Question 11b (Free Response): Specific Word Usage by Character\n",
    "\n",
    "Use the next cell to output the top 10 most *specific* words (in descending order) used by each character in the following format:\n",
    "\n",
    "**Answer format**:\n",
    "\n",
    "```\n",
    "CHARACTER_NAME_A\n",
    "score_1 word_1\n",
    "score_2 word_2\n",
    "...\n",
    "score_10 word_10\n",
    "\n",
    "CHARACTER_NAME_B\n",
    "score_1 word_1\n",
    "score_2 word_2\n",
    "...\n",
    "score_10 word_10\n",
    "\n",
    "...\n",
    "```"
   ]
  },
  {
   "cell_type": "code",
   "execution_count": 88,
   "metadata": {},
   "outputs": [],
   "source": [
    "def print_top(input_words, show_scores):\n",
    "    \"\"\"Prints the top 10 words in the input_words array.\n",
    "    \n",
    "    Params: {input_words: Numpy Array,\n",
    "             show_scores: Boolean}\n",
    "    \"\"\"\n",
    "    word_ndarray = np.array(input_words)\n",
    "    for speaker in good_speakers:\n",
    "        print(speaker)\n",
    "        word_array = np.array(word_ndarray[good_speakers.index(speaker)])\n",
    "        for i in range(10):\n",
    "            index = np.argmax(word_array)\n",
    "            if show_scores:\n",
    "                print(round(word_array[index],2),good_types[index])\n",
    "            else:\n",
    "                print(good_types[index])\n",
    "            word_array[index] = 0\n",
    "        print('')"
   ]
  },
  {
   "cell_type": "code",
   "execution_count": 89,
   "metadata": {
    "nbgrader": {
     "grade": true,
     "grade_id": "create_weighted_word_freq_array_ans",
     "locked": false,
     "points": 5,
     "schema_version": 3,
     "solution": true
    },
    "scrolled": true
   },
   "outputs": [
    {
     "name": "stdout",
     "output_type": "stream",
     "text": [
      "BRUCE\n",
      "0.89 genetic\n",
      "0.88 hobby\n",
      "0.86 planners\n",
      "0.83 brake\n",
      "0.83 carpool\n",
      "0.83 presentation\n",
      "0.8 airplanes\n",
      "0.8 fooling\n",
      "0.8 language\n",
      "0.8 mcdonald\n",
      "\n",
      "JONATHAN\n",
      "0.91 erika\n",
      "0.89 katie\n",
      "0.89 pics\n",
      "0.8 awareness\n",
      "0.76 simon\n",
      "0.75 beckham\n",
      "0.75 carmen\n",
      "0.75 command\n",
      "0.75 homely\n",
      "0.75 oats\n",
      "\n",
      "KHLOE\n",
      "0.95 fur\n",
      "0.93 basic\n",
      "0.9 apparently\n",
      "0.89 campaign\n",
      "0.89 secure\n",
      "0.88 begins\n",
      "0.88 fulfilled\n",
      "0.88 furs\n",
      "0.88 moral\n",
      "0.86 creepy\n",
      "\n",
      "KIM\n",
      "0.91 amusing\n",
      "0.89 frizz\n",
      "0.89 song\n",
      "0.86 challenge\n",
      "0.83 hotwire\n",
      "0.83 humiliating\n",
      "0.83 punched\n",
      "0.81 airport\n",
      "0.8 advantage\n",
      "0.8 bruised\n",
      "\n",
      "KOURTNEY\n",
      "0.9 ho\n",
      "0.88 defensive\n",
      "0.83 busted\n",
      "0.83 escalated\n",
      "0.8 absurd\n",
      "0.8 cushion\n",
      "0.8 driveway\n",
      "0.8 prevent\n",
      "0.8 sober\n",
      "0.8 theb\n",
      "\n",
      "KRIS\n",
      "0.9 sweetie\n",
      "0.89 cristal\n",
      "0.88 cranky\n",
      "0.86 angeles\n",
      "0.86 chat\n",
      "0.86 kenneth\n",
      "0.86 los\n",
      "0.86 shops\n",
      "0.83 backup\n",
      "0.83 blew\n",
      "\n",
      "ROBERT\n",
      "0.88 email\n",
      "0.86 anal\n",
      "0.86 truly\n",
      "0.83 adrian\n",
      "0.83 scream\n",
      "0.8 acceptable\n",
      "0.8 overnight\n",
      "0.76 spoken\n",
      "0.75 bashing\n",
      "0.75 cheating\n",
      "\n",
      "SCOTT\n",
      "0.86 sitter\n",
      "0.75 exclamation\n",
      "0.75 gentlemen\n",
      "0.71 hooker\n",
      "0.67 absolute\n",
      "0.67 amigos\n",
      "0.67 assaulted\n",
      "0.67 bateman\n",
      "0.67 blessing\n",
      "0.67 brucinator\n",
      "\n"
     ]
    }
   ],
   "source": [
    "print_top(weighted_words, show_scores=True)"
   ]
  },
  {
   "cell_type": "markdown",
   "metadata": {
    "nbgrader": {
     "grade": false,
     "grade_id": "cell-8c3a58ca841fda7e",
     "locked": true,
     "schema_version": 3,
     "solution": false
    }
   },
   "source": [
    "## Question 11c (Free Response): Specific Word Usage by Character\n",
    "\n",
    "Now we can start to see interesting differences between the characters.\n",
    "\n",
    "Create a new Markdown cell below and use it to write a paragraph discussing the differences you find most striking."
   ]
  },
  {
   "attachments": {},
   "cell_type": "markdown",
   "metadata": {},
   "source": [
    "I didn't actually watch this show but it's interesting to observe that people does have a tendency in speaking whether consciously or subconsciously. Jonahthan likes to call people's name a lot, I guess? In his top 10 words there are erika, katie, beckham and carmen. Is Scott hispanic? he had amigos in his top 10 and other words that i don't actually understand. Kim says amusing and Khloe says apparently a lot, which is also some words that i'd prefer in real life talking. Anyway, these are just irresponsible assumption but it really says a lot about the characters."
   ]
  },
  {
   "cell_type": "markdown",
   "metadata": {
    "nbgrader": {
     "grade": false,
     "grade_id": "cell-ed4cc4acf7ec52c9",
     "locked": true,
     "schema_version": 3,
     "solution": false
    }
   },
   "source": [
    "This is the end of Assignment 1"
   ]
  }
 ],
 "metadata": {
  "celltoolbar": "Create Assignment",
  "kernelspec": {
   "display_name": "LangInfo",
   "language": "python",
   "name": "python3"
  },
  "language_info": {
   "codemirror_mode": {
    "name": "ipython",
    "version": 3
   },
   "file_extension": ".py",
   "mimetype": "text/x-python",
   "name": "python",
   "nbconvert_exporter": "python",
   "pygments_lexer": "ipython3",
   "version": "3.7.6"
  },
  "vscode": {
   "interpreter": {
    "hash": "98ca369906f7b70fe64afc73e530e378539d08b0e41e494e07f1eb5e7a313c26"
   }
  }
 },
 "nbformat": 4,
 "nbformat_minor": 2
}
